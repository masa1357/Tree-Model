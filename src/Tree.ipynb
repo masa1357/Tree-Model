{
 "cells": [
  {
   "cell_type": "code",
   "execution_count": 1,
   "metadata": {},
   "outputs": [],
   "source": [
    "import os\n",
    "import pandas as pd\n",
    "import numpy as np\n",
    "from typing import Dict, List\n",
    "import importlib\n",
    "from pathlib import Path\n",
    "import matplotlib.pyplot as plt\n",
    "import MeCab\n",
    "from scipy.spatial import distance\n",
    "from sklearn.metrics import accuracy_score, f1_score\n",
    "from sklearn.model_selection import KFold\n",
    "import os\n",
    "import yaml\n",
    "import seaborn as sns\n",
    "from sklearn.metrics import confusion_matrix\n",
    "import lightgbm as lgb\n"
   ]
  },
  {
   "cell_type": "code",
   "execution_count": 2,
   "metadata": {},
   "outputs": [],
   "source": [
    "# INFO: import local libraries\n",
    "import python.data_manager as dm\n",
    "import python.Mecab_processing as mp\n",
    "import python.util as util"
   ]
  },
  {
   "cell_type": "code",
   "execution_count": 3,
   "metadata": {},
   "outputs": [
    {
     "name": "stdout",
     "output_type": "stream",
     "text": [
      "BASE_PATH: /home/masa1357/Dockerdata/gitfile/Tree-Model\n",
      "DATA_PATH: /home/masa1357/Dockerdata/gitfile/Tree-Model/data\n",
      "MODEL_PATH: /home/masa1357/Dockerdata/gitfile/Tree-Model/model\n"
     ]
    }
   ],
   "source": [
    "BASE_PATH = Path.cwd().parent\n",
    "DATA_PATH = BASE_PATH / \"data\"\n",
    "MODEL_PATH = BASE_PATH / \"model\"\n",
    "print(f\"BASE_PATH: {BASE_PATH}\")\n",
    "print(f\"DATA_PATH: {DATA_PATH}\")\n",
    "print(f\"MODEL_PATH: {MODEL_PATH}\")"
   ]
  },
  {
   "cell_type": "code",
   "execution_count": 4,
   "metadata": {},
   "outputs": [
    {
     "name": "stderr",
     "output_type": "stream",
     "text": [
      "2024-08-15 04:17:02,946 : python.util : INFO : 34 : Test_message\n"
     ]
    }
   ],
   "source": [
    "importlib.reload(util)\n",
    "# ? logger読み込み\n",
    "name = \"TreeModel\"\n",
    "logger = util.set_logger()\n",
    "# ? seed値固定\n",
    "seed = 42\n",
    "util.set_seed(seed)"
   ]
  },
  {
   "cell_type": "code",
   "execution_count": 5,
   "metadata": {},
   "outputs": [
    {
     "name": "stderr",
     "output_type": "stream",
     "text": [
      "2024-08-15 04:17:02,958 : python.util.python.data_manager : INFO : 16 : setup Child logger : python.data_manager\n",
      "2024-08-15 04:17:02,959 : python.util.python.data_manager : INFO : 65 : Read /home/masa1357/Dockerdata/gitfile/Tree-Model/data/Reflection *.csv data...\n",
      "2024-08-15 04:17:02,960 : python.util.python.data_manager : INFO : 67 : Found files: [PosixPath('/home/masa1357/Dockerdata/gitfile/Tree-Model/data/Reflection/Course_C-2021-2_Reflection.csv'), PosixPath('/home/masa1357/Dockerdata/gitfile/Tree-Model/data/Reflection/Course_C-2022-1_Reflection.csv'), PosixPath('/home/masa1357/Dockerdata/gitfile/Tree-Model/data/Reflection/Course_C-2021-1_Reflection.csv')]\n",
      "2024-08-15 04:17:03,074 : python.util.python.data_manager : INFO : 74 : Total rows: 28275\n",
      "2024-08-15 04:17:03,075 : python.util.python.data_manager : INFO : 65 : Read /home/masa1357/Dockerdata/gitfile/Tree-Model/data/Grade *.csv data...\n",
      "2024-08-15 04:17:03,080 : python.util.python.data_manager : INFO : 67 : Found files: [PosixPath('/home/masa1357/Dockerdata/gitfile/Tree-Model/data/Grade/Course_C-2022-1_GradePoint.csv'), PosixPath('/home/masa1357/Dockerdata/gitfile/Tree-Model/data/Grade/Course_C-2021-1_GradePoint.csv'), PosixPath('/home/masa1357/Dockerdata/gitfile/Tree-Model/data/Grade/Course_C-2021-2_GradePoint.csv')]\n",
      "2024-08-15 04:17:03,086 : python.util.python.data_manager : INFO : 74 : Total rows: 378\n",
      "2024-08-15 04:17:03,123 : python.util.python.data_manager : INFO : 135 : df shape : (28275, 6)\n",
      "2024-08-15 04:17:03,125 : python.util.python.data_manager : INFO : 136 : cleaned_df shape : (20291, 6)\n",
      "2024-08-15 04:17:03,126 : python.util.python.data_manager : INFO : 137 : dumped 7984 rows.\n"
     ]
    },
    {
     "name": "stdout",
     "output_type": "stream",
     "text": [
      "[load data] start\n"
     ]
    },
    {
     "name": "stderr",
     "output_type": "stream",
     "text": [
      "2024-08-15 04:17:03,137 : python.util.python.data_manager : INFO : 146 : dump_df shape : (7984, 6)\n"
     ]
    },
    {
     "name": "stdout",
     "output_type": "stream",
     "text": [
      "[load data] done in 1.17 s\n"
     ]
    }
   ],
   "source": [
    "# ? データ読み込み\n",
    "# import python.data_manager as dm\n",
    "\n",
    "importlib.reload(dm)\n",
    "# argsでloggerの名前を送る\n",
    "args: Dict[str, object] = {\n",
    "    \"logger\": logger,\n",
    "    \"DATA_PATH\": DATA_PATH,\n",
    "    \"key\": \"userid\",\n",
    "    \"text\": \"answer_content\",\n",
    "    \"label\": \"grade\",\n",
    "    \"mode\": \"train-valid\",\n",
    "    \"split_rate\": [0.8, 0.2, 0],\n",
    "    \"seed\": seed,\n",
    "}\n",
    "\n",
    "with util.timer(\"load data\"):\n",
    "    dp = dm.DataProcessing(args)\n",
    "    train, valid = dp()"
   ]
  },
  {
   "cell_type": "code",
   "execution_count": 6,
   "metadata": {},
   "outputs": [
    {
     "data": {
      "text/html": [
       "<div>\n",
       "<style scoped>\n",
       "    .dataframe tbody tr th:only-of-type {\n",
       "        vertical-align: middle;\n",
       "    }\n",
       "\n",
       "    .dataframe tbody tr th {\n",
       "        vertical-align: top;\n",
       "    }\n",
       "\n",
       "    .dataframe thead th {\n",
       "        text-align: right;\n",
       "    }\n",
       "</style>\n",
       "<table border=\"1\" class=\"dataframe\">\n",
       "  <thead>\n",
       "    <tr style=\"text-align: right;\">\n",
       "      <th></th>\n",
       "      <th>userid</th>\n",
       "      <th>grade</th>\n",
       "      <th>text</th>\n",
       "      <th>course_number</th>\n",
       "      <th>question_number</th>\n",
       "      <th>label</th>\n",
       "    </tr>\n",
       "  </thead>\n",
       "  <tbody>\n",
       "    <tr>\n",
       "      <th>0</th>\n",
       "      <td>C-2022-1_U72</td>\n",
       "      <td>C</td>\n",
       "      <td>情報科学の時間で学習する内容や授業で使う教材システム評価方法の説明</td>\n",
       "      <td>01</td>\n",
       "      <td>1</td>\n",
       "      <td>2</td>\n",
       "    </tr>\n",
       "    <tr>\n",
       "      <th>1</th>\n",
       "      <td>C-2021-1_U70</td>\n",
       "      <td>D</td>\n",
       "      <td>授業の説明情報伝達の歴史を大まかに学んだ</td>\n",
       "      <td>01</td>\n",
       "      <td>1</td>\n",
       "      <td>3</td>\n",
       "    </tr>\n",
       "    <tr>\n",
       "      <th>2</th>\n",
       "      <td>C-2021-2_U103</td>\n",
       "      <td>B</td>\n",
       "      <td>情報教育が軽視されているが今の世の中で情報について知ることは必須である情報は伝送しやすい形に...</td>\n",
       "      <td>01</td>\n",
       "      <td>1</td>\n",
       "      <td>1</td>\n",
       "    </tr>\n",
       "    <tr>\n",
       "      <th>3</th>\n",
       "      <td>C-2021-2_U139</td>\n",
       "      <td>B</td>\n",
       "      <td>情報科学の発展は目覚ましくインタネットを使うことで様々な情報を２進数に変化し扱うことができる...</td>\n",
       "      <td>01</td>\n",
       "      <td>1</td>\n",
       "      <td>1</td>\n",
       "    </tr>\n",
       "    <tr>\n",
       "      <th>4</th>\n",
       "      <td>C-2022-1_U7</td>\n",
       "      <td>C</td>\n",
       "      <td>情報科学についてを知ることができました</td>\n",
       "      <td>01</td>\n",
       "      <td>1</td>\n",
       "      <td>2</td>\n",
       "    </tr>\n",
       "    <tr>\n",
       "      <th>...</th>\n",
       "      <td>...</td>\n",
       "      <td>...</td>\n",
       "      <td>...</td>\n",
       "      <td>...</td>\n",
       "      <td>...</td>\n",
       "      <td>...</td>\n",
       "    </tr>\n",
       "    <tr>\n",
       "      <th>22415</th>\n",
       "      <td>C-2022-1_U89</td>\n",
       "      <td>B</td>\n",
       "      <td>今日は60分間テストの後アンケトに答えて授業が終わるという日でしたので新たに知識を発見すると...</td>\n",
       "      <td>15</td>\n",
       "      <td>5</td>\n",
       "      <td>1</td>\n",
       "    </tr>\n",
       "    <tr>\n",
       "      <th>22421</th>\n",
       "      <td>C-2021-2_U46</td>\n",
       "      <td>D</td>\n",
       "      <td>情報量の計算はやりかたを覚えていなかったため解けなかった\\r\\n他の問題はそれなりに覚えてい...</td>\n",
       "      <td>15</td>\n",
       "      <td>5</td>\n",
       "      <td>3</td>\n",
       "    </tr>\n",
       "    <tr>\n",
       "      <th>22422</th>\n",
       "      <td>C-2021-1_U2</td>\n",
       "      <td>A</td>\n",
       "      <td>記述問題が難しかったが計算や選択問題は比較的できたと思う</td>\n",
       "      <td>15</td>\n",
       "      <td>5</td>\n",
       "      <td>0</td>\n",
       "    </tr>\n",
       "    <tr>\n",
       "      <th>22423</th>\n",
       "      <td>C-2021-1_U75</td>\n",
       "      <td>B</td>\n",
       "      <td>テストの時間が足りなかったのが残念だった情報科学の授業を通してコンピュタに関わる仕組みの基本...</td>\n",
       "      <td>15</td>\n",
       "      <td>5</td>\n",
       "      <td>1</td>\n",
       "    </tr>\n",
       "    <tr>\n",
       "      <th>22424</th>\n",
       "      <td>C-2021-2_U56</td>\n",
       "      <td>B</td>\n",
       "      <td>情報科学は専門を学ぶ中でも深く関わっていくと思うので授業内容を復習していきたい</td>\n",
       "      <td>15</td>\n",
       "      <td>5</td>\n",
       "      <td>1</td>\n",
       "    </tr>\n",
       "  </tbody>\n",
       "</table>\n",
       "<p>16142 rows × 6 columns</p>\n",
       "</div>"
      ],
      "text/plain": [
       "              userid grade                                               text  \\\n",
       "0       C-2022-1_U72     C                  情報科学の時間で学習する内容や授業で使う教材システム評価方法の説明   \n",
       "1       C-2021-1_U70     D                               授業の説明情報伝達の歴史を大まかに学んだ   \n",
       "2      C-2021-2_U103     B  情報教育が軽視されているが今の世の中で情報について知ることは必須である情報は伝送しやすい形に...   \n",
       "3      C-2021-2_U139     B  情報科学の発展は目覚ましくインタネットを使うことで様々な情報を２進数に変化し扱うことができる...   \n",
       "4        C-2022-1_U7     C                                情報科学についてを知ることができました   \n",
       "...              ...   ...                                                ...   \n",
       "22415   C-2022-1_U89     B  今日は60分間テストの後アンケトに答えて授業が終わるという日でしたので新たに知識を発見すると...   \n",
       "22421   C-2021-2_U46     D  情報量の計算はやりかたを覚えていなかったため解けなかった\\r\\n他の問題はそれなりに覚えてい...   \n",
       "22422    C-2021-1_U2     A                       記述問題が難しかったが計算や選択問題は比較的できたと思う   \n",
       "22423   C-2021-1_U75     B  テストの時間が足りなかったのが残念だった情報科学の授業を通してコンピュタに関わる仕組みの基本...   \n",
       "22424   C-2021-2_U56     B            情報科学は専門を学ぶ中でも深く関わっていくと思うので授業内容を復習していきたい   \n",
       "\n",
       "      course_number question_number  label  \n",
       "0                01               1      2  \n",
       "1                01               1      3  \n",
       "2                01               1      1  \n",
       "3                01               1      1  \n",
       "4                01               1      2  \n",
       "...             ...             ...    ...  \n",
       "22415            15               5      1  \n",
       "22421            15               5      3  \n",
       "22422            15               5      0  \n",
       "22423            15               5      1  \n",
       "22424            15               5      1  \n",
       "\n",
       "[16142 rows x 6 columns]"
      ]
     },
     "execution_count": 6,
     "metadata": {},
     "output_type": "execute_result"
    }
   ],
   "source": [
    "train"
   ]
  },
  {
   "cell_type": "markdown",
   "metadata": {},
   "source": [
    "### 簡単な可視化\n",
    "- 成績ごとの単語数分布\n",
    "- 質問ごとの単語数分布\n",
    "- 講義回数ごとの単語数分布\n",
    "  "
   ]
  },
  {
   "cell_type": "code",
   "execution_count": 7,
   "metadata": {},
   "outputs": [
    {
     "data": {
      "image/png": "[encoded data removed]",
      "text/plain": [
       "<Figure size 640x480 with 1 Axes>"
      ]
     },
     "metadata": {},
     "output_type": "display_data"
    }
   ],
   "source": [
    "# INFO: 成績ごとの単語数の分布を確認\n",
    "\n",
    "mecab = MeCab.Tagger()\n",
    "\n",
    "\n",
    "def count_words(text):\n",
    "    node = mecab.parseToNode(text)\n",
    "    word_count = 0\n",
    "    while node:\n",
    "        if node.surface:\n",
    "            word_count += 1\n",
    "        node = node.next\n",
    "    return word_count\n",
    "\n",
    "\n",
    "train[\"Words Per Text\"] = train[\"text\"].apply(count_words)\n",
    "train.boxplot(\n",
    "    column=\"Words Per Text\", by=\"grade\", grid=False, showfliers=False, color=\"black\"\n",
    ")\n",
    "\n",
    "plt.suptitle(\"\")\n",
    "plt.xlabel(\"Grade\")\n",
    "plt.show()"
   ]
  },
  {
   "cell_type": "code",
   "execution_count": 8,
   "metadata": {},
   "outputs": [
    {
     "data": {
      "image/png": "[encoded data removed]",
      "text/plain": [
       "<Figure size 640x480 with 1 Axes>"
      ]
     },
     "metadata": {},
     "output_type": "display_data"
    }
   ],
   "source": [
    "# INFO: 質問ごとの単語数の分布を確認\n",
    "train.boxplot(\n",
    "    column=\"Words Per Text\",\n",
    "    by=\"question_number\",\n",
    "    grid=False,\n",
    "    showfliers=False,\n",
    "    color=\"black\",\n",
    ")\n",
    "plt.suptitle(\"\")\n",
    "plt.xlabel(\"Question Number\")\n",
    "plt.show()"
   ]
  },
  {
   "cell_type": "code",
   "execution_count": 9,
   "metadata": {},
   "outputs": [
    {
     "data": {
      "image/png": "[encoded data removed]",
      "text/plain": [
       "<Figure size 640x480 with 1 Axes>"
      ]
     },
     "metadata": {},
     "output_type": "display_data"
    }
   ],
   "source": [
    "# INFO: 講義回数ごとの単語数の分布を確認\n",
    "train.boxplot(\n",
    "    column=\"Words Per Text\",\n",
    "    by=\"course_number\",\n",
    "    grid=False,\n",
    "    showfliers=False,\n",
    "    color=\"black\",\n",
    ")\n",
    "plt.suptitle(\"\")\n",
    "plt.xlabel(\"Course Number\")\n",
    "plt.show()"
   ]
  },
  {
   "cell_type": "markdown",
   "metadata": {},
   "source": [
    "## データを数値化してlightGBMに突っ込む"
   ]
  },
  {
   "cell_type": "markdown",
   "metadata": {},
   "source": [
    "### 生徒のデータ形式\n",
    "\n",
    "- `user_1`:\n",
    "  - 1-1, 1-2, 1-3, 1-4, 1-5  \n",
    "  - 2-1, 2-2, ..., 2-5  \n",
    "  - ...  \n",
    "  - 15-1, ..., 15-5\n",
    "\n",
    "- `user_2`:\n",
    "  - ...\n",
    "\n",
    "- 各生徒の持つデータ数は膨大\n",
    "- しかし全て有用であるため、とりあえず平均を使用して対応\n",
    "- 質問番号は\"1\"のみ用いることとする"
   ]
  },
  {
   "cell_type": "code",
   "execution_count": 10,
   "metadata": {},
   "outputs": [],
   "source": [
    "Input_df = pd.DataFrame()\n",
    "Valid_df = pd.DataFrame()"
   ]
  },
  {
   "cell_type": "markdown",
   "metadata": {},
   "source": [
    "### 1. 各文章の単語数\n",
    "大事だと思うから，全て突っ込む<br>\n",
    "数値の動きを擬似的な関数として定義するのもありかもしれないが，あとで考える"
   ]
  },
  {
   "cell_type": "code",
   "execution_count": 11,
   "metadata": {},
   "outputs": [
    {
     "data": {
      "text/html": [
       "<div>\n",
       "<style scoped>\n",
       "    .dataframe tbody tr th:only-of-type {\n",
       "        vertical-align: middle;\n",
       "    }\n",
       "\n",
       "    .dataframe tbody tr th {\n",
       "        vertical-align: top;\n",
       "    }\n",
       "\n",
       "    .dataframe thead th {\n",
       "        text-align: right;\n",
       "    }\n",
       "</style>\n",
       "<table border=\"1\" class=\"dataframe\">\n",
       "  <thead>\n",
       "    <tr style=\"text-align: right;\">\n",
       "      <th></th>\n",
       "      <th>userid</th>\n",
       "      <th>grade</th>\n",
       "      <th>text</th>\n",
       "      <th>course_number</th>\n",
       "      <th>question_number</th>\n",
       "      <th>label</th>\n",
       "      <th>Words Per Text</th>\n",
       "    </tr>\n",
       "  </thead>\n",
       "  <tbody>\n",
       "    <tr>\n",
       "      <th>0</th>\n",
       "      <td>C-2022-1_U72</td>\n",
       "      <td>C</td>\n",
       "      <td>18</td>\n",
       "      <td>01</td>\n",
       "      <td>1</td>\n",
       "      <td>2</td>\n",
       "      <td>18</td>\n",
       "    </tr>\n",
       "    <tr>\n",
       "      <th>1</th>\n",
       "      <td>C-2021-1_U70</td>\n",
       "      <td>D</td>\n",
       "      <td>12</td>\n",
       "      <td>01</td>\n",
       "      <td>1</td>\n",
       "      <td>3</td>\n",
       "      <td>12</td>\n",
       "    </tr>\n",
       "    <tr>\n",
       "      <th>2</th>\n",
       "      <td>C-2021-2_U103</td>\n",
       "      <td>B</td>\n",
       "      <td>74</td>\n",
       "      <td>01</td>\n",
       "      <td>1</td>\n",
       "      <td>1</td>\n",
       "      <td>74</td>\n",
       "    </tr>\n",
       "    <tr>\n",
       "      <th>3</th>\n",
       "      <td>C-2021-2_U139</td>\n",
       "      <td>B</td>\n",
       "      <td>38</td>\n",
       "      <td>01</td>\n",
       "      <td>1</td>\n",
       "      <td>1</td>\n",
       "      <td>38</td>\n",
       "    </tr>\n",
       "    <tr>\n",
       "      <th>4</th>\n",
       "      <td>C-2022-1_U7</td>\n",
       "      <td>C</td>\n",
       "      <td>12</td>\n",
       "      <td>01</td>\n",
       "      <td>1</td>\n",
       "      <td>2</td>\n",
       "      <td>12</td>\n",
       "    </tr>\n",
       "  </tbody>\n",
       "</table>\n",
       "</div>"
      ],
      "text/plain": [
       "          userid grade  text course_number question_number  label  \\\n",
       "0   C-2022-1_U72     C    18            01               1      2   \n",
       "1   C-2021-1_U70     D    12            01               1      3   \n",
       "2  C-2021-2_U103     B    74            01               1      1   \n",
       "3  C-2021-2_U139     B    38            01               1      1   \n",
       "4    C-2022-1_U7     C    12            01               1      2   \n",
       "\n",
       "   Words Per Text  \n",
       "0              18  \n",
       "1              12  \n",
       "2              74  \n",
       "3              38  \n",
       "4              12  "
      ]
     },
     "execution_count": 11,
     "metadata": {},
     "output_type": "execute_result"
    }
   ],
   "source": [
    "filter = \"1\"\n",
    "temp = train.copy()\n",
    "temp[\"text\"] = train[\"Words Per Text\"]\n",
    "temp.head()"
   ]
  },
  {
   "cell_type": "code",
   "execution_count": 12,
   "metadata": {},
   "outputs": [
    {
     "name": "stderr",
     "output_type": "stream",
     "text": [
      "/home/masa1357/Dockerdata/gitfile/Tree-Model/src/python/data_manager.py:285: SettingWithCopyWarning: \n",
      "A value is trying to be set on a copy of a slice from a DataFrame.\n",
      "Try using .loc[row_indexer,col_indexer] = value instead\n",
      "\n",
      "See the caveats in the documentation: https://pandas.pydata.org/pandas-docs/stable/user_guide/indexing.html#returning-a-view-versus-a-copy\n",
      "  df[\"new_column\"] = df.apply(create_column_name, axis=1)\n"
     ]
    },
    {
     "data": {
      "text/html": [
       "<div>\n",
       "<style scoped>\n",
       "    .dataframe tbody tr th:only-of-type {\n",
       "        vertical-align: middle;\n",
       "    }\n",
       "\n",
       "    .dataframe tbody tr th {\n",
       "        vertical-align: top;\n",
       "    }\n",
       "\n",
       "    .dataframe thead th {\n",
       "        text-align: right;\n",
       "    }\n",
       "</style>\n",
       "<table border=\"1\" class=\"dataframe\">\n",
       "  <thead>\n",
       "    <tr style=\"text-align: right;\">\n",
       "      <th>new_column</th>\n",
       "      <th>userid</th>\n",
       "      <th>label</th>\n",
       "      <th>01</th>\n",
       "      <th>02</th>\n",
       "      <th>03</th>\n",
       "      <th>04</th>\n",
       "      <th>05</th>\n",
       "      <th>06</th>\n",
       "      <th>07</th>\n",
       "      <th>08</th>\n",
       "      <th>09</th>\n",
       "      <th>10</th>\n",
       "      <th>11</th>\n",
       "      <th>12</th>\n",
       "      <th>13</th>\n",
       "      <th>14</th>\n",
       "      <th>15</th>\n",
       "    </tr>\n",
       "  </thead>\n",
       "  <tbody>\n",
       "    <tr>\n",
       "      <th>0</th>\n",
       "      <td>C-2021-1_U1</td>\n",
       "      <td>4</td>\n",
       "      <td>30</td>\n",
       "      <td>87</td>\n",
       "      <td>80</td>\n",
       "      <td>61</td>\n",
       "      <td>125</td>\n",
       "      <td>87</td>\n",
       "      <td>122</td>\n",
       "      <td>0</td>\n",
       "      <td>0</td>\n",
       "      <td>0</td>\n",
       "      <td>0</td>\n",
       "      <td>0</td>\n",
       "      <td>0</td>\n",
       "      <td>0</td>\n",
       "      <td>0</td>\n",
       "    </tr>\n",
       "    <tr>\n",
       "      <th>1</th>\n",
       "      <td>C-2021-1_U10</td>\n",
       "      <td>1</td>\n",
       "      <td>67</td>\n",
       "      <td>29</td>\n",
       "      <td>34</td>\n",
       "      <td>19</td>\n",
       "      <td>25</td>\n",
       "      <td>14</td>\n",
       "      <td>15</td>\n",
       "      <td>15</td>\n",
       "      <td>30</td>\n",
       "      <td>19</td>\n",
       "      <td>14</td>\n",
       "      <td>43</td>\n",
       "      <td>19</td>\n",
       "      <td>23</td>\n",
       "      <td>6</td>\n",
       "    </tr>\n",
       "    <tr>\n",
       "      <th>2</th>\n",
       "      <td>C-2021-1_U102</td>\n",
       "      <td>1</td>\n",
       "      <td>18</td>\n",
       "      <td>43</td>\n",
       "      <td>18</td>\n",
       "      <td>25</td>\n",
       "      <td>22</td>\n",
       "      <td>37</td>\n",
       "      <td>45</td>\n",
       "      <td>33</td>\n",
       "      <td>38</td>\n",
       "      <td>71</td>\n",
       "      <td>30</td>\n",
       "      <td>64</td>\n",
       "      <td>50</td>\n",
       "      <td>22</td>\n",
       "      <td>38</td>\n",
       "    </tr>\n",
       "    <tr>\n",
       "      <th>3</th>\n",
       "      <td>C-2021-1_U104</td>\n",
       "      <td>1</td>\n",
       "      <td>35</td>\n",
       "      <td>25</td>\n",
       "      <td>38</td>\n",
       "      <td>33</td>\n",
       "      <td>39</td>\n",
       "      <td>18</td>\n",
       "      <td>39</td>\n",
       "      <td>20</td>\n",
       "      <td>48</td>\n",
       "      <td>70</td>\n",
       "      <td>29</td>\n",
       "      <td>56</td>\n",
       "      <td>75</td>\n",
       "      <td>42</td>\n",
       "      <td>38</td>\n",
       "    </tr>\n",
       "    <tr>\n",
       "      <th>4</th>\n",
       "      <td>C-2021-1_U105</td>\n",
       "      <td>1</td>\n",
       "      <td>25</td>\n",
       "      <td>113</td>\n",
       "      <td>69</td>\n",
       "      <td>55</td>\n",
       "      <td>100</td>\n",
       "      <td>102</td>\n",
       "      <td>56</td>\n",
       "      <td>87</td>\n",
       "      <td>116</td>\n",
       "      <td>60</td>\n",
       "      <td>76</td>\n",
       "      <td>85</td>\n",
       "      <td>60</td>\n",
       "      <td>72</td>\n",
       "      <td>3</td>\n",
       "    </tr>\n",
       "  </tbody>\n",
       "</table>\n",
       "</div>"
      ],
      "text/plain": [
       "new_column         userid  label  01   02  03  04   05   06   07  08   09  10  \\\n",
       "0             C-2021-1_U1      4  30   87  80  61  125   87  122   0    0   0   \n",
       "1            C-2021-1_U10      1  67   29  34  19   25   14   15  15   30  19   \n",
       "2           C-2021-1_U102      1  18   43  18  25   22   37   45  33   38  71   \n",
       "3           C-2021-1_U104      1  35   25  38  33   39   18   39  20   48  70   \n",
       "4           C-2021-1_U105      1  25  113  69  55  100  102   56  87  116  60   \n",
       "\n",
       "new_column  11  12  13  14  15  \n",
       "0            0   0   0   0   0  \n",
       "1           14  43  19  23   6  \n",
       "2           30  64  50  22  38  \n",
       "3           29  56  75  42  38  \n",
       "4           76  85  60  72   3  "
      ]
     },
     "execution_count": 12,
     "metadata": {},
     "output_type": "execute_result"
    }
   ],
   "source": [
    "Qfilter_df = dm.encode(temp, logger=logger, filter=filter)\n",
    "Input_df = pd.concat([Input_df, Qfilter_df])\n",
    "Input_df = Input_df.replace(\"[NA]\", 0)\n",
    "Input_df.head()"
   ]
  },
  {
   "cell_type": "code",
   "execution_count": 13,
   "metadata": {},
   "outputs": [
    {
     "name": "stderr",
     "output_type": "stream",
     "text": [
      "/home/masa1357/Dockerdata/gitfile/Tree-Model/src/python/data_manager.py:285: SettingWithCopyWarning: \n",
      "A value is trying to be set on a copy of a slice from a DataFrame.\n",
      "Try using .loc[row_indexer,col_indexer] = value instead\n",
      "\n",
      "See the caveats in the documentation: https://pandas.pydata.org/pandas-docs/stable/user_guide/indexing.html#returning-a-view-versus-a-copy\n",
      "  df[\"new_column\"] = df.apply(create_column_name, axis=1)\n"
     ]
    },
    {
     "data": {
      "text/html": [
       "<div>\n",
       "<style scoped>\n",
       "    .dataframe tbody tr th:only-of-type {\n",
       "        vertical-align: middle;\n",
       "    }\n",
       "\n",
       "    .dataframe tbody tr th {\n",
       "        vertical-align: top;\n",
       "    }\n",
       "\n",
       "    .dataframe thead th {\n",
       "        text-align: right;\n",
       "    }\n",
       "</style>\n",
       "<table border=\"1\" class=\"dataframe\">\n",
       "  <thead>\n",
       "    <tr style=\"text-align: right;\">\n",
       "      <th>new_column</th>\n",
       "      <th>userid</th>\n",
       "      <th>label</th>\n",
       "      <th>01</th>\n",
       "      <th>02</th>\n",
       "      <th>03</th>\n",
       "      <th>04</th>\n",
       "      <th>05</th>\n",
       "      <th>06</th>\n",
       "      <th>07</th>\n",
       "      <th>08</th>\n",
       "      <th>09</th>\n",
       "      <th>10</th>\n",
       "      <th>11</th>\n",
       "      <th>12</th>\n",
       "      <th>13</th>\n",
       "      <th>14</th>\n",
       "      <th>15</th>\n",
       "    </tr>\n",
       "  </thead>\n",
       "  <tbody>\n",
       "    <tr>\n",
       "      <th>0</th>\n",
       "      <td>C-2021-1_U100</td>\n",
       "      <td>2</td>\n",
       "      <td>11</td>\n",
       "      <td>20</td>\n",
       "      <td>6</td>\n",
       "      <td>20</td>\n",
       "      <td>10</td>\n",
       "      <td>6</td>\n",
       "      <td>9</td>\n",
       "      <td>4</td>\n",
       "      <td>7</td>\n",
       "      <td>9</td>\n",
       "      <td>23</td>\n",
       "      <td>17</td>\n",
       "      <td>7</td>\n",
       "      <td>20</td>\n",
       "      <td>2</td>\n",
       "    </tr>\n",
       "    <tr>\n",
       "      <th>1</th>\n",
       "      <td>C-2021-1_U101</td>\n",
       "      <td>1</td>\n",
       "      <td>40</td>\n",
       "      <td>103</td>\n",
       "      <td>73</td>\n",
       "      <td>147</td>\n",
       "      <td>92</td>\n",
       "      <td>143</td>\n",
       "      <td>202</td>\n",
       "      <td>150</td>\n",
       "      <td>146</td>\n",
       "      <td>109</td>\n",
       "      <td>218</td>\n",
       "      <td>184</td>\n",
       "      <td>290</td>\n",
       "      <td>170</td>\n",
       "      <td>5</td>\n",
       "    </tr>\n",
       "    <tr>\n",
       "      <th>2</th>\n",
       "      <td>C-2021-1_U103</td>\n",
       "      <td>1</td>\n",
       "      <td>33</td>\n",
       "      <td>45</td>\n",
       "      <td>45</td>\n",
       "      <td>51</td>\n",
       "      <td>52</td>\n",
       "      <td>53</td>\n",
       "      <td>96</td>\n",
       "      <td>90</td>\n",
       "      <td>89</td>\n",
       "      <td>91</td>\n",
       "      <td>110</td>\n",
       "      <td>52</td>\n",
       "      <td>50</td>\n",
       "      <td>138</td>\n",
       "      <td>2</td>\n",
       "    </tr>\n",
       "    <tr>\n",
       "      <th>3</th>\n",
       "      <td>C-2021-1_U107</td>\n",
       "      <td>2</td>\n",
       "      <td>0</td>\n",
       "      <td>0</td>\n",
       "      <td>0</td>\n",
       "      <td>10</td>\n",
       "      <td>3</td>\n",
       "      <td>15</td>\n",
       "      <td>7</td>\n",
       "      <td>3</td>\n",
       "      <td>1</td>\n",
       "      <td>6</td>\n",
       "      <td>4</td>\n",
       "      <td>5</td>\n",
       "      <td>11</td>\n",
       "      <td>25</td>\n",
       "      <td>2</td>\n",
       "    </tr>\n",
       "    <tr>\n",
       "      <th>4</th>\n",
       "      <td>C-2021-1_U12</td>\n",
       "      <td>1</td>\n",
       "      <td>60</td>\n",
       "      <td>10</td>\n",
       "      <td>14</td>\n",
       "      <td>35</td>\n",
       "      <td>29</td>\n",
       "      <td>20</td>\n",
       "      <td>21</td>\n",
       "      <td>9</td>\n",
       "      <td>70</td>\n",
       "      <td>28</td>\n",
       "      <td>107</td>\n",
       "      <td>58</td>\n",
       "      <td>31</td>\n",
       "      <td>73</td>\n",
       "      <td>9</td>\n",
       "    </tr>\n",
       "  </tbody>\n",
       "</table>\n",
       "</div>"
      ],
      "text/plain": [
       "new_column         userid  label  01   02  03   04  05   06   07   08   09  \\\n",
       "0           C-2021-1_U100      2  11   20   6   20  10    6    9    4    7   \n",
       "1           C-2021-1_U101      1  40  103  73  147  92  143  202  150  146   \n",
       "2           C-2021-1_U103      1  33   45  45   51  52   53   96   90   89   \n",
       "3           C-2021-1_U107      2   0    0   0   10   3   15    7    3    1   \n",
       "4            C-2021-1_U12      1  60   10  14   35  29   20   21    9   70   \n",
       "\n",
       "new_column   10   11   12   13   14 15  \n",
       "0             9   23   17    7   20  2  \n",
       "1           109  218  184  290  170  5  \n",
       "2            91  110   52   50  138  2  \n",
       "3             6    4    5   11   25  2  \n",
       "4            28  107   58   31   73  9  "
      ]
     },
     "execution_count": 13,
     "metadata": {},
     "output_type": "execute_result"
    }
   ],
   "source": [
    "valid[\"Words Per Text\"] = valid[\"text\"].apply(count_words)\n",
    "temp = valid.copy()\n",
    "temp[\"text\"] = valid[\"Words Per Text\"]\n",
    "Qfilter_df = dm.encode(temp, logger=logger, filter=filter)\n",
    "Valid_df = pd.concat([Valid_df, Qfilter_df])\n",
    "Valid_df = Valid_df.replace(\"[NA]\", 0)\n",
    "Valid_df.head()"
   ]
  },
  {
   "cell_type": "markdown",
   "metadata": {},
   "source": [
    "### 2. 各文章内の0の数"
   ]
  },
  {
   "cell_type": "code",
   "execution_count": 14,
   "metadata": {},
   "outputs": [
    {
     "data": {
      "text/html": [
       "<div>\n",
       "<style scoped>\n",
       "    .dataframe tbody tr th:only-of-type {\n",
       "        vertical-align: middle;\n",
       "    }\n",
       "\n",
       "    .dataframe tbody tr th {\n",
       "        vertical-align: top;\n",
       "    }\n",
       "\n",
       "    .dataframe thead th {\n",
       "        text-align: right;\n",
       "    }\n",
       "</style>\n",
       "<table border=\"1\" class=\"dataframe\">\n",
       "  <thead>\n",
       "    <tr style=\"text-align: right;\">\n",
       "      <th>new_column</th>\n",
       "      <th>userid</th>\n",
       "      <th>label</th>\n",
       "      <th>01</th>\n",
       "      <th>02</th>\n",
       "      <th>03</th>\n",
       "      <th>04</th>\n",
       "      <th>05</th>\n",
       "      <th>06</th>\n",
       "      <th>07</th>\n",
       "      <th>08</th>\n",
       "      <th>09</th>\n",
       "      <th>10</th>\n",
       "      <th>11</th>\n",
       "      <th>12</th>\n",
       "      <th>13</th>\n",
       "      <th>14</th>\n",
       "      <th>15</th>\n",
       "      <th>zero_count</th>\n",
       "    </tr>\n",
       "  </thead>\n",
       "  <tbody>\n",
       "    <tr>\n",
       "      <th>0</th>\n",
       "      <td>C-2021-1_U1</td>\n",
       "      <td>4</td>\n",
       "      <td>30</td>\n",
       "      <td>87</td>\n",
       "      <td>80</td>\n",
       "      <td>61</td>\n",
       "      <td>125</td>\n",
       "      <td>87</td>\n",
       "      <td>122</td>\n",
       "      <td>0</td>\n",
       "      <td>0</td>\n",
       "      <td>0</td>\n",
       "      <td>0</td>\n",
       "      <td>0</td>\n",
       "      <td>0</td>\n",
       "      <td>0</td>\n",
       "      <td>0</td>\n",
       "      <td>8</td>\n",
       "    </tr>\n",
       "    <tr>\n",
       "      <th>1</th>\n",
       "      <td>C-2021-1_U10</td>\n",
       "      <td>1</td>\n",
       "      <td>67</td>\n",
       "      <td>29</td>\n",
       "      <td>34</td>\n",
       "      <td>19</td>\n",
       "      <td>25</td>\n",
       "      <td>14</td>\n",
       "      <td>15</td>\n",
       "      <td>15</td>\n",
       "      <td>30</td>\n",
       "      <td>19</td>\n",
       "      <td>14</td>\n",
       "      <td>43</td>\n",
       "      <td>19</td>\n",
       "      <td>23</td>\n",
       "      <td>6</td>\n",
       "      <td>0</td>\n",
       "    </tr>\n",
       "    <tr>\n",
       "      <th>2</th>\n",
       "      <td>C-2021-1_U102</td>\n",
       "      <td>1</td>\n",
       "      <td>18</td>\n",
       "      <td>43</td>\n",
       "      <td>18</td>\n",
       "      <td>25</td>\n",
       "      <td>22</td>\n",
       "      <td>37</td>\n",
       "      <td>45</td>\n",
       "      <td>33</td>\n",
       "      <td>38</td>\n",
       "      <td>71</td>\n",
       "      <td>30</td>\n",
       "      <td>64</td>\n",
       "      <td>50</td>\n",
       "      <td>22</td>\n",
       "      <td>38</td>\n",
       "      <td>0</td>\n",
       "    </tr>\n",
       "    <tr>\n",
       "      <th>3</th>\n",
       "      <td>C-2021-1_U104</td>\n",
       "      <td>1</td>\n",
       "      <td>35</td>\n",
       "      <td>25</td>\n",
       "      <td>38</td>\n",
       "      <td>33</td>\n",
       "      <td>39</td>\n",
       "      <td>18</td>\n",
       "      <td>39</td>\n",
       "      <td>20</td>\n",
       "      <td>48</td>\n",
       "      <td>70</td>\n",
       "      <td>29</td>\n",
       "      <td>56</td>\n",
       "      <td>75</td>\n",
       "      <td>42</td>\n",
       "      <td>38</td>\n",
       "      <td>0</td>\n",
       "    </tr>\n",
       "    <tr>\n",
       "      <th>4</th>\n",
       "      <td>C-2021-1_U105</td>\n",
       "      <td>1</td>\n",
       "      <td>25</td>\n",
       "      <td>113</td>\n",
       "      <td>69</td>\n",
       "      <td>55</td>\n",
       "      <td>100</td>\n",
       "      <td>102</td>\n",
       "      <td>56</td>\n",
       "      <td>87</td>\n",
       "      <td>116</td>\n",
       "      <td>60</td>\n",
       "      <td>76</td>\n",
       "      <td>85</td>\n",
       "      <td>60</td>\n",
       "      <td>72</td>\n",
       "      <td>3</td>\n",
       "      <td>0</td>\n",
       "    </tr>\n",
       "  </tbody>\n",
       "</table>\n",
       "</div>"
      ],
      "text/plain": [
       "new_column         userid  label  01   02  03  04   05   06   07  08   09  10  \\\n",
       "0             C-2021-1_U1      4  30   87  80  61  125   87  122   0    0   0   \n",
       "1            C-2021-1_U10      1  67   29  34  19   25   14   15  15   30  19   \n",
       "2           C-2021-1_U102      1  18   43  18  25   22   37   45  33   38  71   \n",
       "3           C-2021-1_U104      1  35   25  38  33   39   18   39  20   48  70   \n",
       "4           C-2021-1_U105      1  25  113  69  55  100  102   56  87  116  60   \n",
       "\n",
       "new_column  11  12  13  14  15  zero_count  \n",
       "0            0   0   0   0   0           8  \n",
       "1           14  43  19  23   6           0  \n",
       "2           30  64  50  22  38           0  \n",
       "3           29  56  75  42  38           0  \n",
       "4           76  85  60  72   3           0  "
      ]
     },
     "execution_count": 14,
     "metadata": {},
     "output_type": "execute_result"
    }
   ],
   "source": [
    "Input_df[\"zero_count\"] = Input_df.isin([0]).sum(axis=1)\n",
    "Valid_df[\"zero_count\"] = Valid_df.isin([0]).sum(axis=1)\n",
    "Input_df.head()"
   ]
  },
  {
   "cell_type": "markdown",
   "metadata": {},
   "source": [
    "### 3. 各文章のベクトル間距離\n",
    "多すぎるので，平均 / 中央値で保管する<br>\n",
    "使うのはユークリッド距離とコサイン距離"
   ]
  },
  {
   "cell_type": "code",
   "execution_count": 15,
   "metadata": {},
   "outputs": [
    {
     "name": "stdout",
     "output_type": "stream",
     "text": [
      "[Load Model...] start\n"
     ]
    },
    {
     "name": "stderr",
     "output_type": "stream",
     "text": [
      "  0%|          | 0/3795 [00:00<?, ?it/s]"
     ]
    },
    {
     "name": "stderr",
     "output_type": "stream",
     "text": [
      "100%|██████████| 3795/3795 [00:00<00:00, 6706.72it/s]\n",
      "2024-08-15 04:17:07,428 : python.util.python.Mecab_processing : INFO : 68 : loading word2vec model ...\n",
      "2024-08-15 04:17:07,467 : python.util.python.Mecab_processing : INFO : 70 : model loaded.\n"
     ]
    },
    {
     "name": "stdout",
     "output_type": "stream",
     "text": [
      "[Load Model...] done in 0.63 s\n"
     ]
    }
   ],
   "source": [
    "args: Dict[str, object] = {\n",
    "    \"logger\": logger,\n",
    "    \"MODEL_PATH\": MODEL_PATH,\n",
    "    \"seed\": seed,\n",
    "}\n",
    "\n",
    "with util.timer(\"Load Model...\"):\n",
    "    gs = mp.GetSentenceVector(args, train[train[\"question_number\"] == filter])"
   ]
  },
  {
   "cell_type": "code",
   "execution_count": 16,
   "metadata": {},
   "outputs": [
    {
     "data": {
      "text/html": [
       "<div>\n",
       "<style scoped>\n",
       "    .dataframe tbody tr th:only-of-type {\n",
       "        vertical-align: middle;\n",
       "    }\n",
       "\n",
       "    .dataframe tbody tr th {\n",
       "        vertical-align: top;\n",
       "    }\n",
       "\n",
       "    .dataframe thead th {\n",
       "        text-align: right;\n",
       "    }\n",
       "</style>\n",
       "<table border=\"1\" class=\"dataframe\">\n",
       "  <thead>\n",
       "    <tr style=\"text-align: right;\">\n",
       "      <th></th>\n",
       "      <th>userid</th>\n",
       "      <th>grade</th>\n",
       "      <th>text</th>\n",
       "      <th>course_number</th>\n",
       "      <th>question_number</th>\n",
       "      <th>label</th>\n",
       "      <th>Words Per Text</th>\n",
       "    </tr>\n",
       "  </thead>\n",
       "  <tbody>\n",
       "    <tr>\n",
       "      <th>0</th>\n",
       "      <td>C-2022-1_U72</td>\n",
       "      <td>C</td>\n",
       "      <td>情報科学の時間で学習する内容や授業で使う教材システム評価方法の説明</td>\n",
       "      <td>01</td>\n",
       "      <td>1</td>\n",
       "      <td>2</td>\n",
       "      <td>18</td>\n",
       "    </tr>\n",
       "    <tr>\n",
       "      <th>1</th>\n",
       "      <td>C-2021-1_U70</td>\n",
       "      <td>D</td>\n",
       "      <td>授業の説明情報伝達の歴史を大まかに学んだ</td>\n",
       "      <td>01</td>\n",
       "      <td>1</td>\n",
       "      <td>3</td>\n",
       "      <td>12</td>\n",
       "    </tr>\n",
       "    <tr>\n",
       "      <th>2</th>\n",
       "      <td>C-2021-2_U103</td>\n",
       "      <td>B</td>\n",
       "      <td>情報教育が軽視されているが今の世の中で情報について知ることは必須である情報は伝送しやすい形に...</td>\n",
       "      <td>01</td>\n",
       "      <td>1</td>\n",
       "      <td>1</td>\n",
       "      <td>74</td>\n",
       "    </tr>\n",
       "    <tr>\n",
       "      <th>3</th>\n",
       "      <td>C-2021-2_U139</td>\n",
       "      <td>B</td>\n",
       "      <td>情報科学の発展は目覚ましくインタネットを使うことで様々な情報を２進数に変化し扱うことができる...</td>\n",
       "      <td>01</td>\n",
       "      <td>1</td>\n",
       "      <td>1</td>\n",
       "      <td>38</td>\n",
       "    </tr>\n",
       "    <tr>\n",
       "      <th>4</th>\n",
       "      <td>C-2022-1_U7</td>\n",
       "      <td>C</td>\n",
       "      <td>情報科学についてを知ることができました</td>\n",
       "      <td>01</td>\n",
       "      <td>1</td>\n",
       "      <td>2</td>\n",
       "      <td>12</td>\n",
       "    </tr>\n",
       "    <tr>\n",
       "      <th>...</th>\n",
       "      <td>...</td>\n",
       "      <td>...</td>\n",
       "      <td>...</td>\n",
       "      <td>...</td>\n",
       "      <td>...</td>\n",
       "      <td>...</td>\n",
       "      <td>...</td>\n",
       "    </tr>\n",
       "    <tr>\n",
       "      <th>22415</th>\n",
       "      <td>C-2022-1_U89</td>\n",
       "      <td>B</td>\n",
       "      <td>今日は60分間テストの後アンケトに答えて授業が終わるという日でしたので新たに知識を発見すると...</td>\n",
       "      <td>15</td>\n",
       "      <td>5</td>\n",
       "      <td>1</td>\n",
       "      <td>129</td>\n",
       "    </tr>\n",
       "    <tr>\n",
       "      <th>22421</th>\n",
       "      <td>C-2021-2_U46</td>\n",
       "      <td>D</td>\n",
       "      <td>情報量の計算はやりかたを覚えていなかったため解けなかった\\r\\n他の問題はそれなりに覚えてい...</td>\n",
       "      <td>15</td>\n",
       "      <td>5</td>\n",
       "      <td>3</td>\n",
       "      <td>37</td>\n",
       "    </tr>\n",
       "    <tr>\n",
       "      <th>22422</th>\n",
       "      <td>C-2021-1_U2</td>\n",
       "      <td>A</td>\n",
       "      <td>記述問題が難しかったが計算や選択問題は比較的できたと思う</td>\n",
       "      <td>15</td>\n",
       "      <td>5</td>\n",
       "      <td>0</td>\n",
       "      <td>17</td>\n",
       "    </tr>\n",
       "    <tr>\n",
       "      <th>22423</th>\n",
       "      <td>C-2021-1_U75</td>\n",
       "      <td>B</td>\n",
       "      <td>テストの時間が足りなかったのが残念だった情報科学の授業を通してコンピュタに関わる仕組みの基本...</td>\n",
       "      <td>15</td>\n",
       "      <td>5</td>\n",
       "      <td>1</td>\n",
       "      <td>39</td>\n",
       "    </tr>\n",
       "    <tr>\n",
       "      <th>22424</th>\n",
       "      <td>C-2021-2_U56</td>\n",
       "      <td>B</td>\n",
       "      <td>情報科学は専門を学ぶ中でも深く関わっていくと思うので授業内容を復習していきたい</td>\n",
       "      <td>15</td>\n",
       "      <td>5</td>\n",
       "      <td>1</td>\n",
       "      <td>25</td>\n",
       "    </tr>\n",
       "  </tbody>\n",
       "</table>\n",
       "<p>16142 rows × 7 columns</p>\n",
       "</div>"
      ],
      "text/plain": [
       "              userid grade                                               text  \\\n",
       "0       C-2022-1_U72     C                  情報科学の時間で学習する内容や授業で使う教材システム評価方法の説明   \n",
       "1       C-2021-1_U70     D                               授業の説明情報伝達の歴史を大まかに学んだ   \n",
       "2      C-2021-2_U103     B  情報教育が軽視されているが今の世の中で情報について知ることは必須である情報は伝送しやすい形に...   \n",
       "3      C-2021-2_U139     B  情報科学の発展は目覚ましくインタネットを使うことで様々な情報を２進数に変化し扱うことができる...   \n",
       "4        C-2022-1_U7     C                                情報科学についてを知ることができました   \n",
       "...              ...   ...                                                ...   \n",
       "22415   C-2022-1_U89     B  今日は60分間テストの後アンケトに答えて授業が終わるという日でしたので新たに知識を発見すると...   \n",
       "22421   C-2021-2_U46     D  情報量の計算はやりかたを覚えていなかったため解けなかった\\r\\n他の問題はそれなりに覚えてい...   \n",
       "22422    C-2021-1_U2     A                       記述問題が難しかったが計算や選択問題は比較的できたと思う   \n",
       "22423   C-2021-1_U75     B  テストの時間が足りなかったのが残念だった情報科学の授業を通してコンピュタに関わる仕組みの基本...   \n",
       "22424   C-2021-2_U56     B            情報科学は専門を学ぶ中でも深く関わっていくと思うので授業内容を復習していきたい   \n",
       "\n",
       "      course_number question_number  label  Words Per Text  \n",
       "0                01               1      2              18  \n",
       "1                01               1      3              12  \n",
       "2                01               1      1              74  \n",
       "3                01               1      1              38  \n",
       "4                01               1      2              12  \n",
       "...             ...             ...    ...             ...  \n",
       "22415            15               5      1             129  \n",
       "22421            15               5      3              37  \n",
       "22422            15               5      0              17  \n",
       "22423            15               5      1              39  \n",
       "22424            15               5      1              25  \n",
       "\n",
       "[16142 rows x 7 columns]"
      ]
     },
     "execution_count": 16,
     "metadata": {},
     "output_type": "execute_result"
    }
   ],
   "source": [
    "train"
   ]
  },
  {
   "cell_type": "code",
   "execution_count": 17,
   "metadata": {},
   "outputs": [],
   "source": [
    "def cosine_similarity(vec1, vec2):\n",
    "    # ゼロベクトルのチェック\n",
    "    if np.linalg.norm(vec1) == 0 or np.linalg.norm(vec2) == 0:\n",
    "        return 0.0\n",
    "\n",
    "    # SciPyのコサイン距離を使用してコサイン類似度を計算\n",
    "    return 1 - distance.cosine(vec1, vec2)"
   ]
  },
  {
   "cell_type": "code",
   "execution_count": 18,
   "metadata": {},
   "outputs": [],
   "source": [
    "def get_vector_distance(df, filter=1):\n",
    "    logger.info(f\"Start get_vector_distance\")\n",
    "    Enc_df = dm.encode(df=df, logger=logger, filter=filter)\n",
    "    data_X = {}\n",
    "    data_Y = {}\n",
    "    texts = {}\n",
    "\n",
    "    for j in range(1, 16):\n",
    "        column_name = f\"{j:02d}\"\n",
    "        columns = [\"userid\", column_name, \"label\"]\n",
    "        with util.timer(f\"GetSentenceVector:{column_name}\"):\n",
    "            data_X[j], data_Y[j], texts[j] = gs(df=Enc_df[columns], key=column_name)\n",
    "\n",
    "    logger.info(f\"get Euclidean Distance\")\n",
    "    distances_df = pd.DataFrame()\n",
    "    with util.timer(f\"Calculate Euclidean Distance:\"):\n",
    "        # 全ての行に対して繰り返す\n",
    "        for j in range(len(data_X[1])):\n",
    "            for i in range(1, 15):\n",
    "                name = f\"euc_{i}:{i+1}\"\n",
    "                vec1 = data_X[i].iloc[j].values\n",
    "                vec2 = data_X[i + 1].iloc[j].values\n",
    "                distances_df.loc[j, name] = np.linalg.norm(vec1 - vec2)\n",
    "            # 全ての列の平均値を計算\n",
    "            distances_df.loc[j, \"euc_mean\"] = distances_df.loc[j].mean()\n",
    "    \n",
    "    logger.info(f\"get Cosine Distance\")\n",
    "    cosdist_df = pd.DataFrame()\n",
    "    with util.timer(f\"Calculate cosine Distance:\"):\n",
    "        for j in range(len(data_X[1])):\n",
    "            for i in range(1, 15):\n",
    "                name = f\"cos_{i}:{i+1}\"\n",
    "                vec1 = data_X[i].iloc[j].values\n",
    "                vec2 = data_X[i + 1].iloc[j].values\n",
    "                cosdist_df.loc[j, name] = 1 - cosine_similarity(vec1, vec2)\n",
    "            # 全ての列の平均値を計算\n",
    "            cosdist_df.loc[j, \"cos_mean\"] = cosdist_df.loc[j].mean()\n",
    "    cosdist_df[\"Category\"] = data_Y[1][\"category_id\"]\n",
    "\n",
    "    # df['Euclidean Distance'] = distances_df[\"mean\"]\n",
    "    # df['Cosine Distance'] = cosdist_df[\"mean\"]\n",
    "    \n",
    "    return distances_df, cosdist_df"
   ]
  },
  {
   "cell_type": "code",
   "execution_count": 19,
   "metadata": {},
   "outputs": [
    {
     "name": "stderr",
     "output_type": "stream",
     "text": [
      "2024-08-15 04:17:07,546 : python.util : INFO : 2 : Start get_vector_distance\n",
      "/home/masa1357/Dockerdata/gitfile/Tree-Model/src/python/data_manager.py:285: SettingWithCopyWarning: \n",
      "A value is trying to be set on a copy of a slice from a DataFrame.\n",
      "Try using .loc[row_indexer,col_indexer] = value instead\n",
      "\n",
      "See the caveats in the documentation: https://pandas.pydata.org/pandas-docs/stable/user_guide/indexing.html#returning-a-view-versus-a-copy\n",
      "  df[\"new_column\"] = df.apply(create_column_name, axis=1)\n"
     ]
    },
    {
     "name": "stdout",
     "output_type": "stream",
     "text": [
      "[GetSentenceVector:01] start\n"
     ]
    },
    {
     "name": "stderr",
     "output_type": "stream",
     "text": [
      "299it [00:00, 3868.93it/s]\n"
     ]
    },
    {
     "name": "stdout",
     "output_type": "stream",
     "text": [
      "[GetSentenceVector:01] done in 0.10 s\n",
      "[GetSentenceVector:02] start\n"
     ]
    },
    {
     "name": "stderr",
     "output_type": "stream",
     "text": [
      "299it [00:00, 2905.10it/s]\n"
     ]
    },
    {
     "name": "stdout",
     "output_type": "stream",
     "text": [
      "[GetSentenceVector:02] done in 0.13 s\n",
      "[GetSentenceVector:03] start\n"
     ]
    },
    {
     "name": "stderr",
     "output_type": "stream",
     "text": [
      "299it [00:00, 3483.52it/s]\n"
     ]
    },
    {
     "name": "stdout",
     "output_type": "stream",
     "text": [
      "[GetSentenceVector:03] done in 0.11 s\n",
      "[GetSentenceVector:04] start\n"
     ]
    },
    {
     "name": "stderr",
     "output_type": "stream",
     "text": [
      "299it [00:00, 3094.01it/s]\n"
     ]
    },
    {
     "name": "stdout",
     "output_type": "stream",
     "text": [
      "[GetSentenceVector:04] done in 0.12 s\n",
      "[GetSentenceVector:05] start\n"
     ]
    },
    {
     "name": "stderr",
     "output_type": "stream",
     "text": [
      "299it [00:00, 3218.97it/s]\n"
     ]
    },
    {
     "name": "stdout",
     "output_type": "stream",
     "text": [
      "[GetSentenceVector:05] done in 0.11 s\n",
      "[GetSentenceVector:06] start\n"
     ]
    },
    {
     "name": "stderr",
     "output_type": "stream",
     "text": [
      "299it [00:00, 2838.40it/s]\n"
     ]
    },
    {
     "name": "stdout",
     "output_type": "stream",
     "text": [
      "[GetSentenceVector:06] done in 0.13 s\n",
      "[GetSentenceVector:07] start\n"
     ]
    },
    {
     "name": "stderr",
     "output_type": "stream",
     "text": [
      "299it [00:00, 2914.84it/s]\n"
     ]
    },
    {
     "name": "stdout",
     "output_type": "stream",
     "text": [
      "[GetSentenceVector:07] done in 0.13 s\n",
      "[GetSentenceVector:08] start\n"
     ]
    },
    {
     "name": "stderr",
     "output_type": "stream",
     "text": [
      "299it [00:00, 2592.57it/s]\n"
     ]
    },
    {
     "name": "stdout",
     "output_type": "stream",
     "text": [
      "[GetSentenceVector:08] done in 0.14 s\n",
      "[GetSentenceVector:09] start\n"
     ]
    },
    {
     "name": "stderr",
     "output_type": "stream",
     "text": [
      "299it [00:00, 2390.93it/s]\n"
     ]
    },
    {
     "name": "stdout",
     "output_type": "stream",
     "text": [
      "[GetSentenceVector:09] done in 0.15 s\n",
      "[GetSentenceVector:10] start\n"
     ]
    },
    {
     "name": "stderr",
     "output_type": "stream",
     "text": [
      "299it [00:00, 2458.89it/s]\n"
     ]
    },
    {
     "name": "stdout",
     "output_type": "stream",
     "text": [
      "[GetSentenceVector:10] done in 0.16 s\n",
      "[GetSentenceVector:11] start\n"
     ]
    },
    {
     "name": "stderr",
     "output_type": "stream",
     "text": [
      "299it [00:00, 2000.36it/s]\n"
     ]
    },
    {
     "name": "stdout",
     "output_type": "stream",
     "text": [
      "[GetSentenceVector:11] done in 0.17 s\n",
      "[GetSentenceVector:12] start\n"
     ]
    },
    {
     "name": "stderr",
     "output_type": "stream",
     "text": [
      "299it [00:00, 2761.55it/s]\n"
     ]
    },
    {
     "name": "stdout",
     "output_type": "stream",
     "text": [
      "[GetSentenceVector:12] done in 0.13 s\n",
      "[GetSentenceVector:13] start\n"
     ]
    },
    {
     "name": "stderr",
     "output_type": "stream",
     "text": [
      "299it [00:00, 2392.07it/s]\n"
     ]
    },
    {
     "name": "stdout",
     "output_type": "stream",
     "text": [
      "[GetSentenceVector:13] done in 0.15 s\n",
      "[GetSentenceVector:14] start\n"
     ]
    },
    {
     "name": "stderr",
     "output_type": "stream",
     "text": [
      "299it [00:00, 2469.82it/s]\n"
     ]
    },
    {
     "name": "stdout",
     "output_type": "stream",
     "text": [
      "[GetSentenceVector:14] done in 0.14 s\n",
      "[GetSentenceVector:15] start\n"
     ]
    },
    {
     "name": "stderr",
     "output_type": "stream",
     "text": [
      "299it [00:00, 14848.24it/s]\n",
      "2024-08-15 04:17:09,617 : python.util : INFO : 14 : get Euclidean Distance\n"
     ]
    },
    {
     "name": "stdout",
     "output_type": "stream",
     "text": [
      "[GetSentenceVector:15] done in 0.04 s\n",
      "[Calculate Euclidean Distance:] start\n"
     ]
    },
    {
     "name": "stderr",
     "output_type": "stream",
     "text": [
      "2024-08-15 04:17:10,802 : python.util : INFO : 27 : get Cosine Distance\n"
     ]
    },
    {
     "name": "stdout",
     "output_type": "stream",
     "text": [
      "[Calculate Euclidean Distance:] done in 1.18 s\n",
      "[Calculate cosine Distance:] start\n"
     ]
    },
    {
     "name": "stderr",
     "output_type": "stream",
     "text": [
      "2024-08-15 04:17:12,143 : python.util : INFO : 2 : Start get_vector_distance\n",
      "/home/masa1357/Dockerdata/gitfile/Tree-Model/src/python/data_manager.py:285: SettingWithCopyWarning: \n",
      "A value is trying to be set on a copy of a slice from a DataFrame.\n",
      "Try using .loc[row_indexer,col_indexer] = value instead\n",
      "\n",
      "See the caveats in the documentation: https://pandas.pydata.org/pandas-docs/stable/user_guide/indexing.html#returning-a-view-versus-a-copy\n",
      "  df[\"new_column\"] = df.apply(create_column_name, axis=1)\n"
     ]
    },
    {
     "name": "stdout",
     "output_type": "stream",
     "text": [
      "[Calculate cosine Distance:] done in 1.34 s\n",
      "[GetSentenceVector:01] start\n"
     ]
    },
    {
     "name": "stderr",
     "output_type": "stream",
     "text": [
      "75it [00:00, 3298.00it/s]\n"
     ]
    },
    {
     "name": "stdout",
     "output_type": "stream",
     "text": [
      "[GetSentenceVector:01] done in 0.04 s\n",
      "[GetSentenceVector:02] start\n"
     ]
    },
    {
     "name": "stderr",
     "output_type": "stream",
     "text": [
      "75it [00:00, 2436.62it/s]\n"
     ]
    },
    {
     "name": "stdout",
     "output_type": "stream",
     "text": [
      "[GetSentenceVector:02] done in 0.04 s\n",
      "[GetSentenceVector:03] start\n"
     ]
    },
    {
     "name": "stderr",
     "output_type": "stream",
     "text": [
      "75it [00:00, 2869.77it/s]\n"
     ]
    },
    {
     "name": "stdout",
     "output_type": "stream",
     "text": [
      "[GetSentenceVector:03] done in 0.04 s\n",
      "[GetSentenceVector:04] start\n"
     ]
    },
    {
     "name": "stderr",
     "output_type": "stream",
     "text": [
      "75it [00:00, 2580.24it/s]\n"
     ]
    },
    {
     "name": "stdout",
     "output_type": "stream",
     "text": [
      "[GetSentenceVector:04] done in 0.04 s\n",
      "[GetSentenceVector:05] start\n"
     ]
    },
    {
     "name": "stderr",
     "output_type": "stream",
     "text": [
      "75it [00:00, 2736.08it/s]\n"
     ]
    },
    {
     "name": "stdout",
     "output_type": "stream",
     "text": [
      "[GetSentenceVector:05] done in 0.04 s\n",
      "[GetSentenceVector:06] start\n"
     ]
    },
    {
     "name": "stderr",
     "output_type": "stream",
     "text": [
      "75it [00:00, 2341.15it/s]\n"
     ]
    },
    {
     "name": "stdout",
     "output_type": "stream",
     "text": [
      "[GetSentenceVector:06] done in 0.04 s\n",
      "[GetSentenceVector:07] start\n"
     ]
    },
    {
     "name": "stderr",
     "output_type": "stream",
     "text": [
      "75it [00:00, 1575.72it/s]\n"
     ]
    },
    {
     "name": "stdout",
     "output_type": "stream",
     "text": [
      "[GetSentenceVector:07] done in 0.06 s\n",
      "[GetSentenceVector:08] start\n"
     ]
    },
    {
     "name": "stderr",
     "output_type": "stream",
     "text": [
      "75it [00:00, 2289.62it/s]\n"
     ]
    },
    {
     "name": "stdout",
     "output_type": "stream",
     "text": [
      "[GetSentenceVector:08] done in 0.05 s\n",
      "[GetSentenceVector:09] start\n"
     ]
    },
    {
     "name": "stderr",
     "output_type": "stream",
     "text": [
      "75it [00:00, 1453.08it/s]\n"
     ]
    },
    {
     "name": "stdout",
     "output_type": "stream",
     "text": [
      "[GetSentenceVector:09] done in 0.06 s\n",
      "[GetSentenceVector:10] start\n"
     ]
    },
    {
     "name": "stderr",
     "output_type": "stream",
     "text": [
      "75it [00:00, 1950.25it/s]\n"
     ]
    },
    {
     "name": "stdout",
     "output_type": "stream",
     "text": [
      "[GetSentenceVector:10] done in 0.05 s\n",
      "[GetSentenceVector:11] start\n"
     ]
    },
    {
     "name": "stderr",
     "output_type": "stream",
     "text": [
      "75it [00:00, 930.96it/s]\n"
     ]
    },
    {
     "name": "stdout",
     "output_type": "stream",
     "text": [
      "[GetSentenceVector:11] done in 0.09 s\n",
      "[GetSentenceVector:12] start\n"
     ]
    },
    {
     "name": "stderr",
     "output_type": "stream",
     "text": [
      "75it [00:00, 2201.07it/s]\n"
     ]
    },
    {
     "name": "stdout",
     "output_type": "stream",
     "text": [
      "[GetSentenceVector:12] done in 0.04 s\n",
      "[GetSentenceVector:13] start\n"
     ]
    },
    {
     "name": "stderr",
     "output_type": "stream",
     "text": [
      "75it [00:00, 1886.67it/s]\n"
     ]
    },
    {
     "name": "stdout",
     "output_type": "stream",
     "text": [
      "[GetSentenceVector:13] done in 0.05 s\n",
      "[GetSentenceVector:14] start\n"
     ]
    },
    {
     "name": "stderr",
     "output_type": "stream",
     "text": [
      "75it [00:00, 1756.80it/s]\n"
     ]
    },
    {
     "name": "stdout",
     "output_type": "stream",
     "text": [
      "[GetSentenceVector:14] done in 0.05 s\n",
      "[GetSentenceVector:15] start\n"
     ]
    },
    {
     "name": "stderr",
     "output_type": "stream",
     "text": [
      "75it [00:00, 14617.02it/s]\n",
      "2024-08-15 04:17:12,903 : python.util : INFO : 14 : get Euclidean Distance\n"
     ]
    },
    {
     "name": "stdout",
     "output_type": "stream",
     "text": [
      "[GetSentenceVector:15] done in 0.02 s\n",
      "[Calculate Euclidean Distance:] start\n"
     ]
    },
    {
     "name": "stderr",
     "output_type": "stream",
     "text": [
      "2024-08-15 04:17:13,202 : python.util : INFO : 27 : get Cosine Distance\n"
     ]
    },
    {
     "name": "stdout",
     "output_type": "stream",
     "text": [
      "[Calculate Euclidean Distance:] done in 0.30 s\n",
      "[Calculate cosine Distance:] start\n",
      "[Calculate cosine Distance:] done in 0.33 s\n"
     ]
    }
   ],
   "source": [
    "te_dist, tc_dist = get_vector_distance(train, filter=filter)\n",
    "ve_dist, vc_dist = get_vector_distance(valid, filter=filter)"
   ]
  },
  {
   "cell_type": "code",
   "execution_count": 20,
   "metadata": {},
   "outputs": [],
   "source": [
    "Input_df = pd.concat([Input_df, te_dist, tc_dist], axis=1)\n",
    "Valid_df = pd.concat([Valid_df, ve_dist, vc_dist], axis=1)"
   ]
  },
  {
   "cell_type": "code",
   "execution_count": 21,
   "metadata": {},
   "outputs": [
    {
     "data": {
      "text/html": [
       "<div>\n",
       "<style scoped>\n",
       "    .dataframe tbody tr th:only-of-type {\n",
       "        vertical-align: middle;\n",
       "    }\n",
       "\n",
       "    .dataframe tbody tr th {\n",
       "        vertical-align: top;\n",
       "    }\n",
       "\n",
       "    .dataframe thead th {\n",
       "        text-align: right;\n",
       "    }\n",
       "</style>\n",
       "<table border=\"1\" class=\"dataframe\">\n",
       "  <thead>\n",
       "    <tr style=\"text-align: right;\">\n",
       "      <th></th>\n",
       "      <th>userid</th>\n",
       "      <th>label</th>\n",
       "      <th>01</th>\n",
       "      <th>02</th>\n",
       "      <th>03</th>\n",
       "      <th>04</th>\n",
       "      <th>05</th>\n",
       "      <th>06</th>\n",
       "      <th>07</th>\n",
       "      <th>08</th>\n",
       "      <th>...</th>\n",
       "      <th>cos_7:8</th>\n",
       "      <th>cos_8:9</th>\n",
       "      <th>cos_9:10</th>\n",
       "      <th>cos_10:11</th>\n",
       "      <th>cos_11:12</th>\n",
       "      <th>cos_12:13</th>\n",
       "      <th>cos_13:14</th>\n",
       "      <th>cos_14:15</th>\n",
       "      <th>cos_mean</th>\n",
       "      <th>Category</th>\n",
       "    </tr>\n",
       "  </thead>\n",
       "  <tbody>\n",
       "    <tr>\n",
       "      <th>0</th>\n",
       "      <td>C-2021-1_U1</td>\n",
       "      <td>4</td>\n",
       "      <td>30</td>\n",
       "      <td>87</td>\n",
       "      <td>80</td>\n",
       "      <td>61</td>\n",
       "      <td>125</td>\n",
       "      <td>87</td>\n",
       "      <td>122</td>\n",
       "      <td>0</td>\n",
       "      <td>...</td>\n",
       "      <td>1.000000</td>\n",
       "      <td>1.000000</td>\n",
       "      <td>1.000000</td>\n",
       "      <td>1.000000</td>\n",
       "      <td>1.000000</td>\n",
       "      <td>1.000000</td>\n",
       "      <td>1.000000</td>\n",
       "      <td>1.000000</td>\n",
       "      <td>0.707963</td>\n",
       "      <td>4</td>\n",
       "    </tr>\n",
       "    <tr>\n",
       "      <th>1</th>\n",
       "      <td>C-2021-1_U10</td>\n",
       "      <td>1</td>\n",
       "      <td>67</td>\n",
       "      <td>29</td>\n",
       "      <td>34</td>\n",
       "      <td>19</td>\n",
       "      <td>25</td>\n",
       "      <td>14</td>\n",
       "      <td>15</td>\n",
       "      <td>15</td>\n",
       "      <td>...</td>\n",
       "      <td>0.609887</td>\n",
       "      <td>0.515429</td>\n",
       "      <td>0.433334</td>\n",
       "      <td>0.393881</td>\n",
       "      <td>0.387232</td>\n",
       "      <td>0.393316</td>\n",
       "      <td>0.410598</td>\n",
       "      <td>0.727928</td>\n",
       "      <td>0.419847</td>\n",
       "      <td>1</td>\n",
       "    </tr>\n",
       "    <tr>\n",
       "      <th>2</th>\n",
       "      <td>C-2021-1_U102</td>\n",
       "      <td>1</td>\n",
       "      <td>18</td>\n",
       "      <td>43</td>\n",
       "      <td>18</td>\n",
       "      <td>25</td>\n",
       "      <td>22</td>\n",
       "      <td>37</td>\n",
       "      <td>45</td>\n",
       "      <td>33</td>\n",
       "      <td>...</td>\n",
       "      <td>0.214902</td>\n",
       "      <td>0.303140</td>\n",
       "      <td>0.237677</td>\n",
       "      <td>0.299865</td>\n",
       "      <td>0.338421</td>\n",
       "      <td>0.154982</td>\n",
       "      <td>0.296944</td>\n",
       "      <td>0.292031</td>\n",
       "      <td>0.262619</td>\n",
       "      <td>1</td>\n",
       "    </tr>\n",
       "    <tr>\n",
       "      <th>3</th>\n",
       "      <td>C-2021-1_U104</td>\n",
       "      <td>1</td>\n",
       "      <td>35</td>\n",
       "      <td>25</td>\n",
       "      <td>38</td>\n",
       "      <td>33</td>\n",
       "      <td>39</td>\n",
       "      <td>18</td>\n",
       "      <td>39</td>\n",
       "      <td>20</td>\n",
       "      <td>...</td>\n",
       "      <td>0.365410</td>\n",
       "      <td>0.239215</td>\n",
       "      <td>0.177487</td>\n",
       "      <td>0.261569</td>\n",
       "      <td>0.398801</td>\n",
       "      <td>0.296292</td>\n",
       "      <td>0.282055</td>\n",
       "      <td>0.342060</td>\n",
       "      <td>0.297801</td>\n",
       "      <td>1</td>\n",
       "    </tr>\n",
       "    <tr>\n",
       "      <th>4</th>\n",
       "      <td>C-2021-1_U105</td>\n",
       "      <td>1</td>\n",
       "      <td>25</td>\n",
       "      <td>113</td>\n",
       "      <td>69</td>\n",
       "      <td>55</td>\n",
       "      <td>100</td>\n",
       "      <td>102</td>\n",
       "      <td>56</td>\n",
       "      <td>87</td>\n",
       "      <td>...</td>\n",
       "      <td>0.410393</td>\n",
       "      <td>0.278022</td>\n",
       "      <td>0.300838</td>\n",
       "      <td>0.370572</td>\n",
       "      <td>0.327690</td>\n",
       "      <td>0.269427</td>\n",
       "      <td>0.232159</td>\n",
       "      <td>0.693954</td>\n",
       "      <td>0.328433</td>\n",
       "      <td>1</td>\n",
       "    </tr>\n",
       "    <tr>\n",
       "      <th>...</th>\n",
       "      <td>...</td>\n",
       "      <td>...</td>\n",
       "      <td>...</td>\n",
       "      <td>...</td>\n",
       "      <td>...</td>\n",
       "      <td>...</td>\n",
       "      <td>...</td>\n",
       "      <td>...</td>\n",
       "      <td>...</td>\n",
       "      <td>...</td>\n",
       "      <td>...</td>\n",
       "      <td>...</td>\n",
       "      <td>...</td>\n",
       "      <td>...</td>\n",
       "      <td>...</td>\n",
       "      <td>...</td>\n",
       "      <td>...</td>\n",
       "      <td>...</td>\n",
       "      <td>...</td>\n",
       "      <td>...</td>\n",
       "      <td>...</td>\n",
       "    </tr>\n",
       "    <tr>\n",
       "      <th>294</th>\n",
       "      <td>C-2022-1_U92</td>\n",
       "      <td>3</td>\n",
       "      <td>9</td>\n",
       "      <td>18</td>\n",
       "      <td>30</td>\n",
       "      <td>30</td>\n",
       "      <td>30</td>\n",
       "      <td>8</td>\n",
       "      <td>34</td>\n",
       "      <td>13</td>\n",
       "      <td>...</td>\n",
       "      <td>0.422590</td>\n",
       "      <td>0.501284</td>\n",
       "      <td>0.251137</td>\n",
       "      <td>0.575468</td>\n",
       "      <td>0.499524</td>\n",
       "      <td>0.228513</td>\n",
       "      <td>0.244740</td>\n",
       "      <td>1.000000</td>\n",
       "      <td>0.392229</td>\n",
       "      <td>3</td>\n",
       "    </tr>\n",
       "    <tr>\n",
       "      <th>295</th>\n",
       "      <td>C-2022-1_U93</td>\n",
       "      <td>2</td>\n",
       "      <td>17</td>\n",
       "      <td>23</td>\n",
       "      <td>22</td>\n",
       "      <td>14</td>\n",
       "      <td>8</td>\n",
       "      <td>12</td>\n",
       "      <td>45</td>\n",
       "      <td>26</td>\n",
       "      <td>...</td>\n",
       "      <td>0.304963</td>\n",
       "      <td>0.290213</td>\n",
       "      <td>0.356644</td>\n",
       "      <td>0.298846</td>\n",
       "      <td>0.291675</td>\n",
       "      <td>0.301791</td>\n",
       "      <td>1.000000</td>\n",
       "      <td>1.000000</td>\n",
       "      <td>0.438704</td>\n",
       "      <td>2</td>\n",
       "    </tr>\n",
       "    <tr>\n",
       "      <th>296</th>\n",
       "      <td>C-2022-1_U94</td>\n",
       "      <td>2</td>\n",
       "      <td>34</td>\n",
       "      <td>39</td>\n",
       "      <td>48</td>\n",
       "      <td>32</td>\n",
       "      <td>37</td>\n",
       "      <td>29</td>\n",
       "      <td>29</td>\n",
       "      <td>25</td>\n",
       "      <td>...</td>\n",
       "      <td>0.400174</td>\n",
       "      <td>0.483298</td>\n",
       "      <td>0.510913</td>\n",
       "      <td>0.556429</td>\n",
       "      <td>0.501004</td>\n",
       "      <td>0.395705</td>\n",
       "      <td>0.479066</td>\n",
       "      <td>0.692518</td>\n",
       "      <td>0.451292</td>\n",
       "      <td>2</td>\n",
       "    </tr>\n",
       "    <tr>\n",
       "      <th>297</th>\n",
       "      <td>C-2022-1_U95</td>\n",
       "      <td>2</td>\n",
       "      <td>11</td>\n",
       "      <td>6</td>\n",
       "      <td>0</td>\n",
       "      <td>0</td>\n",
       "      <td>0</td>\n",
       "      <td>0</td>\n",
       "      <td>0</td>\n",
       "      <td>6</td>\n",
       "      <td>...</td>\n",
       "      <td>1.000000</td>\n",
       "      <td>0.181500</td>\n",
       "      <td>1.000000</td>\n",
       "      <td>1.000000</td>\n",
       "      <td>1.000000</td>\n",
       "      <td>1.000000</td>\n",
       "      <td>0.469333</td>\n",
       "      <td>1.000000</td>\n",
       "      <td>0.846040</td>\n",
       "      <td>2</td>\n",
       "    </tr>\n",
       "    <tr>\n",
       "      <th>298</th>\n",
       "      <td>C-2022-1_U96</td>\n",
       "      <td>1</td>\n",
       "      <td>40</td>\n",
       "      <td>187</td>\n",
       "      <td>247</td>\n",
       "      <td>151</td>\n",
       "      <td>107</td>\n",
       "      <td>104</td>\n",
       "      <td>121</td>\n",
       "      <td>185</td>\n",
       "      <td>...</td>\n",
       "      <td>0.148680</td>\n",
       "      <td>1.000000</td>\n",
       "      <td>1.000000</td>\n",
       "      <td>1.000000</td>\n",
       "      <td>0.245031</td>\n",
       "      <td>0.204364</td>\n",
       "      <td>0.181261</td>\n",
       "      <td>1.000000</td>\n",
       "      <td>0.441686</td>\n",
       "      <td>1</td>\n",
       "    </tr>\n",
       "  </tbody>\n",
       "</table>\n",
       "<p>299 rows × 49 columns</p>\n",
       "</div>"
      ],
      "text/plain": [
       "            userid  label  01   02   03   04   05   06   07   08  ...  \\\n",
       "0      C-2021-1_U1      4  30   87   80   61  125   87  122    0  ...   \n",
       "1     C-2021-1_U10      1  67   29   34   19   25   14   15   15  ...   \n",
       "2    C-2021-1_U102      1  18   43   18   25   22   37   45   33  ...   \n",
       "3    C-2021-1_U104      1  35   25   38   33   39   18   39   20  ...   \n",
       "4    C-2021-1_U105      1  25  113   69   55  100  102   56   87  ...   \n",
       "..             ...    ...  ..  ...  ...  ...  ...  ...  ...  ...  ...   \n",
       "294   C-2022-1_U92      3   9   18   30   30   30    8   34   13  ...   \n",
       "295   C-2022-1_U93      2  17   23   22   14    8   12   45   26  ...   \n",
       "296   C-2022-1_U94      2  34   39   48   32   37   29   29   25  ...   \n",
       "297   C-2022-1_U95      2  11    6    0    0    0    0    0    6  ...   \n",
       "298   C-2022-1_U96      1  40  187  247  151  107  104  121  185  ...   \n",
       "\n",
       "      cos_7:8   cos_8:9  cos_9:10 cos_10:11 cos_11:12 cos_12:13 cos_13:14  \\\n",
       "0    1.000000  1.000000  1.000000  1.000000  1.000000  1.000000  1.000000   \n",
       "1    0.609887  0.515429  0.433334  0.393881  0.387232  0.393316  0.410598   \n",
       "2    0.214902  0.303140  0.237677  0.299865  0.338421  0.154982  0.296944   \n",
       "3    0.365410  0.239215  0.177487  0.261569  0.398801  0.296292  0.282055   \n",
       "4    0.410393  0.278022  0.300838  0.370572  0.327690  0.269427  0.232159   \n",
       "..        ...       ...       ...       ...       ...       ...       ...   \n",
       "294  0.422590  0.501284  0.251137  0.575468  0.499524  0.228513  0.244740   \n",
       "295  0.304963  0.290213  0.356644  0.298846  0.291675  0.301791  1.000000   \n",
       "296  0.400174  0.483298  0.510913  0.556429  0.501004  0.395705  0.479066   \n",
       "297  1.000000  0.181500  1.000000  1.000000  1.000000  1.000000  0.469333   \n",
       "298  0.148680  1.000000  1.000000  1.000000  0.245031  0.204364  0.181261   \n",
       "\n",
       "     cos_14:15  cos_mean  Category  \n",
       "0     1.000000  0.707963         4  \n",
       "1     0.727928  0.419847         1  \n",
       "2     0.292031  0.262619         1  \n",
       "3     0.342060  0.297801         1  \n",
       "4     0.693954  0.328433         1  \n",
       "..         ...       ...       ...  \n",
       "294   1.000000  0.392229         3  \n",
       "295   1.000000  0.438704         2  \n",
       "296   0.692518  0.451292         2  \n",
       "297   1.000000  0.846040         2  \n",
       "298   1.000000  0.441686         1  \n",
       "\n",
       "[299 rows x 49 columns]"
      ]
     },
     "execution_count": 21,
     "metadata": {},
     "output_type": "execute_result"
    }
   ],
   "source": [
    "Input_df"
   ]
  },
  {
   "cell_type": "code",
   "execution_count": 22,
   "metadata": {},
   "outputs": [
    {
     "data": {
      "text/plain": [
       "<Axes: title={'center': 'cos_mean'}, xlabel='label'>"
      ]
     },
     "execution_count": 22,
     "metadata": {},
     "output_type": "execute_result"
    },
    {
     "data": {
      "image/png": "[encoded data removed]",
      "text/plain": [
       "<Figure size 640x480 with 1 Axes>"
      ]
     },
     "metadata": {},
     "output_type": "display_data"
    }
   ],
   "source": [
    "Input_df.boxplot(column='cos_mean', by='label', grid=False, showfliers=False, color='black')"
   ]
  },
  {
   "cell_type": "code",
   "execution_count": 23,
   "metadata": {},
   "outputs": [
    {
     "data": {
      "text/plain": [
       "<Axes: title={'center': 'cos_mean'}, xlabel='label'>"
      ]
     },
     "execution_count": 23,
     "metadata": {},
     "output_type": "execute_result"
    },
    {
     "data": {
      "image/png": "[encoded data removed]",
      "text/plain": [
       "<Figure size 640x480 with 1 Axes>"
      ]
     },
     "metadata": {},
     "output_type": "display_data"
    }
   ],
   "source": [
    "# INFO: このとき，Validを用いて分散表現を訓練していないことに留意すること．\n",
    "Valid_df.boxplot(column='cos_mean', by='label', grid=False, showfliers=False, color='black')"
   ]
  },
  {
   "cell_type": "markdown",
   "metadata": {},
   "source": [
    "### LightGBM Model の訓練"
   ]
  },
  {
   "cell_type": "code",
   "execution_count": 24,
   "metadata": {},
   "outputs": [],
   "source": [
    "X_train = Input_df.drop([\"label\", \"userid\"], axis=1)\n",
    "X_valid = Valid_df.drop([\"label\", \"userid\"], axis=1)\n",
    "y_train = Input_df[\"label\"]\n",
    "y_valid = Valid_df[\"label\"]"
   ]
  },
  {
   "cell_type": "code",
   "execution_count": 25,
   "metadata": {},
   "outputs": [],
   "source": [
    "X_train = X_train.astype(float)\n",
    "X_valid = X_valid.astype(float)\n",
    "y_train = y_train.astype(float)\n",
    "y_valid = y_valid.astype(float)"
   ]
  },
  {
   "cell_type": "code",
   "execution_count": 26,
   "metadata": {},
   "outputs": [],
   "source": [
    "# create dataset for lightgbm\n",
    "lgb_train = lgb.Dataset(X_train, y_train)\n",
    "lgb_eval = lgb.Dataset(X_valid, y_valid, reference=lgb_train)"
   ]
  },
  {
   "cell_type": "code",
   "execution_count": 27,
   "metadata": {},
   "outputs": [],
   "source": [
    "params = {\n",
    "    'objective': 'multiclass',\n",
    "    'num_class': 5,\n",
    "    'metric': 'multi_logloss',\n",
    "    'verbosity': -1,\n",
    "    'boosting_type': 'gbdt',\n",
    "    'num_iterations': 1000,\n",
    "    'max_depth': 12,\n",
    "    'learning_rate': 0.01,\n",
    "    'num_leaves': 31\n",
    "}\n",
    "\n",
    "\n",
    "# wandb.config.update(params)"
   ]
  },
  {
   "cell_type": "code",
   "execution_count": 28,
   "metadata": {},
   "outputs": [],
   "source": [
    "def Tree_kfold(X_train, y_train, X_valid, y_valid, params, table=None):\n",
    "    oof = np.zeros((X_train.shape[0], 5))\n",
    "    prediction = np.zeros((X_valid.shape[0], 5))\n",
    "\n",
    "    accuracies = []\n",
    "    f1_scores = []\n",
    "\n",
    "    kf = KFold(n_splits=5, shuffle=True, random_state=42)\n",
    "    for fold, (train_idx, valid_idx) in enumerate(kf.split(X_train)):\n",
    "        logger.info(f\"Fold {fold + 1}\")\n",
    "        X_trn = X_train[train_idx]\n",
    "        X_val = X_train[valid_idx]\n",
    "        y_trn = y_train[train_idx]\n",
    "        y_val = y_train[valid_idx]\n",
    "\n",
    "        lgb_train = lgb.Dataset(X_trn, y_trn)\n",
    "        lgb_eval = lgb.Dataset(X_val, y_val, reference=lgb_train)\n",
    "\n",
    "        # paramsが辞書形式か確認\n",
    "        logger.info(params)\n",
    "        logger.info(\"Train LightGBM Model\")\n",
    "        model = lgb.train(\n",
    "            params,\n",
    "            lgb_train,\n",
    "            valid_sets=[lgb_train, lgb_eval],\n",
    "            valid_names=[\"train\", \"valid\"],\n",
    "            callbacks=[wandb_callback(), lgb.early_stopping(stopping_rounds=100)],\n",
    "        )\n",
    "        logger.info(\"Predict Validation Data\")\n",
    "        oof[valid_idx] = model.predict(X_val, num_iteration=model.best_iteration)\n",
    "        # prediction += (\n",
    "        #     model.predict(X_valid, num_iteration=model.best_iteration) / kf.n_splits\n",
    "        # )\n",
    "\n",
    "        accuracy = accuracy_score(y_val, np.argmax(oof[valid_idx], axis=1))\n",
    "        logger.info(f\"Fold {fold + 1} Accuracy: {accuracy}\")\n",
    "        f1 = f1_score(y_val, np.argmax(oof[valid_idx], axis=1), average=\"macro\")\n",
    "        logger.info(f\"Fold {fold + 1} F1 Score: {f1}\")\n",
    "        accuracies.append(accuracy)\n",
    "        f1_scores.append(f1)\n",
    "        \n",
    "        # log wandb\n",
    "        if table is not None:\n",
    "            table.add_data(\n",
    "                params.get(\"objective\"),\n",
    "                params.get(\"num_class\"),\n",
    "                params.get(\"metric\"),\n",
    "                params.get(\"boosting_type\"),\n",
    "                params.get(\"num_iterations\"),\n",
    "                params.get(\"max_depth\"),\n",
    "                params.get(\"learning_rate\"),\n",
    "                params.get(\"num_leaves\"),\n",
    "                params.get(\"verbosity\"),\n",
    "                fold + 1,\n",
    "                accuracy,\n",
    "                f1,\n",
    "            )\n",
    "            wandb.log({\"Fold metrics\": table})\n",
    "        else:\n",
    "            pass\n",
    "            wandb.log({\"Fold\": fold + 1, \"Accuracy\": accuracy, \"F1 Score\": f1})\n",
    "\n",
    "    final_accuracy = np.mean(accuracies)\n",
    "    final_f1 = np.mean(f1_scores)\n",
    "    logger.info(f\"Final Accuracy: {final_accuracy}\")\n",
    "    logger.info(f\"Final F1 Score: {final_f1}\")\n",
    "\n",
    "    # predict validation data\n",
    "    lgb_train = lgb.Dataset(X_train, y_train)\n",
    "    lgb_eval = lgb.Dataset(X_valid, y_valid, reference=lgb_train)\n",
    "    logger.info(\"Predict Validation Data\")\n",
    "    valmodel = lgb.train(\n",
    "        params,\n",
    "        lgb_train,\n",
    "        valid_sets=[lgb_train, lgb_eval],\n",
    "        valid_names=[\"train\", \"valid\"],\n",
    "        callbacks=[wandb_callback(), lgb.early_stopping(stopping_rounds=100)],\n",
    "    )\n",
    "    prediction = valmodel.predict(X_valid, num_iteration=model.best_iteration)\n",
    "    valid_accuracy = accuracy_score(y_valid, np.argmax(prediction, axis=1))\n",
    "    valid_f1 = f1_score(y_valid, np.argmax(prediction, axis=1), average=\"macro\")\n",
    "    logger.info(f\"Validation Accuracy: {valid_accuracy}\")\n",
    "    logger.info(f\"Validation F1 Score: {valid_f1}\")\n",
    "\n",
    "    wandb.log({\"Final Accuracy\": final_accuracy, \"Final F1 Score\": final_f1})\n",
    "    wandb.log({\"Validation Accuracy\": valid_accuracy, \"Validation F1 Score\": valid_f1})"
   ]
  },
  {
   "cell_type": "code",
   "execution_count": 29,
   "metadata": {},
   "outputs": [],
   "source": [
    "def train_treemodel(X_train, y_train, X_valid, y_valid, params, table=None):\n",
    "    # train LightGBM model\n",
    "    print(params)\n",
    "    print(\"make dataset\")\n",
    "    lgb_train = lgb.Dataset(X_train, y_train)\n",
    "    lgb_eval = lgb.Dataset(X_valid, y_valid, reference=lgb_train)\n",
    "    logger.info(\"Train LightGBM Model\")\n",
    "    print(\"train model\")\n",
    "    model = lgb.train(\n",
    "        params,\n",
    "        lgb_train,\n",
    "        valid_sets=[lgb_train, lgb_eval],\n",
    "        valid_names=[\"train\", \"valid\"],\n",
    "        callbacks=[lgb.early_stopping(stopping_rounds=100)],\n",
    "    )\n",
    "    print(\"predict\")\n",
    "    # predict validation data\n",
    "    logger.info(\"Predict Validation Data\")\n",
    "    prediction = model.predict(X_valid, num_iteration=model.best_iteration)\n",
    "    # calculate metrics\n",
    "    accuracy = accuracy_score(y_valid, np.argmax(prediction, axis=1))\n",
    "    f1 = f1_score(y_valid, np.argmax(prediction, axis=1), average=\"macro\")\n",
    "\n",
    "    logger.info(f\"Accuracy: {accuracy}\")\n",
    "    logger.info(f\"F1 Score: {f1}\")\n",
    "\n",
    "    if table is not None:\n",
    "        table.add_data(\n",
    "            params.get(\"objective\"),\n",
    "            params.get(\"num_class\"),\n",
    "            params.get(\"metric\"),\n",
    "            params.get(\"boosting_type\"),\n",
    "            params.get(\"num_iterations\"),\n",
    "            params.get(\"max_depth\"),\n",
    "            params.get(\"learning_rate\"),\n",
    "            params.get(\"num_leaves\"),\n",
    "            params.get(\"verbosity\"),\n",
    "            accuracy,\n",
    "            f1,\n",
    "        )\n",
    "        # wandb.log({\"Metrics\": table})\n",
    "\n",
    "    # wandb.log({\"Accuracy\": accuracy, \"F1 Score\": f1})\n",
    "    #confusion matrixをwandbに保存\n",
    "    # wandb.sklearn.plot_confusion_matrix(y_valid, np.argmax(prediction, axis=1))\n",
    "\n",
    "    cf = confusion_matrix(y_valid, np.argmax(prediction, axis=1))\n",
    "    sns.heatmap(cf, annot=True, cmap='Blues')\n",
    "    plt.show()\n",
    "    \n",
    "\n",
    "    return model"
   ]
  },
  {
   "cell_type": "code",
   "execution_count": 30,
   "metadata": {},
   "outputs": [
    {
     "name": "stderr",
     "output_type": "stream",
     "text": [
      "2024-08-15 04:17:14,387 : python.util : INFO : 7 : Train LightGBM Model\n"
     ]
    },
    {
     "name": "stdout",
     "output_type": "stream",
     "text": [
      "{'objective': 'multiclass', 'num_class': 5, 'metric': 'multi_logloss', 'verbosity': -1, 'boosting_type': 'gbdt', 'num_iterations': 1000, 'max_depth': 12, 'learning_rate': 0.01, 'num_leaves': 31}\n",
      "make dataset\n",
      "train model\n"
     ]
    },
    {
     "name": "stderr",
     "output_type": "stream",
     "text": [
      "/usr/local/lib/python3.10/dist-packages/lightgbm/engine.py:172: UserWarning: Found `num_iterations` in params. Will use it instead of argument\n",
      "  _log_warning(f\"Found `{alias}` in params. Will use it instead of argument\")\n"
     ]
    },
    {
     "name": "stdout",
     "output_type": "stream",
     "text": [
      "Training until validation scores don't improve for 100 rounds\n"
     ]
    },
    {
     "name": "stderr",
     "output_type": "stream",
     "text": [
      "2024-08-15 04:17:56,921 : python.util : INFO : 18 : Predict Validation Data\n",
      "2024-08-15 04:17:56,930 : python.util : INFO : 24 : Accuracy: 1.0\n",
      "2024-08-15 04:17:56,931 : python.util : INFO : 25 : F1 Score: 1.0\n"
     ]
    },
    {
     "name": "stdout",
     "output_type": "stream",
     "text": [
      "Did not meet early stopping. Best iteration is:\n",
      "[1000]\ttrain's multi_logloss: 1.43498e-05\tvalid's multi_logloss: 1.80611e-05\n",
      "predict\n"
     ]
    },
    {
     "data": {
      "image/png": "[encoded data removed]",
      "text/plain": [
       "<Figure size 640x480 with 2 Axes>"
      ]
     },
     "metadata": {},
     "output_type": "display_data"
    },
    {
     "data": {
      "text/plain": [
       "<lightgbm.basic.Booster at 0x7f76880f12d0>"
      ]
     },
     "execution_count": 30,
     "metadata": {},
     "output_type": "execute_result"
    }
   ],
   "source": [
    "train_treemodel(\n",
    "    X_train.values, y_train.values, X_valid.values, y_valid.values, params\n",
    ")"
   ]
  }
 ],
 "metadata": {
  "kernelspec": {
   "display_name": "Python 3",
   "language": "python",
   "name": "python3"
  },
  "language_info": {
   "codemirror_mode": {
    "name": "ipython",
    "version": 3
   },
   "file_extension": ".py",
   "mimetype": "text/x-python",
   "name": "python",
   "nbconvert_exporter": "python",
   "pygments_lexer": "ipython3",
   "version": "3.10.12"
  }
 },
 "nbformat": 4,
 "nbformat_minor": 2
}
