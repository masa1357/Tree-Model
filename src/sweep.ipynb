{
 "cells": [
  {
   "cell_type": "code",
   "execution_count": 1,
   "metadata": {},
   "outputs": [],
   "source": [
    "import os\n",
    "import pandas as pd\n",
    "import numpy as np\n",
    "from typing import Dict, List\n",
    "import importlib\n",
    "from pathlib import Path\n",
    "import matplotlib.pyplot as plt\n",
    "import MeCab\n",
    "from scipy.spatial import distance\n",
    "from sklearn.metrics import accuracy_score, f1_score\n",
    "from sklearn.model_selection import KFold\n",
    "import os\n",
    "import yaml\n",
    "os.environ[\"WANDB_NOTEBOOK_NAME\"] = (\n",
    "    \"/home/masa1357/Dockerdata/gitfile/Tree-Model/src/sweep.ipynb\"\n",
    ")"
   ]
  },
  {
   "cell_type": "code",
   "execution_count": 2,
   "metadata": {},
   "outputs": [],
   "source": [
    "# INFO: import local libraries\n",
    "import python.data_manager as dm\n",
    "import python.Mecab_processing as mp\n",
    "import python.util as util"
   ]
  },
  {
   "cell_type": "code",
   "execution_count": 3,
   "metadata": {},
   "outputs": [
    {
     "name": "stdout",
     "output_type": "stream",
     "text": [
      "BASE_PATH: /home/masa1357/Dockerdata/gitfile/Tree-Model\n",
      "DATA_PATH: /home/masa1357/Dockerdata/gitfile/Tree-Model/data\n",
      "MODEL_PATH: /home/masa1357/Dockerdata/gitfile/Tree-Model/model\n"
     ]
    }
   ],
   "source": [
    "BASE_PATH = Path.cwd().parent\n",
    "DATA_PATH = BASE_PATH / \"data\"\n",
    "MODEL_PATH = BASE_PATH / \"model\"\n",
    "print(f\"BASE_PATH: {BASE_PATH}\")\n",
    "print(f\"DATA_PATH: {DATA_PATH}\")\n",
    "print(f\"MODEL_PATH: {MODEL_PATH}\")"
   ]
  },
  {
   "cell_type": "code",
   "execution_count": 4,
   "metadata": {},
   "outputs": [
    {
     "name": "stderr",
     "output_type": "stream",
     "text": [
      "2024-08-15 02:41:50,560 : python.util : INFO : 34 : Test_message\n"
     ]
    }
   ],
   "source": [
    "importlib.reload(util)\n",
    "# ? logger読み込み\n",
    "name = \"15-Ensemble\"\n",
    "logger = util.set_logger()\n",
    "# ? seed値固定\n",
    "seed = 42\n",
    "util.set_seed(seed)"
   ]
  },
  {
   "cell_type": "code",
   "execution_count": 5,
   "metadata": {},
   "outputs": [
    {
     "name": "stderr",
     "output_type": "stream",
     "text": [
      "2024-08-15 02:41:50,568 : python.util.python.data_manager : INFO : 16 : setup Child logger : python.data_manager\n",
      "2024-08-15 02:41:50,568 : python.util.python.data_manager : INFO : 65 : Read /home/masa1357/Dockerdata/gitfile/Tree-Model/data/Reflection *.csv data...\n",
      "2024-08-15 02:41:50,570 : python.util.python.data_manager : INFO : 67 : Found files: [PosixPath('/home/masa1357/Dockerdata/gitfile/Tree-Model/data/Reflection/Course_C-2021-2_Reflection.csv'), PosixPath('/home/masa1357/Dockerdata/gitfile/Tree-Model/data/Reflection/Course_C-2022-1_Reflection.csv'), PosixPath('/home/masa1357/Dockerdata/gitfile/Tree-Model/data/Reflection/Course_C-2021-1_Reflection.csv')]\n",
      "2024-08-15 02:41:50,648 : python.util.python.data_manager : INFO : 74 : Total rows: 28275\n",
      "2024-08-15 02:41:50,649 : python.util.python.data_manager : INFO : 65 : Read /home/masa1357/Dockerdata/gitfile/Tree-Model/data/Grade *.csv data...\n",
      "2024-08-15 02:41:50,650 : python.util.python.data_manager : INFO : 67 : Found files: [PosixPath('/home/masa1357/Dockerdata/gitfile/Tree-Model/data/Grade/Course_C-2022-1_GradePoint.csv'), PosixPath('/home/masa1357/Dockerdata/gitfile/Tree-Model/data/Grade/Course_C-2021-1_GradePoint.csv'), PosixPath('/home/masa1357/Dockerdata/gitfile/Tree-Model/data/Grade/Course_C-2021-2_GradePoint.csv')]\n",
      "2024-08-15 02:41:50,656 : python.util.python.data_manager : INFO : 74 : Total rows: 378\n",
      "2024-08-15 02:41:50,680 : python.util.python.data_manager : INFO : 135 : df shape : (28275, 6)\n",
      "2024-08-15 02:41:50,681 : python.util.python.data_manager : INFO : 136 : cleaned_df shape : (20291, 6)\n",
      "2024-08-15 02:41:50,682 : python.util.python.data_manager : INFO : 137 : dumped 7984 rows.\n",
      "2024-08-15 02:41:50,690 : python.util.python.data_manager : INFO : 146 : dump_df shape : (7984, 6)\n"
     ]
    },
    {
     "name": "stdout",
     "output_type": "stream",
     "text": [
      "[load data] start\n",
      "[load data] done in 0.71 s\n"
     ]
    }
   ],
   "source": [
    "# ? データ読み込み\n",
    "# import python.data_manager as dm\n",
    "\n",
    "importlib.reload(dm)\n",
    "# argsでloggerの名前を送る\n",
    "args: Dict[str, object] = {\n",
    "    \"logger\": logger,\n",
    "    \"DATA_PATH\": DATA_PATH,\n",
    "    \"key\": \"userid\",\n",
    "    \"text\": \"answer_content\",\n",
    "    \"label\": \"grade\",\n",
    "    \"mode\": \"train-valid\",\n",
    "    \"split_rate\": [0.8, 0.2, 0],\n",
    "    \"seed\": seed,\n",
    "}\n",
    "\n",
    "with util.timer(\"load data\"):\n",
    "    dp = dm.DataProcessing(args)\n",
    "    train, valid = dp()"
   ]
  },
  {
   "cell_type": "code",
   "execution_count": 6,
   "metadata": {},
   "outputs": [
    {
     "data": {
      "text/html": [
       "<div>\n",
       "<style scoped>\n",
       "    .dataframe tbody tr th:only-of-type {\n",
       "        vertical-align: middle;\n",
       "    }\n",
       "\n",
       "    .dataframe tbody tr th {\n",
       "        vertical-align: top;\n",
       "    }\n",
       "\n",
       "    .dataframe thead th {\n",
       "        text-align: right;\n",
       "    }\n",
       "</style>\n",
       "<table border=\"1\" class=\"dataframe\">\n",
       "  <thead>\n",
       "    <tr style=\"text-align: right;\">\n",
       "      <th></th>\n",
       "      <th>userid</th>\n",
       "      <th>grade</th>\n",
       "      <th>text</th>\n",
       "      <th>course_number</th>\n",
       "      <th>question_number</th>\n",
       "      <th>label</th>\n",
       "    </tr>\n",
       "  </thead>\n",
       "  <tbody>\n",
       "    <tr>\n",
       "      <th>0</th>\n",
       "      <td>C-2022-1_U72</td>\n",
       "      <td>C</td>\n",
       "      <td>情報科学の時間で学習する内容や授業で使う教材システム評価方法の説明</td>\n",
       "      <td>01</td>\n",
       "      <td>1</td>\n",
       "      <td>2</td>\n",
       "    </tr>\n",
       "    <tr>\n",
       "      <th>1</th>\n",
       "      <td>C-2021-1_U70</td>\n",
       "      <td>D</td>\n",
       "      <td>授業の説明情報伝達の歴史を大まかに学んだ</td>\n",
       "      <td>01</td>\n",
       "      <td>1</td>\n",
       "      <td>3</td>\n",
       "    </tr>\n",
       "    <tr>\n",
       "      <th>2</th>\n",
       "      <td>C-2021-2_U103</td>\n",
       "      <td>B</td>\n",
       "      <td>情報教育が軽視されているが今の世の中で情報について知ることは必須である情報は伝送しやすい形に...</td>\n",
       "      <td>01</td>\n",
       "      <td>1</td>\n",
       "      <td>1</td>\n",
       "    </tr>\n",
       "    <tr>\n",
       "      <th>3</th>\n",
       "      <td>C-2021-2_U139</td>\n",
       "      <td>B</td>\n",
       "      <td>情報科学の発展は目覚ましくインタネットを使うことで様々な情報を２進数に変化し扱うことができる...</td>\n",
       "      <td>01</td>\n",
       "      <td>1</td>\n",
       "      <td>1</td>\n",
       "    </tr>\n",
       "    <tr>\n",
       "      <th>4</th>\n",
       "      <td>C-2022-1_U7</td>\n",
       "      <td>C</td>\n",
       "      <td>情報科学についてを知ることができました</td>\n",
       "      <td>01</td>\n",
       "      <td>1</td>\n",
       "      <td>2</td>\n",
       "    </tr>\n",
       "    <tr>\n",
       "      <th>...</th>\n",
       "      <td>...</td>\n",
       "      <td>...</td>\n",
       "      <td>...</td>\n",
       "      <td>...</td>\n",
       "      <td>...</td>\n",
       "      <td>...</td>\n",
       "    </tr>\n",
       "    <tr>\n",
       "      <th>22415</th>\n",
       "      <td>C-2022-1_U89</td>\n",
       "      <td>B</td>\n",
       "      <td>今日は60分間テストの後アンケトに答えて授業が終わるという日でしたので新たに知識を発見すると...</td>\n",
       "      <td>15</td>\n",
       "      <td>5</td>\n",
       "      <td>1</td>\n",
       "    </tr>\n",
       "    <tr>\n",
       "      <th>22421</th>\n",
       "      <td>C-2021-2_U46</td>\n",
       "      <td>D</td>\n",
       "      <td>情報量の計算はやりかたを覚えていなかったため解けなかった\\r\\n他の問題はそれなりに覚えてい...</td>\n",
       "      <td>15</td>\n",
       "      <td>5</td>\n",
       "      <td>3</td>\n",
       "    </tr>\n",
       "    <tr>\n",
       "      <th>22422</th>\n",
       "      <td>C-2021-1_U2</td>\n",
       "      <td>A</td>\n",
       "      <td>記述問題が難しかったが計算や選択問題は比較的できたと思う</td>\n",
       "      <td>15</td>\n",
       "      <td>5</td>\n",
       "      <td>0</td>\n",
       "    </tr>\n",
       "    <tr>\n",
       "      <th>22423</th>\n",
       "      <td>C-2021-1_U75</td>\n",
       "      <td>B</td>\n",
       "      <td>テストの時間が足りなかったのが残念だった情報科学の授業を通してコンピュタに関わる仕組みの基本...</td>\n",
       "      <td>15</td>\n",
       "      <td>5</td>\n",
       "      <td>1</td>\n",
       "    </tr>\n",
       "    <tr>\n",
       "      <th>22424</th>\n",
       "      <td>C-2021-2_U56</td>\n",
       "      <td>B</td>\n",
       "      <td>情報科学は専門を学ぶ中でも深く関わっていくと思うので授業内容を復習していきたい</td>\n",
       "      <td>15</td>\n",
       "      <td>5</td>\n",
       "      <td>1</td>\n",
       "    </tr>\n",
       "  </tbody>\n",
       "</table>\n",
       "<p>16142 rows × 6 columns</p>\n",
       "</div>"
      ],
      "text/plain": [
       "              userid grade                                               text  \\\n",
       "0       C-2022-1_U72     C                  情報科学の時間で学習する内容や授業で使う教材システム評価方法の説明   \n",
       "1       C-2021-1_U70     D                               授業の説明情報伝達の歴史を大まかに学んだ   \n",
       "2      C-2021-2_U103     B  情報教育が軽視されているが今の世の中で情報について知ることは必須である情報は伝送しやすい形に...   \n",
       "3      C-2021-2_U139     B  情報科学の発展は目覚ましくインタネットを使うことで様々な情報を２進数に変化し扱うことができる...   \n",
       "4        C-2022-1_U7     C                                情報科学についてを知ることができました   \n",
       "...              ...   ...                                                ...   \n",
       "22415   C-2022-1_U89     B  今日は60分間テストの後アンケトに答えて授業が終わるという日でしたので新たに知識を発見すると...   \n",
       "22421   C-2021-2_U46     D  情報量の計算はやりかたを覚えていなかったため解けなかった\\r\\n他の問題はそれなりに覚えてい...   \n",
       "22422    C-2021-1_U2     A                       記述問題が難しかったが計算や選択問題は比較的できたと思う   \n",
       "22423   C-2021-1_U75     B  テストの時間が足りなかったのが残念だった情報科学の授業を通してコンピュタに関わる仕組みの基本...   \n",
       "22424   C-2021-2_U56     B            情報科学は専門を学ぶ中でも深く関わっていくと思うので授業内容を復習していきたい   \n",
       "\n",
       "      course_number question_number  label  \n",
       "0                01               1      2  \n",
       "1                01               1      3  \n",
       "2                01               1      1  \n",
       "3                01               1      1  \n",
       "4                01               1      2  \n",
       "...             ...             ...    ...  \n",
       "22415            15               5      1  \n",
       "22421            15               5      3  \n",
       "22422            15               5      0  \n",
       "22423            15               5      1  \n",
       "22424            15               5      1  \n",
       "\n",
       "[16142 rows x 6 columns]"
      ]
     },
     "execution_count": 6,
     "metadata": {},
     "output_type": "execute_result"
    }
   ],
   "source": [
    "train"
   ]
  },
  {
   "cell_type": "markdown",
   "metadata": {},
   "source": [
    "### 簡単な可視化\n",
    "- 成績ごとの単語数分布\n",
    "- 質問ごとの単語数分布\n",
    "- 講義回数ごとの単語数分布\n",
    "  "
   ]
  },
  {
   "cell_type": "code",
   "execution_count": 7,
   "metadata": {},
   "outputs": [
    {
     "data": {
      "image/png": "[encoded data removed]",
      "text/plain": [
       "<Figure size 640x480 with 1 Axes>"
      ]
     },
     "metadata": {},
     "output_type": "display_data"
    }
   ],
   "source": [
    "# INFO: 成績ごとの単語数の分布を確認\n",
    "\n",
    "mecab = MeCab.Tagger()\n",
    "\n",
    "\n",
    "def count_words(text):\n",
    "    node = mecab.parseToNode(text)\n",
    "    word_count = 0\n",
    "    while node:\n",
    "        if node.surface:\n",
    "            word_count += 1\n",
    "        node = node.next\n",
    "    return word_count\n",
    "\n",
    "\n",
    "train[\"Words Per Text\"] = train[\"text\"].apply(count_words)\n",
    "train.boxplot(\n",
    "    column=\"Words Per Text\", by=\"grade\", grid=False, showfliers=False, color=\"black\"\n",
    ")\n",
    "\n",
    "plt.suptitle(\"\")\n",
    "plt.xlabel(\"Grade\")\n",
    "plt.show()"
   ]
  },
  {
   "cell_type": "code",
   "execution_count": 8,
   "metadata": {},
   "outputs": [
    {
     "data": {
      "image/png": "[encoded data removed]",
      "text/plain": [
       "<Figure size 640x480 with 1 Axes>"
      ]
     },
     "metadata": {},
     "output_type": "display_data"
    }
   ],
   "source": [
    "# INFO: 質問ごとの単語数の分布を確認\n",
    "train.boxplot(\n",
    "    column=\"Words Per Text\",\n",
    "    by=\"question_number\",\n",
    "    grid=False,\n",
    "    showfliers=False,\n",
    "    color=\"black\",\n",
    ")\n",
    "plt.suptitle(\"\")\n",
    "plt.xlabel(\"Question Number\")\n",
    "plt.show()"
   ]
  },
  {
   "cell_type": "code",
   "execution_count": 9,
   "metadata": {},
   "outputs": [
    {
     "data": {
      "image/png": "[encoded data removed]",
      "text/plain": [
       "<Figure size 640x480 with 1 Axes>"
      ]
     },
     "metadata": {},
     "output_type": "display_data"
    }
   ],
   "source": [
    "# INFO: 講義回数ごとの単語数の分布を確認\n",
    "train.boxplot(\n",
    "    column=\"Words Per Text\",\n",
    "    by=\"course_number\",\n",
    "    grid=False,\n",
    "    showfliers=False,\n",
    "    color=\"black\",\n",
    ")\n",
    "plt.suptitle(\"\")\n",
    "plt.xlabel(\"Course Number\")\n",
    "plt.show()"
   ]
  },
  {
   "cell_type": "markdown",
   "metadata": {},
   "source": [
    "## データを数値化してlightGBMに突っ込む"
   ]
  },
  {
   "cell_type": "markdown",
   "metadata": {},
   "source": [
    "### 生徒のデータ形式\n",
    "\n",
    "- `user_1`:\n",
    "  - 1-1, 1-2, 1-3, 1-4, 1-5  \n",
    "  - 2-1, 2-2, ..., 2-5  \n",
    "  - ...  \n",
    "  - 15-1, ..., 15-5\n",
    "\n",
    "- `user_2`:\n",
    "  - ...\n",
    "\n",
    "- 各生徒の持つデータ数は膨大\n",
    "- しかし全て有用であるため、とりあえず平均を使用して対応\n",
    "- 質問番号は\"1\"のみ用いることとする"
   ]
  },
  {
   "cell_type": "code",
   "execution_count": 10,
   "metadata": {},
   "outputs": [],
   "source": [
    "Input_df = pd.DataFrame()\n",
    "Valid_df = pd.DataFrame()"
   ]
  },
  {
   "cell_type": "markdown",
   "metadata": {},
   "source": [
    "### 1. 各文章の単語数\n",
    "大事だと思うから，全て突っ込む<br>\n",
    "数値の動きを擬似的な関数として定義するのもありかもしれないが，あとで考える"
   ]
  },
  {
   "cell_type": "code",
   "execution_count": 11,
   "metadata": {},
   "outputs": [
    {
     "data": {
      "text/html": [
       "<div>\n",
       "<style scoped>\n",
       "    .dataframe tbody tr th:only-of-type {\n",
       "        vertical-align: middle;\n",
       "    }\n",
       "\n",
       "    .dataframe tbody tr th {\n",
       "        vertical-align: top;\n",
       "    }\n",
       "\n",
       "    .dataframe thead th {\n",
       "        text-align: right;\n",
       "    }\n",
       "</style>\n",
       "<table border=\"1\" class=\"dataframe\">\n",
       "  <thead>\n",
       "    <tr style=\"text-align: right;\">\n",
       "      <th></th>\n",
       "      <th>userid</th>\n",
       "      <th>grade</th>\n",
       "      <th>text</th>\n",
       "      <th>course_number</th>\n",
       "      <th>question_number</th>\n",
       "      <th>label</th>\n",
       "      <th>Words Per Text</th>\n",
       "    </tr>\n",
       "  </thead>\n",
       "  <tbody>\n",
       "    <tr>\n",
       "      <th>0</th>\n",
       "      <td>C-2022-1_U72</td>\n",
       "      <td>C</td>\n",
       "      <td>18</td>\n",
       "      <td>01</td>\n",
       "      <td>1</td>\n",
       "      <td>2</td>\n",
       "      <td>18</td>\n",
       "    </tr>\n",
       "    <tr>\n",
       "      <th>1</th>\n",
       "      <td>C-2021-1_U70</td>\n",
       "      <td>D</td>\n",
       "      <td>12</td>\n",
       "      <td>01</td>\n",
       "      <td>1</td>\n",
       "      <td>3</td>\n",
       "      <td>12</td>\n",
       "    </tr>\n",
       "    <tr>\n",
       "      <th>2</th>\n",
       "      <td>C-2021-2_U103</td>\n",
       "      <td>B</td>\n",
       "      <td>74</td>\n",
       "      <td>01</td>\n",
       "      <td>1</td>\n",
       "      <td>1</td>\n",
       "      <td>74</td>\n",
       "    </tr>\n",
       "    <tr>\n",
       "      <th>3</th>\n",
       "      <td>C-2021-2_U139</td>\n",
       "      <td>B</td>\n",
       "      <td>38</td>\n",
       "      <td>01</td>\n",
       "      <td>1</td>\n",
       "      <td>1</td>\n",
       "      <td>38</td>\n",
       "    </tr>\n",
       "    <tr>\n",
       "      <th>4</th>\n",
       "      <td>C-2022-1_U7</td>\n",
       "      <td>C</td>\n",
       "      <td>12</td>\n",
       "      <td>01</td>\n",
       "      <td>1</td>\n",
       "      <td>2</td>\n",
       "      <td>12</td>\n",
       "    </tr>\n",
       "  </tbody>\n",
       "</table>\n",
       "</div>"
      ],
      "text/plain": [
       "          userid grade  text course_number question_number  label  \\\n",
       "0   C-2022-1_U72     C    18            01               1      2   \n",
       "1   C-2021-1_U70     D    12            01               1      3   \n",
       "2  C-2021-2_U103     B    74            01               1      1   \n",
       "3  C-2021-2_U139     B    38            01               1      1   \n",
       "4    C-2022-1_U7     C    12            01               1      2   \n",
       "\n",
       "   Words Per Text  \n",
       "0              18  \n",
       "1              12  \n",
       "2              74  \n",
       "3              38  \n",
       "4              12  "
      ]
     },
     "execution_count": 11,
     "metadata": {},
     "output_type": "execute_result"
    }
   ],
   "source": [
    "filter = \"1\"\n",
    "temp = train.copy()\n",
    "temp[\"text\"] = train[\"Words Per Text\"]\n",
    "temp.head()"
   ]
  },
  {
   "cell_type": "code",
   "execution_count": 12,
   "metadata": {},
   "outputs": [
    {
     "name": "stderr",
     "output_type": "stream",
     "text": [
      "/home/masa1357/Dockerdata/gitfile/Tree-Model/src/python/data_manager.py:285: SettingWithCopyWarning: \n",
      "A value is trying to be set on a copy of a slice from a DataFrame.\n",
      "Try using .loc[row_indexer,col_indexer] = value instead\n",
      "\n",
      "See the caveats in the documentation: https://pandas.pydata.org/pandas-docs/stable/user_guide/indexing.html#returning-a-view-versus-a-copy\n",
      "  df[\"new_column\"] = df.apply(create_column_name, axis=1)\n"
     ]
    },
    {
     "data": {
      "text/html": [
       "<div>\n",
       "<style scoped>\n",
       "    .dataframe tbody tr th:only-of-type {\n",
       "        vertical-align: middle;\n",
       "    }\n",
       "\n",
       "    .dataframe tbody tr th {\n",
       "        vertical-align: top;\n",
       "    }\n",
       "\n",
       "    .dataframe thead th {\n",
       "        text-align: right;\n",
       "    }\n",
       "</style>\n",
       "<table border=\"1\" class=\"dataframe\">\n",
       "  <thead>\n",
       "    <tr style=\"text-align: right;\">\n",
       "      <th>new_column</th>\n",
       "      <th>userid</th>\n",
       "      <th>label</th>\n",
       "      <th>01</th>\n",
       "      <th>02</th>\n",
       "      <th>03</th>\n",
       "      <th>04</th>\n",
       "      <th>05</th>\n",
       "      <th>06</th>\n",
       "      <th>07</th>\n",
       "      <th>08</th>\n",
       "      <th>09</th>\n",
       "      <th>10</th>\n",
       "      <th>11</th>\n",
       "      <th>12</th>\n",
       "      <th>13</th>\n",
       "      <th>14</th>\n",
       "      <th>15</th>\n",
       "    </tr>\n",
       "  </thead>\n",
       "  <tbody>\n",
       "    <tr>\n",
       "      <th>0</th>\n",
       "      <td>C-2021-1_U1</td>\n",
       "      <td>4</td>\n",
       "      <td>30</td>\n",
       "      <td>87</td>\n",
       "      <td>80</td>\n",
       "      <td>61</td>\n",
       "      <td>125</td>\n",
       "      <td>87</td>\n",
       "      <td>122</td>\n",
       "      <td>0</td>\n",
       "      <td>0</td>\n",
       "      <td>0</td>\n",
       "      <td>0</td>\n",
       "      <td>0</td>\n",
       "      <td>0</td>\n",
       "      <td>0</td>\n",
       "      <td>0</td>\n",
       "    </tr>\n",
       "    <tr>\n",
       "      <th>1</th>\n",
       "      <td>C-2021-1_U10</td>\n",
       "      <td>1</td>\n",
       "      <td>67</td>\n",
       "      <td>29</td>\n",
       "      <td>34</td>\n",
       "      <td>19</td>\n",
       "      <td>25</td>\n",
       "      <td>14</td>\n",
       "      <td>15</td>\n",
       "      <td>15</td>\n",
       "      <td>30</td>\n",
       "      <td>19</td>\n",
       "      <td>14</td>\n",
       "      <td>43</td>\n",
       "      <td>19</td>\n",
       "      <td>23</td>\n",
       "      <td>6</td>\n",
       "    </tr>\n",
       "    <tr>\n",
       "      <th>2</th>\n",
       "      <td>C-2021-1_U102</td>\n",
       "      <td>1</td>\n",
       "      <td>18</td>\n",
       "      <td>43</td>\n",
       "      <td>18</td>\n",
       "      <td>25</td>\n",
       "      <td>22</td>\n",
       "      <td>37</td>\n",
       "      <td>45</td>\n",
       "      <td>33</td>\n",
       "      <td>38</td>\n",
       "      <td>71</td>\n",
       "      <td>30</td>\n",
       "      <td>64</td>\n",
       "      <td>50</td>\n",
       "      <td>22</td>\n",
       "      <td>38</td>\n",
       "    </tr>\n",
       "    <tr>\n",
       "      <th>3</th>\n",
       "      <td>C-2021-1_U104</td>\n",
       "      <td>1</td>\n",
       "      <td>35</td>\n",
       "      <td>25</td>\n",
       "      <td>38</td>\n",
       "      <td>33</td>\n",
       "      <td>39</td>\n",
       "      <td>18</td>\n",
       "      <td>39</td>\n",
       "      <td>20</td>\n",
       "      <td>48</td>\n",
       "      <td>70</td>\n",
       "      <td>29</td>\n",
       "      <td>56</td>\n",
       "      <td>75</td>\n",
       "      <td>42</td>\n",
       "      <td>38</td>\n",
       "    </tr>\n",
       "    <tr>\n",
       "      <th>4</th>\n",
       "      <td>C-2021-1_U105</td>\n",
       "      <td>1</td>\n",
       "      <td>25</td>\n",
       "      <td>113</td>\n",
       "      <td>69</td>\n",
       "      <td>55</td>\n",
       "      <td>100</td>\n",
       "      <td>102</td>\n",
       "      <td>56</td>\n",
       "      <td>87</td>\n",
       "      <td>116</td>\n",
       "      <td>60</td>\n",
       "      <td>76</td>\n",
       "      <td>85</td>\n",
       "      <td>60</td>\n",
       "      <td>72</td>\n",
       "      <td>3</td>\n",
       "    </tr>\n",
       "  </tbody>\n",
       "</table>\n",
       "</div>"
      ],
      "text/plain": [
       "new_column         userid  label  01   02  03  04   05   06   07  08   09  10  \\\n",
       "0             C-2021-1_U1      4  30   87  80  61  125   87  122   0    0   0   \n",
       "1            C-2021-1_U10      1  67   29  34  19   25   14   15  15   30  19   \n",
       "2           C-2021-1_U102      1  18   43  18  25   22   37   45  33   38  71   \n",
       "3           C-2021-1_U104      1  35   25  38  33   39   18   39  20   48  70   \n",
       "4           C-2021-1_U105      1  25  113  69  55  100  102   56  87  116  60   \n",
       "\n",
       "new_column  11  12  13  14  15  \n",
       "0            0   0   0   0   0  \n",
       "1           14  43  19  23   6  \n",
       "2           30  64  50  22  38  \n",
       "3           29  56  75  42  38  \n",
       "4           76  85  60  72   3  "
      ]
     },
     "execution_count": 12,
     "metadata": {},
     "output_type": "execute_result"
    }
   ],
   "source": [
    "Qfilter_df = dm.encode(temp, logger=logger, filter=filter)\n",
    "Input_df = pd.concat([Input_df, Qfilter_df])\n",
    "Input_df = Input_df.replace(\"[NA]\", 0)\n",
    "Input_df.head()"
   ]
  },
  {
   "cell_type": "code",
   "execution_count": 13,
   "metadata": {},
   "outputs": [
    {
     "name": "stderr",
     "output_type": "stream",
     "text": [
      "/home/masa1357/Dockerdata/gitfile/Tree-Model/src/python/data_manager.py:285: SettingWithCopyWarning: \n",
      "A value is trying to be set on a copy of a slice from a DataFrame.\n",
      "Try using .loc[row_indexer,col_indexer] = value instead\n",
      "\n",
      "See the caveats in the documentation: https://pandas.pydata.org/pandas-docs/stable/user_guide/indexing.html#returning-a-view-versus-a-copy\n",
      "  df[\"new_column\"] = df.apply(create_column_name, axis=1)\n"
     ]
    },
    {
     "data": {
      "text/html": [
       "<div>\n",
       "<style scoped>\n",
       "    .dataframe tbody tr th:only-of-type {\n",
       "        vertical-align: middle;\n",
       "    }\n",
       "\n",
       "    .dataframe tbody tr th {\n",
       "        vertical-align: top;\n",
       "    }\n",
       "\n",
       "    .dataframe thead th {\n",
       "        text-align: right;\n",
       "    }\n",
       "</style>\n",
       "<table border=\"1\" class=\"dataframe\">\n",
       "  <thead>\n",
       "    <tr style=\"text-align: right;\">\n",
       "      <th>new_column</th>\n",
       "      <th>userid</th>\n",
       "      <th>label</th>\n",
       "      <th>01</th>\n",
       "      <th>02</th>\n",
       "      <th>03</th>\n",
       "      <th>04</th>\n",
       "      <th>05</th>\n",
       "      <th>06</th>\n",
       "      <th>07</th>\n",
       "      <th>08</th>\n",
       "      <th>09</th>\n",
       "      <th>10</th>\n",
       "      <th>11</th>\n",
       "      <th>12</th>\n",
       "      <th>13</th>\n",
       "      <th>14</th>\n",
       "      <th>15</th>\n",
       "    </tr>\n",
       "  </thead>\n",
       "  <tbody>\n",
       "    <tr>\n",
       "      <th>0</th>\n",
       "      <td>C-2021-1_U100</td>\n",
       "      <td>2</td>\n",
       "      <td>11</td>\n",
       "      <td>20</td>\n",
       "      <td>6</td>\n",
       "      <td>20</td>\n",
       "      <td>10</td>\n",
       "      <td>6</td>\n",
       "      <td>9</td>\n",
       "      <td>4</td>\n",
       "      <td>7</td>\n",
       "      <td>9</td>\n",
       "      <td>23</td>\n",
       "      <td>17</td>\n",
       "      <td>7</td>\n",
       "      <td>20</td>\n",
       "      <td>2</td>\n",
       "    </tr>\n",
       "    <tr>\n",
       "      <th>1</th>\n",
       "      <td>C-2021-1_U101</td>\n",
       "      <td>1</td>\n",
       "      <td>40</td>\n",
       "      <td>103</td>\n",
       "      <td>73</td>\n",
       "      <td>147</td>\n",
       "      <td>92</td>\n",
       "      <td>143</td>\n",
       "      <td>202</td>\n",
       "      <td>150</td>\n",
       "      <td>146</td>\n",
       "      <td>109</td>\n",
       "      <td>218</td>\n",
       "      <td>184</td>\n",
       "      <td>290</td>\n",
       "      <td>170</td>\n",
       "      <td>5</td>\n",
       "    </tr>\n",
       "    <tr>\n",
       "      <th>2</th>\n",
       "      <td>C-2021-1_U103</td>\n",
       "      <td>1</td>\n",
       "      <td>33</td>\n",
       "      <td>45</td>\n",
       "      <td>45</td>\n",
       "      <td>51</td>\n",
       "      <td>52</td>\n",
       "      <td>53</td>\n",
       "      <td>96</td>\n",
       "      <td>90</td>\n",
       "      <td>89</td>\n",
       "      <td>91</td>\n",
       "      <td>110</td>\n",
       "      <td>52</td>\n",
       "      <td>50</td>\n",
       "      <td>138</td>\n",
       "      <td>2</td>\n",
       "    </tr>\n",
       "    <tr>\n",
       "      <th>3</th>\n",
       "      <td>C-2021-1_U107</td>\n",
       "      <td>2</td>\n",
       "      <td>0</td>\n",
       "      <td>0</td>\n",
       "      <td>0</td>\n",
       "      <td>10</td>\n",
       "      <td>3</td>\n",
       "      <td>15</td>\n",
       "      <td>7</td>\n",
       "      <td>3</td>\n",
       "      <td>1</td>\n",
       "      <td>6</td>\n",
       "      <td>4</td>\n",
       "      <td>5</td>\n",
       "      <td>11</td>\n",
       "      <td>25</td>\n",
       "      <td>2</td>\n",
       "    </tr>\n",
       "    <tr>\n",
       "      <th>4</th>\n",
       "      <td>C-2021-1_U12</td>\n",
       "      <td>1</td>\n",
       "      <td>60</td>\n",
       "      <td>10</td>\n",
       "      <td>14</td>\n",
       "      <td>35</td>\n",
       "      <td>29</td>\n",
       "      <td>20</td>\n",
       "      <td>21</td>\n",
       "      <td>9</td>\n",
       "      <td>70</td>\n",
       "      <td>28</td>\n",
       "      <td>107</td>\n",
       "      <td>58</td>\n",
       "      <td>31</td>\n",
       "      <td>73</td>\n",
       "      <td>9</td>\n",
       "    </tr>\n",
       "  </tbody>\n",
       "</table>\n",
       "</div>"
      ],
      "text/plain": [
       "new_column         userid  label  01   02  03   04  05   06   07   08   09  \\\n",
       "0           C-2021-1_U100      2  11   20   6   20  10    6    9    4    7   \n",
       "1           C-2021-1_U101      1  40  103  73  147  92  143  202  150  146   \n",
       "2           C-2021-1_U103      1  33   45  45   51  52   53   96   90   89   \n",
       "3           C-2021-1_U107      2   0    0   0   10   3   15    7    3    1   \n",
       "4            C-2021-1_U12      1  60   10  14   35  29   20   21    9   70   \n",
       "\n",
       "new_column   10   11   12   13   14 15  \n",
       "0             9   23   17    7   20  2  \n",
       "1           109  218  184  290  170  5  \n",
       "2            91  110   52   50  138  2  \n",
       "3             6    4    5   11   25  2  \n",
       "4            28  107   58   31   73  9  "
      ]
     },
     "execution_count": 13,
     "metadata": {},
     "output_type": "execute_result"
    }
   ],
   "source": [
    "valid[\"Words Per Text\"] = valid[\"text\"].apply(count_words)\n",
    "temp = valid.copy()\n",
    "temp[\"text\"] = valid[\"Words Per Text\"]\n",
    "Qfilter_df = dm.encode(temp, logger=logger, filter=filter)\n",
    "Valid_df = pd.concat([Valid_df, Qfilter_df])\n",
    "Valid_df = Valid_df.replace(\"[NA]\", 0)\n",
    "Valid_df.head()"
   ]
  },
  {
   "cell_type": "markdown",
   "metadata": {},
   "source": [
    "### 2. 各文章内の0の数"
   ]
  },
  {
   "cell_type": "code",
   "execution_count": 14,
   "metadata": {},
   "outputs": [
    {
     "data": {
      "text/html": [
       "<div>\n",
       "<style scoped>\n",
       "    .dataframe tbody tr th:only-of-type {\n",
       "        vertical-align: middle;\n",
       "    }\n",
       "\n",
       "    .dataframe tbody tr th {\n",
       "        vertical-align: top;\n",
       "    }\n",
       "\n",
       "    .dataframe thead th {\n",
       "        text-align: right;\n",
       "    }\n",
       "</style>\n",
       "<table border=\"1\" class=\"dataframe\">\n",
       "  <thead>\n",
       "    <tr style=\"text-align: right;\">\n",
       "      <th>new_column</th>\n",
       "      <th>userid</th>\n",
       "      <th>label</th>\n",
       "      <th>01</th>\n",
       "      <th>02</th>\n",
       "      <th>03</th>\n",
       "      <th>04</th>\n",
       "      <th>05</th>\n",
       "      <th>06</th>\n",
       "      <th>07</th>\n",
       "      <th>08</th>\n",
       "      <th>09</th>\n",
       "      <th>10</th>\n",
       "      <th>11</th>\n",
       "      <th>12</th>\n",
       "      <th>13</th>\n",
       "      <th>14</th>\n",
       "      <th>15</th>\n",
       "      <th>zero_count</th>\n",
       "    </tr>\n",
       "  </thead>\n",
       "  <tbody>\n",
       "    <tr>\n",
       "      <th>0</th>\n",
       "      <td>C-2021-1_U1</td>\n",
       "      <td>4</td>\n",
       "      <td>30</td>\n",
       "      <td>87</td>\n",
       "      <td>80</td>\n",
       "      <td>61</td>\n",
       "      <td>125</td>\n",
       "      <td>87</td>\n",
       "      <td>122</td>\n",
       "      <td>0</td>\n",
       "      <td>0</td>\n",
       "      <td>0</td>\n",
       "      <td>0</td>\n",
       "      <td>0</td>\n",
       "      <td>0</td>\n",
       "      <td>0</td>\n",
       "      <td>0</td>\n",
       "      <td>8</td>\n",
       "    </tr>\n",
       "    <tr>\n",
       "      <th>1</th>\n",
       "      <td>C-2021-1_U10</td>\n",
       "      <td>1</td>\n",
       "      <td>67</td>\n",
       "      <td>29</td>\n",
       "      <td>34</td>\n",
       "      <td>19</td>\n",
       "      <td>25</td>\n",
       "      <td>14</td>\n",
       "      <td>15</td>\n",
       "      <td>15</td>\n",
       "      <td>30</td>\n",
       "      <td>19</td>\n",
       "      <td>14</td>\n",
       "      <td>43</td>\n",
       "      <td>19</td>\n",
       "      <td>23</td>\n",
       "      <td>6</td>\n",
       "      <td>0</td>\n",
       "    </tr>\n",
       "    <tr>\n",
       "      <th>2</th>\n",
       "      <td>C-2021-1_U102</td>\n",
       "      <td>1</td>\n",
       "      <td>18</td>\n",
       "      <td>43</td>\n",
       "      <td>18</td>\n",
       "      <td>25</td>\n",
       "      <td>22</td>\n",
       "      <td>37</td>\n",
       "      <td>45</td>\n",
       "      <td>33</td>\n",
       "      <td>38</td>\n",
       "      <td>71</td>\n",
       "      <td>30</td>\n",
       "      <td>64</td>\n",
       "      <td>50</td>\n",
       "      <td>22</td>\n",
       "      <td>38</td>\n",
       "      <td>0</td>\n",
       "    </tr>\n",
       "    <tr>\n",
       "      <th>3</th>\n",
       "      <td>C-2021-1_U104</td>\n",
       "      <td>1</td>\n",
       "      <td>35</td>\n",
       "      <td>25</td>\n",
       "      <td>38</td>\n",
       "      <td>33</td>\n",
       "      <td>39</td>\n",
       "      <td>18</td>\n",
       "      <td>39</td>\n",
       "      <td>20</td>\n",
       "      <td>48</td>\n",
       "      <td>70</td>\n",
       "      <td>29</td>\n",
       "      <td>56</td>\n",
       "      <td>75</td>\n",
       "      <td>42</td>\n",
       "      <td>38</td>\n",
       "      <td>0</td>\n",
       "    </tr>\n",
       "    <tr>\n",
       "      <th>4</th>\n",
       "      <td>C-2021-1_U105</td>\n",
       "      <td>1</td>\n",
       "      <td>25</td>\n",
       "      <td>113</td>\n",
       "      <td>69</td>\n",
       "      <td>55</td>\n",
       "      <td>100</td>\n",
       "      <td>102</td>\n",
       "      <td>56</td>\n",
       "      <td>87</td>\n",
       "      <td>116</td>\n",
       "      <td>60</td>\n",
       "      <td>76</td>\n",
       "      <td>85</td>\n",
       "      <td>60</td>\n",
       "      <td>72</td>\n",
       "      <td>3</td>\n",
       "      <td>0</td>\n",
       "    </tr>\n",
       "  </tbody>\n",
       "</table>\n",
       "</div>"
      ],
      "text/plain": [
       "new_column         userid  label  01   02  03  04   05   06   07  08   09  10  \\\n",
       "0             C-2021-1_U1      4  30   87  80  61  125   87  122   0    0   0   \n",
       "1            C-2021-1_U10      1  67   29  34  19   25   14   15  15   30  19   \n",
       "2           C-2021-1_U102      1  18   43  18  25   22   37   45  33   38  71   \n",
       "3           C-2021-1_U104      1  35   25  38  33   39   18   39  20   48  70   \n",
       "4           C-2021-1_U105      1  25  113  69  55  100  102   56  87  116  60   \n",
       "\n",
       "new_column  11  12  13  14  15  zero_count  \n",
       "0            0   0   0   0   0           8  \n",
       "1           14  43  19  23   6           0  \n",
       "2           30  64  50  22  38           0  \n",
       "3           29  56  75  42  38           0  \n",
       "4           76  85  60  72   3           0  "
      ]
     },
     "execution_count": 14,
     "metadata": {},
     "output_type": "execute_result"
    }
   ],
   "source": [
    "Input_df[\"zero_count\"] = Input_df.isin([0]).sum(axis=1)\n",
    "Valid_df[\"zero_count\"] = Valid_df.isin([0]).sum(axis=1)\n",
    "Input_df.head()"
   ]
  },
  {
   "cell_type": "markdown",
   "metadata": {},
   "source": [
    "### 3. 各文章のベクトル間距離\n",
    "多すぎるので，平均 / 中央値で保管する<br>\n",
    "使うのはユークリッド距離とコサイン距離"
   ]
  },
  {
   "cell_type": "code",
   "execution_count": 15,
   "metadata": {},
   "outputs": [
    {
     "name": "stdout",
     "output_type": "stream",
     "text": [
      "[Load Model...] start\n"
     ]
    },
    {
     "name": "stderr",
     "output_type": "stream",
     "text": [
      "100%|██████████| 3795/3795 [00:00<00:00, 9718.47it/s] \n",
      "2024-08-15 02:41:53,533 : python.util.python.Mecab_processing : INFO : 68 : loading word2vec model ...\n",
      "2024-08-15 02:41:53,559 : python.util.python.Mecab_processing : INFO : 70 : model loaded.\n"
     ]
    },
    {
     "name": "stdout",
     "output_type": "stream",
     "text": [
      "[Load Model...] done in 0.42 s\n"
     ]
    }
   ],
   "source": [
    "args: Dict[str, object] = {\n",
    "    \"logger\": logger,\n",
    "    \"MODEL_PATH\": MODEL_PATH,\n",
    "    \"seed\": seed,\n",
    "}\n",
    "\n",
    "with util.timer(\"Load Model...\"):\n",
    "    gs = mp.GetSentenceVector(args, train[train[\"question_number\"] == filter])"
   ]
  },
  {
   "cell_type": "code",
   "execution_count": 16,
   "metadata": {},
   "outputs": [],
   "source": [
    "def cosine_similarity(vec1, vec2):\n",
    "    # ゼロベクトルのチェック\n",
    "    if np.linalg.norm(vec1) == 0 or np.linalg.norm(vec2) == 0:\n",
    "        return 0.0\n",
    "\n",
    "    # SciPyのコサイン距離を使用してコサイン類似度を計算\n",
    "    return 1 - distance.cosine(vec1, vec2)"
   ]
  },
  {
   "cell_type": "code",
   "execution_count": 17,
   "metadata": {},
   "outputs": [],
   "source": [
    "def get_vector_distance(df, filter=1):\n",
    "    logger.info(f\"Start get_vector_distance\")\n",
    "    Enc_df = dm.encode(df=df, logger=logger, filter=filter)\n",
    "    data_X = {}\n",
    "    data_Y = {}\n",
    "    texts = {}\n",
    "\n",
    "    for j in range(1, 16):\n",
    "        column_name = f\"{j:02d}\"\n",
    "        columns = [\"userid\", column_name, \"label\"]\n",
    "        with util.timer(f\"GetSentenceVector:{column_name}\"):\n",
    "            data_X[j], data_Y[j], texts[j] = gs(df=Enc_df[columns], key=column_name)\n",
    "\n",
    "    logger.info(f\"get Euclidean Distance\")\n",
    "    distances_df = pd.DataFrame()\n",
    "    with util.timer(f\"Calculate Euclidean Distance:\"):\n",
    "        # 全ての行に対して繰り返す\n",
    "        for j in range(len(data_X[1])):\n",
    "            for i in range(1, 15):\n",
    "                name = f\"euc_{i}:{i+1}\"\n",
    "                vec1 = data_X[i].iloc[j].values\n",
    "                vec2 = data_X[i + 1].iloc[j].values\n",
    "                distances_df.loc[j, name] = np.linalg.norm(vec1 - vec2)\n",
    "            # 全ての列の平均値を計算\n",
    "            distances_df.loc[j, \"euc_mean\"] = distances_df.loc[j].mean()\n",
    "    \n",
    "    logger.info(f\"get Cosine Distance\")\n",
    "    cosdist_df = pd.DataFrame()\n",
    "    with util.timer(f\"Calculate cosine Distance:\"):\n",
    "        for j in range(len(data_X[1])):\n",
    "            for i in range(1, 15):\n",
    "                name = f\"cos_{i}:{i+1}\"\n",
    "                vec1 = data_X[i].iloc[j].values\n",
    "                vec2 = data_X[i + 1].iloc[j].values\n",
    "                cosdist_df.loc[j, name] = 1 - cosine_similarity(vec1, vec2)\n",
    "            # 全ての列の平均値を計算\n",
    "            cosdist_df.loc[j, \"cos_mean\"] = cosdist_df.loc[j].mean()\n",
    "    cosdist_df[\"Category\"] = data_Y[1][\"category_id\"]\n",
    "\n",
    "    # df['Euclidean Distance'] = distances_df[\"mean\"]\n",
    "    # df['Cosine Distance'] = cosdist_df[\"mean\"]\n",
    "    \n",
    "    return distances_df, cosdist_df"
   ]
  },
  {
   "cell_type": "code",
   "execution_count": 18,
   "metadata": {},
   "outputs": [
    {
     "name": "stderr",
     "output_type": "stream",
     "text": [
      "2024-08-15 02:41:53,585 : python.util : INFO : 2 : Start get_vector_distance\n",
      "/home/masa1357/Dockerdata/gitfile/Tree-Model/src/python/data_manager.py:285: SettingWithCopyWarning: \n",
      "A value is trying to be set on a copy of a slice from a DataFrame.\n",
      "Try using .loc[row_indexer,col_indexer] = value instead\n",
      "\n",
      "See the caveats in the documentation: https://pandas.pydata.org/pandas-docs/stable/user_guide/indexing.html#returning-a-view-versus-a-copy\n",
      "  df[\"new_column\"] = df.apply(create_column_name, axis=1)\n"
     ]
    },
    {
     "name": "stdout",
     "output_type": "stream",
     "text": [
      "[GetSentenceVector:01] start\n"
     ]
    },
    {
     "name": "stderr",
     "output_type": "stream",
     "text": [
      "299it [00:00, 6039.85it/s]\n"
     ]
    },
    {
     "name": "stdout",
     "output_type": "stream",
     "text": [
      "[GetSentenceVector:01] done in 0.07 s\n",
      "[GetSentenceVector:02] start\n"
     ]
    },
    {
     "name": "stderr",
     "output_type": "stream",
     "text": [
      "299it [00:00, 5081.55it/s]\n"
     ]
    },
    {
     "name": "stdout",
     "output_type": "stream",
     "text": [
      "[GetSentenceVector:02] done in 0.07 s\n",
      "[GetSentenceVector:03] start\n"
     ]
    },
    {
     "name": "stderr",
     "output_type": "stream",
     "text": [
      "299it [00:00, 6167.37it/s]\n"
     ]
    },
    {
     "name": "stdout",
     "output_type": "stream",
     "text": [
      "[GetSentenceVector:03] done in 0.06 s\n",
      "[GetSentenceVector:04] start\n"
     ]
    },
    {
     "name": "stderr",
     "output_type": "stream",
     "text": [
      "299it [00:00, 5212.68it/s]\n"
     ]
    },
    {
     "name": "stdout",
     "output_type": "stream",
     "text": [
      "[GetSentenceVector:04] done in 0.07 s\n",
      "[GetSentenceVector:05] start\n"
     ]
    },
    {
     "name": "stderr",
     "output_type": "stream",
     "text": [
      "299it [00:00, 5206.94it/s]\n"
     ]
    },
    {
     "name": "stdout",
     "output_type": "stream",
     "text": [
      "[GetSentenceVector:05] done in 0.07 s\n",
      "[GetSentenceVector:06] start\n"
     ]
    },
    {
     "name": "stderr",
     "output_type": "stream",
     "text": [
      "299it [00:00, 4467.33it/s]\n"
     ]
    },
    {
     "name": "stdout",
     "output_type": "stream",
     "text": [
      "[GetSentenceVector:06] done in 0.08 s\n",
      "[GetSentenceVector:07] start\n"
     ]
    },
    {
     "name": "stderr",
     "output_type": "stream",
     "text": [
      "299it [00:00, 4530.32it/s]\n"
     ]
    },
    {
     "name": "stdout",
     "output_type": "stream",
     "text": [
      "[GetSentenceVector:07] done in 0.08 s\n",
      "[GetSentenceVector:08] start\n"
     ]
    },
    {
     "name": "stderr",
     "output_type": "stream",
     "text": [
      "299it [00:00, 3722.55it/s]\n"
     ]
    },
    {
     "name": "stdout",
     "output_type": "stream",
     "text": [
      "[GetSentenceVector:08] done in 0.10 s\n",
      "[GetSentenceVector:09] start\n"
     ]
    },
    {
     "name": "stderr",
     "output_type": "stream",
     "text": [
      "299it [00:00, 3542.36it/s]\n"
     ]
    },
    {
     "name": "stdout",
     "output_type": "stream",
     "text": [
      "[GetSentenceVector:09] done in 0.10 s\n",
      "[GetSentenceVector:10] start\n"
     ]
    },
    {
     "name": "stderr",
     "output_type": "stream",
     "text": [
      "299it [00:00, 3849.44it/s]\n"
     ]
    },
    {
     "name": "stdout",
     "output_type": "stream",
     "text": [
      "[GetSentenceVector:10] done in 0.09 s\n",
      "[GetSentenceVector:11] start\n"
     ]
    },
    {
     "name": "stderr",
     "output_type": "stream",
     "text": [
      "299it [00:00, 3229.15it/s]\n"
     ]
    },
    {
     "name": "stdout",
     "output_type": "stream",
     "text": [
      "[GetSentenceVector:11] done in 0.11 s\n",
      "[GetSentenceVector:12] start\n"
     ]
    },
    {
     "name": "stderr",
     "output_type": "stream",
     "text": [
      "299it [00:00, 4563.65it/s]\n"
     ]
    },
    {
     "name": "stdout",
     "output_type": "stream",
     "text": [
      "[GetSentenceVector:12] done in 0.08 s\n",
      "[GetSentenceVector:13] start\n"
     ]
    },
    {
     "name": "stderr",
     "output_type": "stream",
     "text": [
      "299it [00:00, 4067.45it/s]\n"
     ]
    },
    {
     "name": "stdout",
     "output_type": "stream",
     "text": [
      "[GetSentenceVector:13] done in 0.09 s\n",
      "[GetSentenceVector:14] start\n"
     ]
    },
    {
     "name": "stderr",
     "output_type": "stream",
     "text": [
      "299it [00:00, 3927.88it/s]\n"
     ]
    },
    {
     "name": "stdout",
     "output_type": "stream",
     "text": [
      "[GetSentenceVector:14] done in 0.09 s\n",
      "[GetSentenceVector:15] start\n"
     ]
    },
    {
     "name": "stderr",
     "output_type": "stream",
     "text": [
      "299it [00:00, 23241.66it/s]\n",
      "2024-08-15 02:41:54,872 : python.util : INFO : 14 : get Euclidean Distance\n"
     ]
    },
    {
     "name": "stdout",
     "output_type": "stream",
     "text": [
      "[GetSentenceVector:15] done in 0.03 s\n",
      "[Calculate Euclidean Distance:] start\n"
     ]
    },
    {
     "name": "stderr",
     "output_type": "stream",
     "text": [
      "2024-08-15 02:41:55,756 : python.util : INFO : 27 : get Cosine Distance\n"
     ]
    },
    {
     "name": "stdout",
     "output_type": "stream",
     "text": [
      "[Calculate Euclidean Distance:] done in 0.88 s\n",
      "[Calculate cosine Distance:] start\n"
     ]
    },
    {
     "name": "stderr",
     "output_type": "stream",
     "text": [
      "2024-08-15 02:41:56,707 : python.util : INFO : 2 : Start get_vector_distance\n",
      "/home/masa1357/Dockerdata/gitfile/Tree-Model/src/python/data_manager.py:285: SettingWithCopyWarning: \n",
      "A value is trying to be set on a copy of a slice from a DataFrame.\n",
      "Try using .loc[row_indexer,col_indexer] = value instead\n",
      "\n",
      "See the caveats in the documentation: https://pandas.pydata.org/pandas-docs/stable/user_guide/indexing.html#returning-a-view-versus-a-copy\n",
      "  df[\"new_column\"] = df.apply(create_column_name, axis=1)\n"
     ]
    },
    {
     "name": "stdout",
     "output_type": "stream",
     "text": [
      "[Calculate cosine Distance:] done in 0.95 s\n",
      "[GetSentenceVector:01] start\n"
     ]
    },
    {
     "name": "stderr",
     "output_type": "stream",
     "text": [
      "75it [00:00, 5532.21it/s]\n"
     ]
    },
    {
     "name": "stdout",
     "output_type": "stream",
     "text": [
      "[GetSentenceVector:01] done in 0.02 s\n",
      "[GetSentenceVector:02] start\n"
     ]
    },
    {
     "name": "stderr",
     "output_type": "stream",
     "text": [
      "75it [00:00, 3846.15it/s]\n"
     ]
    },
    {
     "name": "stdout",
     "output_type": "stream",
     "text": [
      "[GetSentenceVector:02] done in 0.03 s\n",
      "[GetSentenceVector:03] start\n"
     ]
    },
    {
     "name": "stderr",
     "output_type": "stream",
     "text": [
      "75it [00:00, 4668.57it/s]\n"
     ]
    },
    {
     "name": "stdout",
     "output_type": "stream",
     "text": [
      "[GetSentenceVector:03] done in 0.03 s\n",
      "[GetSentenceVector:04] start\n"
     ]
    },
    {
     "name": "stderr",
     "output_type": "stream",
     "text": [
      "75it [00:00, 3897.47it/s]\n"
     ]
    },
    {
     "name": "stdout",
     "output_type": "stream",
     "text": [
      "[GetSentenceVector:04] done in 0.03 s\n",
      "[GetSentenceVector:05] start\n"
     ]
    },
    {
     "name": "stderr",
     "output_type": "stream",
     "text": [
      "75it [00:00, 3968.17it/s]\n"
     ]
    },
    {
     "name": "stdout",
     "output_type": "stream",
     "text": [
      "[GetSentenceVector:05] done in 0.03 s\n",
      "[GetSentenceVector:06] start\n"
     ]
    },
    {
     "name": "stderr",
     "output_type": "stream",
     "text": [
      "75it [00:00, 3581.94it/s]\n"
     ]
    },
    {
     "name": "stdout",
     "output_type": "stream",
     "text": [
      "[GetSentenceVector:06] done in 0.03 s\n",
      "[GetSentenceVector:07] start\n"
     ]
    },
    {
     "name": "stderr",
     "output_type": "stream",
     "text": [
      "75it [00:00, 3347.91it/s]\n"
     ]
    },
    {
     "name": "stdout",
     "output_type": "stream",
     "text": [
      "[GetSentenceVector:07] done in 0.03 s\n",
      "[GetSentenceVector:08] start\n"
     ]
    },
    {
     "name": "stderr",
     "output_type": "stream",
     "text": [
      "75it [00:00, 3395.17it/s]\n"
     ]
    },
    {
     "name": "stdout",
     "output_type": "stream",
     "text": [
      "[GetSentenceVector:08] done in 0.03 s\n",
      "[GetSentenceVector:09] start\n"
     ]
    },
    {
     "name": "stderr",
     "output_type": "stream",
     "text": [
      "75it [00:00, 2208.61it/s]\n"
     ]
    },
    {
     "name": "stdout",
     "output_type": "stream",
     "text": [
      "[GetSentenceVector:09] done in 0.04 s\n",
      "[GetSentenceVector:10] start\n"
     ]
    },
    {
     "name": "stderr",
     "output_type": "stream",
     "text": [
      "75it [00:00, 2987.59it/s]\n"
     ]
    },
    {
     "name": "stdout",
     "output_type": "stream",
     "text": [
      "[GetSentenceVector:10] done in 0.03 s\n",
      "[GetSentenceVector:11] start\n"
     ]
    },
    {
     "name": "stderr",
     "output_type": "stream",
     "text": [
      "75it [00:00, 2969.63it/s]\n"
     ]
    },
    {
     "name": "stdout",
     "output_type": "stream",
     "text": [
      "[GetSentenceVector:11] done in 0.03 s\n",
      "[GetSentenceVector:12] start\n"
     ]
    },
    {
     "name": "stderr",
     "output_type": "stream",
     "text": [
      "75it [00:00, 3329.38it/s]\n"
     ]
    },
    {
     "name": "stdout",
     "output_type": "stream",
     "text": [
      "[GetSentenceVector:12] done in 0.03 s\n",
      "[GetSentenceVector:13] start\n"
     ]
    },
    {
     "name": "stderr",
     "output_type": "stream",
     "text": [
      "75it [00:00, 3021.66it/s]\n"
     ]
    },
    {
     "name": "stdout",
     "output_type": "stream",
     "text": [
      "[GetSentenceVector:13] done in 0.03 s\n",
      "[GetSentenceVector:14] start\n"
     ]
    },
    {
     "name": "stderr",
     "output_type": "stream",
     "text": [
      "75it [00:00, 3293.92it/s]\n"
     ]
    },
    {
     "name": "stdout",
     "output_type": "stream",
     "text": [
      "[GetSentenceVector:14] done in 0.03 s\n",
      "[GetSentenceVector:15] start\n"
     ]
    },
    {
     "name": "stderr",
     "output_type": "stream",
     "text": [
      "75it [00:00, 23057.45it/s]\n",
      "2024-08-15 02:41:57,186 : python.util : INFO : 14 : get Euclidean Distance\n",
      "2024-08-15 02:41:57,413 : python.util : INFO : 27 : get Cosine Distance\n"
     ]
    },
    {
     "name": "stdout",
     "output_type": "stream",
     "text": [
      "[GetSentenceVector:15] done in 0.01 s\n",
      "[Calculate Euclidean Distance:] start\n",
      "[Calculate Euclidean Distance:] done in 0.23 s\n",
      "[Calculate cosine Distance:] start\n",
      "[Calculate cosine Distance:] done in 0.24 s\n"
     ]
    }
   ],
   "source": [
    "te_dist, tc_dist = get_vector_distance(train, filter=filter)\n",
    "ve_dist, vc_dist = get_vector_distance(valid, filter=filter)"
   ]
  },
  {
   "cell_type": "code",
   "execution_count": 19,
   "metadata": {},
   "outputs": [],
   "source": [
    "# Input_df = pd.concat([Input_df, te_dist, tc_dist], axis=1)\n",
    "# Valid_df = pd.concat([Valid_df, ve_dist, vc_dist], axis=1)"
   ]
  },
  {
   "cell_type": "code",
   "execution_count": 20,
   "metadata": {},
   "outputs": [
    {
     "data": {
      "text/html": [
       "<div>\n",
       "<style scoped>\n",
       "    .dataframe tbody tr th:only-of-type {\n",
       "        vertical-align: middle;\n",
       "    }\n",
       "\n",
       "    .dataframe tbody tr th {\n",
       "        vertical-align: top;\n",
       "    }\n",
       "\n",
       "    .dataframe thead th {\n",
       "        text-align: right;\n",
       "    }\n",
       "</style>\n",
       "<table border=\"1\" class=\"dataframe\">\n",
       "  <thead>\n",
       "    <tr style=\"text-align: right;\">\n",
       "      <th>new_column</th>\n",
       "      <th>userid</th>\n",
       "      <th>label</th>\n",
       "      <th>01</th>\n",
       "      <th>02</th>\n",
       "      <th>03</th>\n",
       "      <th>04</th>\n",
       "      <th>05</th>\n",
       "      <th>06</th>\n",
       "      <th>07</th>\n",
       "      <th>08</th>\n",
       "      <th>09</th>\n",
       "      <th>10</th>\n",
       "      <th>11</th>\n",
       "      <th>12</th>\n",
       "      <th>13</th>\n",
       "      <th>14</th>\n",
       "      <th>15</th>\n",
       "      <th>zero_count</th>\n",
       "    </tr>\n",
       "  </thead>\n",
       "  <tbody>\n",
       "    <tr>\n",
       "      <th>0</th>\n",
       "      <td>C-2021-1_U1</td>\n",
       "      <td>4</td>\n",
       "      <td>30</td>\n",
       "      <td>87</td>\n",
       "      <td>80</td>\n",
       "      <td>61</td>\n",
       "      <td>125</td>\n",
       "      <td>87</td>\n",
       "      <td>122</td>\n",
       "      <td>0</td>\n",
       "      <td>0</td>\n",
       "      <td>0</td>\n",
       "      <td>0</td>\n",
       "      <td>0</td>\n",
       "      <td>0</td>\n",
       "      <td>0</td>\n",
       "      <td>0</td>\n",
       "      <td>8</td>\n",
       "    </tr>\n",
       "    <tr>\n",
       "      <th>1</th>\n",
       "      <td>C-2021-1_U10</td>\n",
       "      <td>1</td>\n",
       "      <td>67</td>\n",
       "      <td>29</td>\n",
       "      <td>34</td>\n",
       "      <td>19</td>\n",
       "      <td>25</td>\n",
       "      <td>14</td>\n",
       "      <td>15</td>\n",
       "      <td>15</td>\n",
       "      <td>30</td>\n",
       "      <td>19</td>\n",
       "      <td>14</td>\n",
       "      <td>43</td>\n",
       "      <td>19</td>\n",
       "      <td>23</td>\n",
       "      <td>6</td>\n",
       "      <td>0</td>\n",
       "    </tr>\n",
       "    <tr>\n",
       "      <th>2</th>\n",
       "      <td>C-2021-1_U102</td>\n",
       "      <td>1</td>\n",
       "      <td>18</td>\n",
       "      <td>43</td>\n",
       "      <td>18</td>\n",
       "      <td>25</td>\n",
       "      <td>22</td>\n",
       "      <td>37</td>\n",
       "      <td>45</td>\n",
       "      <td>33</td>\n",
       "      <td>38</td>\n",
       "      <td>71</td>\n",
       "      <td>30</td>\n",
       "      <td>64</td>\n",
       "      <td>50</td>\n",
       "      <td>22</td>\n",
       "      <td>38</td>\n",
       "      <td>0</td>\n",
       "    </tr>\n",
       "    <tr>\n",
       "      <th>3</th>\n",
       "      <td>C-2021-1_U104</td>\n",
       "      <td>1</td>\n",
       "      <td>35</td>\n",
       "      <td>25</td>\n",
       "      <td>38</td>\n",
       "      <td>33</td>\n",
       "      <td>39</td>\n",
       "      <td>18</td>\n",
       "      <td>39</td>\n",
       "      <td>20</td>\n",
       "      <td>48</td>\n",
       "      <td>70</td>\n",
       "      <td>29</td>\n",
       "      <td>56</td>\n",
       "      <td>75</td>\n",
       "      <td>42</td>\n",
       "      <td>38</td>\n",
       "      <td>0</td>\n",
       "    </tr>\n",
       "    <tr>\n",
       "      <th>4</th>\n",
       "      <td>C-2021-1_U105</td>\n",
       "      <td>1</td>\n",
       "      <td>25</td>\n",
       "      <td>113</td>\n",
       "      <td>69</td>\n",
       "      <td>55</td>\n",
       "      <td>100</td>\n",
       "      <td>102</td>\n",
       "      <td>56</td>\n",
       "      <td>87</td>\n",
       "      <td>116</td>\n",
       "      <td>60</td>\n",
       "      <td>76</td>\n",
       "      <td>85</td>\n",
       "      <td>60</td>\n",
       "      <td>72</td>\n",
       "      <td>3</td>\n",
       "      <td>0</td>\n",
       "    </tr>\n",
       "    <tr>\n",
       "      <th>...</th>\n",
       "      <td>...</td>\n",
       "      <td>...</td>\n",
       "      <td>...</td>\n",
       "      <td>...</td>\n",
       "      <td>...</td>\n",
       "      <td>...</td>\n",
       "      <td>...</td>\n",
       "      <td>...</td>\n",
       "      <td>...</td>\n",
       "      <td>...</td>\n",
       "      <td>...</td>\n",
       "      <td>...</td>\n",
       "      <td>...</td>\n",
       "      <td>...</td>\n",
       "      <td>...</td>\n",
       "      <td>...</td>\n",
       "      <td>...</td>\n",
       "      <td>...</td>\n",
       "    </tr>\n",
       "    <tr>\n",
       "      <th>294</th>\n",
       "      <td>C-2022-1_U92</td>\n",
       "      <td>3</td>\n",
       "      <td>9</td>\n",
       "      <td>18</td>\n",
       "      <td>30</td>\n",
       "      <td>30</td>\n",
       "      <td>30</td>\n",
       "      <td>8</td>\n",
       "      <td>34</td>\n",
       "      <td>13</td>\n",
       "      <td>12</td>\n",
       "      <td>12</td>\n",
       "      <td>14</td>\n",
       "      <td>12</td>\n",
       "      <td>17</td>\n",
       "      <td>15</td>\n",
       "      <td>0</td>\n",
       "      <td>1</td>\n",
       "    </tr>\n",
       "    <tr>\n",
       "      <th>295</th>\n",
       "      <td>C-2022-1_U93</td>\n",
       "      <td>2</td>\n",
       "      <td>17</td>\n",
       "      <td>23</td>\n",
       "      <td>22</td>\n",
       "      <td>14</td>\n",
       "      <td>8</td>\n",
       "      <td>12</td>\n",
       "      <td>45</td>\n",
       "      <td>26</td>\n",
       "      <td>16</td>\n",
       "      <td>14</td>\n",
       "      <td>42</td>\n",
       "      <td>17</td>\n",
       "      <td>24</td>\n",
       "      <td>0</td>\n",
       "      <td>0</td>\n",
       "      <td>2</td>\n",
       "    </tr>\n",
       "    <tr>\n",
       "      <th>296</th>\n",
       "      <td>C-2022-1_U94</td>\n",
       "      <td>2</td>\n",
       "      <td>34</td>\n",
       "      <td>39</td>\n",
       "      <td>48</td>\n",
       "      <td>32</td>\n",
       "      <td>37</td>\n",
       "      <td>29</td>\n",
       "      <td>29</td>\n",
       "      <td>25</td>\n",
       "      <td>18</td>\n",
       "      <td>21</td>\n",
       "      <td>32</td>\n",
       "      <td>37</td>\n",
       "      <td>25</td>\n",
       "      <td>20</td>\n",
       "      <td>4</td>\n",
       "      <td>0</td>\n",
       "    </tr>\n",
       "    <tr>\n",
       "      <th>297</th>\n",
       "      <td>C-2022-1_U95</td>\n",
       "      <td>2</td>\n",
       "      <td>11</td>\n",
       "      <td>6</td>\n",
       "      <td>0</td>\n",
       "      <td>0</td>\n",
       "      <td>0</td>\n",
       "      <td>0</td>\n",
       "      <td>0</td>\n",
       "      <td>6</td>\n",
       "      <td>4</td>\n",
       "      <td>0</td>\n",
       "      <td>0</td>\n",
       "      <td>0</td>\n",
       "      <td>18</td>\n",
       "      <td>7</td>\n",
       "      <td>0</td>\n",
       "      <td>9</td>\n",
       "    </tr>\n",
       "    <tr>\n",
       "      <th>298</th>\n",
       "      <td>C-2022-1_U96</td>\n",
       "      <td>1</td>\n",
       "      <td>40</td>\n",
       "      <td>187</td>\n",
       "      <td>247</td>\n",
       "      <td>151</td>\n",
       "      <td>107</td>\n",
       "      <td>104</td>\n",
       "      <td>121</td>\n",
       "      <td>185</td>\n",
       "      <td>0</td>\n",
       "      <td>0</td>\n",
       "      <td>199</td>\n",
       "      <td>147</td>\n",
       "      <td>88</td>\n",
       "      <td>184</td>\n",
       "      <td>0</td>\n",
       "      <td>3</td>\n",
       "    </tr>\n",
       "  </tbody>\n",
       "</table>\n",
       "<p>299 rows × 18 columns</p>\n",
       "</div>"
      ],
      "text/plain": [
       "new_column         userid  label  01   02   03   04   05   06   07   08   09  \\\n",
       "0             C-2021-1_U1      4  30   87   80   61  125   87  122    0    0   \n",
       "1            C-2021-1_U10      1  67   29   34   19   25   14   15   15   30   \n",
       "2           C-2021-1_U102      1  18   43   18   25   22   37   45   33   38   \n",
       "3           C-2021-1_U104      1  35   25   38   33   39   18   39   20   48   \n",
       "4           C-2021-1_U105      1  25  113   69   55  100  102   56   87  116   \n",
       "..                    ...    ...  ..  ...  ...  ...  ...  ...  ...  ...  ...   \n",
       "294          C-2022-1_U92      3   9   18   30   30   30    8   34   13   12   \n",
       "295          C-2022-1_U93      2  17   23   22   14    8   12   45   26   16   \n",
       "296          C-2022-1_U94      2  34   39   48   32   37   29   29   25   18   \n",
       "297          C-2022-1_U95      2  11    6    0    0    0    0    0    6    4   \n",
       "298          C-2022-1_U96      1  40  187  247  151  107  104  121  185    0   \n",
       "\n",
       "new_column  10   11   12  13   14  15  zero_count  \n",
       "0            0    0    0   0    0   0           8  \n",
       "1           19   14   43  19   23   6           0  \n",
       "2           71   30   64  50   22  38           0  \n",
       "3           70   29   56  75   42  38           0  \n",
       "4           60   76   85  60   72   3           0  \n",
       "..          ..  ...  ...  ..  ...  ..         ...  \n",
       "294         12   14   12  17   15   0           1  \n",
       "295         14   42   17  24    0   0           2  \n",
       "296         21   32   37  25   20   4           0  \n",
       "297          0    0    0  18    7   0           9  \n",
       "298          0  199  147  88  184   0           3  \n",
       "\n",
       "[299 rows x 18 columns]"
      ]
     },
     "execution_count": 20,
     "metadata": {},
     "output_type": "execute_result"
    }
   ],
   "source": [
    "Input_df"
   ]
  },
  {
   "cell_type": "code",
   "execution_count": 21,
   "metadata": {},
   "outputs": [
    {
     "data": {
      "text/html": [
       "<div>\n",
       "<style scoped>\n",
       "    .dataframe tbody tr th:only-of-type {\n",
       "        vertical-align: middle;\n",
       "    }\n",
       "\n",
       "    .dataframe tbody tr th {\n",
       "        vertical-align: top;\n",
       "    }\n",
       "\n",
       "    .dataframe thead th {\n",
       "        text-align: right;\n",
       "    }\n",
       "</style>\n",
       "<table border=\"1\" class=\"dataframe\">\n",
       "  <thead>\n",
       "    <tr style=\"text-align: right;\">\n",
       "      <th>new_column</th>\n",
       "      <th>userid</th>\n",
       "      <th>label</th>\n",
       "      <th>01</th>\n",
       "      <th>02</th>\n",
       "      <th>03</th>\n",
       "      <th>04</th>\n",
       "      <th>05</th>\n",
       "      <th>06</th>\n",
       "      <th>07</th>\n",
       "      <th>08</th>\n",
       "      <th>09</th>\n",
       "      <th>10</th>\n",
       "      <th>11</th>\n",
       "      <th>12</th>\n",
       "      <th>13</th>\n",
       "      <th>14</th>\n",
       "      <th>15</th>\n",
       "      <th>zero_count</th>\n",
       "    </tr>\n",
       "  </thead>\n",
       "  <tbody>\n",
       "    <tr>\n",
       "      <th>0</th>\n",
       "      <td>C-2021-1_U100</td>\n",
       "      <td>2</td>\n",
       "      <td>11</td>\n",
       "      <td>20</td>\n",
       "      <td>6</td>\n",
       "      <td>20</td>\n",
       "      <td>10</td>\n",
       "      <td>6</td>\n",
       "      <td>9</td>\n",
       "      <td>4</td>\n",
       "      <td>7</td>\n",
       "      <td>9</td>\n",
       "      <td>23</td>\n",
       "      <td>17</td>\n",
       "      <td>7</td>\n",
       "      <td>20</td>\n",
       "      <td>2</td>\n",
       "      <td>0</td>\n",
       "    </tr>\n",
       "    <tr>\n",
       "      <th>1</th>\n",
       "      <td>C-2021-1_U101</td>\n",
       "      <td>1</td>\n",
       "      <td>40</td>\n",
       "      <td>103</td>\n",
       "      <td>73</td>\n",
       "      <td>147</td>\n",
       "      <td>92</td>\n",
       "      <td>143</td>\n",
       "      <td>202</td>\n",
       "      <td>150</td>\n",
       "      <td>146</td>\n",
       "      <td>109</td>\n",
       "      <td>218</td>\n",
       "      <td>184</td>\n",
       "      <td>290</td>\n",
       "      <td>170</td>\n",
       "      <td>5</td>\n",
       "      <td>0</td>\n",
       "    </tr>\n",
       "    <tr>\n",
       "      <th>2</th>\n",
       "      <td>C-2021-1_U103</td>\n",
       "      <td>1</td>\n",
       "      <td>33</td>\n",
       "      <td>45</td>\n",
       "      <td>45</td>\n",
       "      <td>51</td>\n",
       "      <td>52</td>\n",
       "      <td>53</td>\n",
       "      <td>96</td>\n",
       "      <td>90</td>\n",
       "      <td>89</td>\n",
       "      <td>91</td>\n",
       "      <td>110</td>\n",
       "      <td>52</td>\n",
       "      <td>50</td>\n",
       "      <td>138</td>\n",
       "      <td>2</td>\n",
       "      <td>0</td>\n",
       "    </tr>\n",
       "    <tr>\n",
       "      <th>3</th>\n",
       "      <td>C-2021-1_U107</td>\n",
       "      <td>2</td>\n",
       "      <td>0</td>\n",
       "      <td>0</td>\n",
       "      <td>0</td>\n",
       "      <td>10</td>\n",
       "      <td>3</td>\n",
       "      <td>15</td>\n",
       "      <td>7</td>\n",
       "      <td>3</td>\n",
       "      <td>1</td>\n",
       "      <td>6</td>\n",
       "      <td>4</td>\n",
       "      <td>5</td>\n",
       "      <td>11</td>\n",
       "      <td>25</td>\n",
       "      <td>2</td>\n",
       "      <td>3</td>\n",
       "    </tr>\n",
       "    <tr>\n",
       "      <th>4</th>\n",
       "      <td>C-2021-1_U12</td>\n",
       "      <td>1</td>\n",
       "      <td>60</td>\n",
       "      <td>10</td>\n",
       "      <td>14</td>\n",
       "      <td>35</td>\n",
       "      <td>29</td>\n",
       "      <td>20</td>\n",
       "      <td>21</td>\n",
       "      <td>9</td>\n",
       "      <td>70</td>\n",
       "      <td>28</td>\n",
       "      <td>107</td>\n",
       "      <td>58</td>\n",
       "      <td>31</td>\n",
       "      <td>73</td>\n",
       "      <td>9</td>\n",
       "      <td>0</td>\n",
       "    </tr>\n",
       "    <tr>\n",
       "      <th>...</th>\n",
       "      <td>...</td>\n",
       "      <td>...</td>\n",
       "      <td>...</td>\n",
       "      <td>...</td>\n",
       "      <td>...</td>\n",
       "      <td>...</td>\n",
       "      <td>...</td>\n",
       "      <td>...</td>\n",
       "      <td>...</td>\n",
       "      <td>...</td>\n",
       "      <td>...</td>\n",
       "      <td>...</td>\n",
       "      <td>...</td>\n",
       "      <td>...</td>\n",
       "      <td>...</td>\n",
       "      <td>...</td>\n",
       "      <td>...</td>\n",
       "      <td>...</td>\n",
       "    </tr>\n",
       "    <tr>\n",
       "      <th>70</th>\n",
       "      <td>C-2022-1_U74</td>\n",
       "      <td>2</td>\n",
       "      <td>69</td>\n",
       "      <td>11</td>\n",
       "      <td>15</td>\n",
       "      <td>30</td>\n",
       "      <td>28</td>\n",
       "      <td>18</td>\n",
       "      <td>20</td>\n",
       "      <td>17</td>\n",
       "      <td>6</td>\n",
       "      <td>25</td>\n",
       "      <td>9</td>\n",
       "      <td>26</td>\n",
       "      <td>0</td>\n",
       "      <td>26</td>\n",
       "      <td>0</td>\n",
       "      <td>2</td>\n",
       "    </tr>\n",
       "    <tr>\n",
       "      <th>71</th>\n",
       "      <td>C-2022-1_U79</td>\n",
       "      <td>1</td>\n",
       "      <td>11</td>\n",
       "      <td>101</td>\n",
       "      <td>50</td>\n",
       "      <td>125</td>\n",
       "      <td>93</td>\n",
       "      <td>80</td>\n",
       "      <td>92</td>\n",
       "      <td>70</td>\n",
       "      <td>54</td>\n",
       "      <td>67</td>\n",
       "      <td>157</td>\n",
       "      <td>78</td>\n",
       "      <td>55</td>\n",
       "      <td>85</td>\n",
       "      <td>0</td>\n",
       "      <td>1</td>\n",
       "    </tr>\n",
       "    <tr>\n",
       "      <th>72</th>\n",
       "      <td>C-2022-1_U84</td>\n",
       "      <td>1</td>\n",
       "      <td>52</td>\n",
       "      <td>39</td>\n",
       "      <td>44</td>\n",
       "      <td>60</td>\n",
       "      <td>45</td>\n",
       "      <td>49</td>\n",
       "      <td>41</td>\n",
       "      <td>36</td>\n",
       "      <td>47</td>\n",
       "      <td>31</td>\n",
       "      <td>46</td>\n",
       "      <td>58</td>\n",
       "      <td>38</td>\n",
       "      <td>73</td>\n",
       "      <td>0</td>\n",
       "      <td>1</td>\n",
       "    </tr>\n",
       "    <tr>\n",
       "      <th>73</th>\n",
       "      <td>C-2022-1_U86</td>\n",
       "      <td>2</td>\n",
       "      <td>9</td>\n",
       "      <td>9</td>\n",
       "      <td>7</td>\n",
       "      <td>4</td>\n",
       "      <td>5</td>\n",
       "      <td>3</td>\n",
       "      <td>9</td>\n",
       "      <td>7</td>\n",
       "      <td>4</td>\n",
       "      <td>4</td>\n",
       "      <td>10</td>\n",
       "      <td>8</td>\n",
       "      <td>4</td>\n",
       "      <td>4</td>\n",
       "      <td>5</td>\n",
       "      <td>0</td>\n",
       "    </tr>\n",
       "    <tr>\n",
       "      <th>74</th>\n",
       "      <td>C-2022-1_U90</td>\n",
       "      <td>2</td>\n",
       "      <td>49</td>\n",
       "      <td>58</td>\n",
       "      <td>89</td>\n",
       "      <td>39</td>\n",
       "      <td>19</td>\n",
       "      <td>40</td>\n",
       "      <td>45</td>\n",
       "      <td>79</td>\n",
       "      <td>122</td>\n",
       "      <td>94</td>\n",
       "      <td>38</td>\n",
       "      <td>0</td>\n",
       "      <td>81</td>\n",
       "      <td>0</td>\n",
       "      <td>0</td>\n",
       "      <td>3</td>\n",
       "    </tr>\n",
       "  </tbody>\n",
       "</table>\n",
       "<p>75 rows × 18 columns</p>\n",
       "</div>"
      ],
      "text/plain": [
       "new_column         userid  label  01   02  03   04  05   06   07   08   09  \\\n",
       "0           C-2021-1_U100      2  11   20   6   20  10    6    9    4    7   \n",
       "1           C-2021-1_U101      1  40  103  73  147  92  143  202  150  146   \n",
       "2           C-2021-1_U103      1  33   45  45   51  52   53   96   90   89   \n",
       "3           C-2021-1_U107      2   0    0   0   10   3   15    7    3    1   \n",
       "4            C-2021-1_U12      1  60   10  14   35  29   20   21    9   70   \n",
       "..                    ...    ...  ..  ...  ..  ...  ..  ...  ...  ...  ...   \n",
       "70           C-2022-1_U74      2  69   11  15   30  28   18   20   17    6   \n",
       "71           C-2022-1_U79      1  11  101  50  125  93   80   92   70   54   \n",
       "72           C-2022-1_U84      1  52   39  44   60  45   49   41   36   47   \n",
       "73           C-2022-1_U86      2   9    9   7    4   5    3    9    7    4   \n",
       "74           C-2022-1_U90      2  49   58  89   39  19   40   45   79  122   \n",
       "\n",
       "new_column   10   11   12   13   14 15  zero_count  \n",
       "0             9   23   17    7   20  2           0  \n",
       "1           109  218  184  290  170  5           0  \n",
       "2            91  110   52   50  138  2           0  \n",
       "3             6    4    5   11   25  2           3  \n",
       "4            28  107   58   31   73  9           0  \n",
       "..          ...  ...  ...  ...  ... ..         ...  \n",
       "70           25    9   26    0   26  0           2  \n",
       "71           67  157   78   55   85  0           1  \n",
       "72           31   46   58   38   73  0           1  \n",
       "73            4   10    8    4    4  5           0  \n",
       "74           94   38    0   81    0  0           3  \n",
       "\n",
       "[75 rows x 18 columns]"
      ]
     },
     "execution_count": 21,
     "metadata": {},
     "output_type": "execute_result"
    }
   ],
   "source": [
    "Valid_df"
   ]
  },
  {
   "cell_type": "code",
   "execution_count": 22,
   "metadata": {},
   "outputs": [
    {
     "data": {
      "text/plain": [
       "<Axes: title={'center': 'cos_mean'}, xlabel='Category'>"
      ]
     },
     "execution_count": 22,
     "metadata": {},
     "output_type": "execute_result"
    },
    {
     "data": {
      "image/png": "[encoded data removed]",
      "text/plain": [
       "<Figure size 640x480 with 1 Axes>"
      ]
     },
     "metadata": {},
     "output_type": "display_data"
    }
   ],
   "source": [
    "tc_dist.boxplot(column='cos_mean', by='Category', grid=False, showfliers=False, color='black')"
   ]
  },
  {
   "cell_type": "code",
   "execution_count": 23,
   "metadata": {},
   "outputs": [
    {
     "data": {
      "text/plain": [
       "<Axes: title={'center': 'cos_mean'}, xlabel='Category'>"
      ]
     },
     "execution_count": 23,
     "metadata": {},
     "output_type": "execute_result"
    },
    {
     "data": {
      "image/png": "[encoded data removed]",
      "text/plain": [
       "<Figure size 640x480 with 1 Axes>"
      ]
     },
     "metadata": {},
     "output_type": "display_data"
    }
   ],
   "source": [
    "# INFO: このとき，Validを用いて分散表現を訓練していないことに留意すること．\n",
    "vc_dist.boxplot(column='cos_mean', by='Category', grid=False, showfliers=False, color='black')"
   ]
  },
  {
   "cell_type": "markdown",
   "metadata": {},
   "source": [
    "### LightGBM Model の訓練"
   ]
  },
  {
   "cell_type": "code",
   "execution_count": 24,
   "metadata": {},
   "outputs": [
    {
     "name": "stderr",
     "output_type": "stream",
     "text": [
      "\u001b[34m\u001b[1mwandb\u001b[0m: Currently logged in as: \u001b[33mmasa1357\u001b[0m. Use \u001b[1m`wandb login --relogin`\u001b[0m to force relogin\n"
     ]
    },
    {
     "data": {
      "text/plain": [
       "True"
      ]
     },
     "execution_count": 24,
     "metadata": {},
     "output_type": "execute_result"
    }
   ],
   "source": [
    "import wandb\n",
    "\n",
    "wandb.login()"
   ]
  },
  {
   "cell_type": "code",
   "execution_count": 25,
   "metadata": {},
   "outputs": [],
   "source": [
    "from wandb.integration.lightgbm import wandb_callback, log_summary\n",
    "import lightgbm as lgb"
   ]
  },
  {
   "cell_type": "code",
   "execution_count": 26,
   "metadata": {},
   "outputs": [],
   "source": [
    "params = {\n",
    "    'objective': 'multiclass',\n",
    "    'num_class': 5,\n",
    "    'metric': 'multi_logloss',\n",
    "    'verbosity': -1,\n",
    "    'boosting_type': 'gbdt',\n",
    "    'num_iterations': 100,\n",
    "    'max_depth': 7,\n",
    "    'learning_rate': 0.01,\n",
    "    'num_leaves': 31\n",
    "}\n",
    "\n",
    "\n",
    "# wandb.config.update(params)"
   ]
  },
  {
   "cell_type": "code",
   "execution_count": 27,
   "metadata": {},
   "outputs": [],
   "source": [
    "def Tree_kfold(X_train, y_train, X_valid, y_valid, params, table=None):\n",
    "    oof = np.zeros((X_train.shape[0], 5))\n",
    "    prediction = np.zeros((X_valid.shape[0], 5))\n",
    "\n",
    "    accuracies = []\n",
    "    f1_scores = []\n",
    "\n",
    "    kf = KFold(n_splits=5, shuffle=True, random_state=42)\n",
    "    for fold, (train_idx, valid_idx) in enumerate(kf.split(X_train)):\n",
    "        logger.info(f\"Fold {fold + 1}\")\n",
    "\n",
    "        # Foldごとにデータを分割\n",
    "        # train用データ：train_idxで指定されたデータ\n",
    "        X_trn = X_train[train_idx]\n",
    "        y_trn = y_train[train_idx]\n",
    "\n",
    "        # valid用データ：valid_idxで指定されたデータ\n",
    "        X_val = X_train[valid_idx]\n",
    "        y_val = y_train[valid_idx]\n",
    "\n",
    "        #Dataset化\n",
    "        lgb_train = lgb.Dataset(X_trn, y_trn)\n",
    "        lgb_eval = lgb.Dataset(X_val, y_val, reference=lgb_train)\n",
    "\n",
    "\n",
    "        # paramsが辞書形式か確認\n",
    "        logger.info(params)\n",
    "        logger.info(\"Train LightGBM Model\")\n",
    "        model = lgb.train(\n",
    "            params,\n",
    "            lgb_train,\n",
    "            valid_sets=[lgb_train, lgb_eval],\n",
    "            valid_names=[\"train\", \"valid\"],\n",
    "            callbacks=[wandb_callback(), lgb.early_stopping(stopping_rounds=100)],\n",
    "        )\n",
    "        logger.info(\"Predict Validation Data\")\n",
    "        oof[valid_idx] = model.predict(X_val, num_iteration=model.best_iteration)\n",
    "        # prediction += (\n",
    "        #     model.predict(X_valid, num_iteration=model.best_iteration) / kf.n_splits\n",
    "        # )\n",
    "\n",
    "        accuracy = accuracy_score(y_val, np.argmax(oof[valid_idx], axis=1))\n",
    "        logger.info(f\"Fold {fold + 1} Accuracy: {accuracy}\")\n",
    "        f1 = f1_score(y_val, np.argmax(oof[valid_idx], axis=1), average=\"macro\")\n",
    "        logger.info(f\"Fold {fold + 1} F1 Score: {f1}\")\n",
    "        accuracies.append(accuracy)\n",
    "        f1_scores.append(f1)\n",
    "        \n",
    "        # log wandb\n",
    "        if table is not None:\n",
    "            table.add_data(\n",
    "                params.get(\"objective\"),\n",
    "                params.get(\"num_class\"),\n",
    "                params.get(\"metric\"),\n",
    "                params.get(\"boosting_type\"),\n",
    "                params.get(\"num_iterations\"),\n",
    "                params.get(\"max_depth\"),\n",
    "                params.get(\"learning_rate\"),\n",
    "                params.get(\"num_leaves\"),\n",
    "                params.get(\"verbosity\"),\n",
    "                fold + 1,\n",
    "                accuracy,\n",
    "                f1,\n",
    "            )\n",
    "            wandb.log({\"Fold metrics\": table})\n",
    "        else:\n",
    "            pass\n",
    "            wandb.log({\"Fold\": fold + 1, \"Accuracy\": accuracy, \"F1 Score\": f1})\n",
    "\n",
    "    final_accuracy = np.mean(accuracies)\n",
    "    final_f1 = np.mean(f1_scores)\n",
    "    logger.info(f\"Final Accuracy: {final_accuracy}\")\n",
    "    logger.info(f\"Final F1 Score: {final_f1}\")\n",
    "\n",
    "    # predict validation data\n",
    "    lgb_train = lgb.Dataset(X_train, y_train)\n",
    "    lgb_eval = lgb.Dataset(X_valid, y_valid, reference=lgb_train)\n",
    "    logger.info(\"Predict Validation Data\")\n",
    "    valmodel = lgb.train(\n",
    "        params,\n",
    "        lgb_train,\n",
    "        valid_sets=[lgb_train, lgb_eval],\n",
    "        valid_names=[\"train\", \"valid\"],\n",
    "        callbacks=[wandb_callback(), lgb.early_stopping(stopping_rounds=100)],\n",
    "    )\n",
    "    prediction = valmodel.predict(X_valid, num_iteration=model.best_iteration)\n",
    "    valid_accuracy = accuracy_score(y_valid, np.argmax(prediction, axis=1))\n",
    "    valid_f1 = f1_score(y_valid, np.argmax(prediction, axis=1), average=\"macro\")\n",
    "    logger.info(f\"Validation Accuracy: {valid_accuracy}\")\n",
    "    logger.info(f\"Validation F1 Score: {valid_f1}\")\n",
    "\n",
    "    wandb.log({\"Final Accuracy\": final_accuracy, \"Final F1 Score\": final_f1})\n",
    "    wandb.log({\"Validation Accuracy\": valid_accuracy, \"Validation F1 Score\": valid_f1})"
   ]
  },
  {
   "cell_type": "code",
   "execution_count": 28,
   "metadata": {},
   "outputs": [],
   "source": [
    "def sweep():\n",
    "    #global化\n",
    "    global Input_df, Valid_df, te_dist, tc_dist, ve_dist, vc_dist\n",
    "\n",
    "    wandb.init(project=\"Tree-Model\", config=params)\n",
    "    # config = params\n",
    "    config = dict(wandb.config)\n",
    "    #configから\"use_data\"を抜き出し，削除\n",
    "    use_data = config.pop(\"use_data\")\n",
    "    #input, valid 定義\n",
    "    input = pd.DataFrame()\n",
    "    valid = pd.DataFrame()\n",
    "    #use_dataを基にデータ結合\n",
    "    match use_data:\n",
    "        case \"ALL\":\n",
    "            input = pd.concat([Input_df, te_dist, tc_dist], axis=1)\n",
    "            valid = pd.concat([Valid_df, ve_dist, vc_dist], axis=1)\n",
    "        case \"NONE\":\n",
    "            input = Input_df.copy()\n",
    "            valid = Valid_df.copy()\n",
    "        case \"euc\":\n",
    "            input = pd.concat([Input_df, te_dist], axis=1)\n",
    "            valid = pd.concat([Valid_df, ve_dist], axis=1)\n",
    "        case \"cos\":\n",
    "            input = pd.concat([Input_df, tc_dist], axis=1)\n",
    "            valid = pd.concat([Valid_df, vc_dist], axis=1)\n",
    "            \n",
    "    X_train = input.drop([\"label\", \"userid\"], axis=1)\n",
    "    X_valid = valid.drop([\"label\", \"userid\"], axis=1)\n",
    "    y_train = input[\"label\"]\n",
    "    y_valid = valid[\"label\"]\n",
    "\n",
    "    X_train = X_train.astype(float)\n",
    "    X_valid = X_valid.astype(float)\n",
    "    y_train = y_train.astype(float)\n",
    "    y_valid = y_valid.astype(float)\n",
    "    # logger.info(f\"config: {config}\")\n",
    "    # config = {\n",
    "    #     \"objective\": wandb.config.objective,\n",
    "    #     \"num_class\": wandb.config.num_class,\n",
    "    #     \"metric\": wandb.config.metric,\n",
    "    #     # --sweep_config--\n",
    "    #     \"boosting_type\": wandb.config.boosting_type,\n",
    "    #     \"num_iterations\": wandb.config.num_iterations,\n",
    "    #     \"max_depth\": wandb.config.max_depth,\n",
    "    #     \"learning_rate\": wandb.config.learning_rate,\n",
    "    #     \"num_leaves\": wandb.config.num_leaves,\n",
    "    #     \"verbosity\": -1,\n",
    "    # }\n",
    "    columns = [\n",
    "        \"objective\",\n",
    "        \"num_class\",\n",
    "        \"metric\",\n",
    "        \"boosting_type\",\n",
    "        \"num_iterations\",\n",
    "        \"max_depth\",\n",
    "        \"learning_rate\",\n",
    "        \"num_leaves\",\n",
    "        \"verbosity\",\n",
    "        \"accuracy\",\n",
    "        \"f1\",\n",
    "    ]\n",
    "    # table = wandb.Table(columns=columns)\n",
    "    Tree_kfold(\n",
    "        X_train.values,\n",
    "        y_train.values,\n",
    "        X_valid.values,\n",
    "        y_valid.values,\n",
    "        config,\n",
    "    )"
   ]
  },
  {
   "cell_type": "code",
   "execution_count": 29,
   "metadata": {},
   "outputs": [],
   "source": [
    "with open(BASE_PATH / \"config\" / \"config.yaml\", \"r\") as f:\n",
    "    config = yaml.safe_load(f)\n",
    "config = dict(config)"
   ]
  },
  {
   "cell_type": "code",
   "execution_count": 30,
   "metadata": {},
   "outputs": [
    {
     "data": {
      "text/plain": [
       "{'name': 'Tree_Model_use_vector_distance',\n",
       " 'description': 'Tree Model',\n",
       " 'method': 'random',\n",
       " 'metric': {'name': 'F1 Score', 'goal': 'maximize'},\n",
       " 'parameters': {'objective': {'value': 'multiclass'},\n",
       "  'num_class': {'value': 5},\n",
       "  'metric': {'value': 'multi_logloss'},\n",
       "  'verbosity': {'value': -1},\n",
       "  'boosting_type': {'values': ['gbdt', 'dart']},\n",
       "  'num_iterations': {'min': 1000, 'max': 10000},\n",
       "  'max_depth': {'min': 3, 'max': 10},\n",
       "  'learning_rate': {'min': 0.01, 'max': 0.1},\n",
       "  'num_leaves': {'min': 10, 'max': 100},\n",
       "  'class_weight': {'values': ['None', 'balanced']},\n",
       "  'use_data': {'values': ['euc', 'cos', 'ALL', 'NONE']}}}"
      ]
     },
     "execution_count": 30,
     "metadata": {},
     "output_type": "execute_result"
    }
   ],
   "source": [
    "config"
   ]
  },
  {
   "cell_type": "code",
   "execution_count": 31,
   "metadata": {},
   "outputs": [
    {
     "name": "stdout",
     "output_type": "stream",
     "text": [
      "Create sweep with ID: gszu4ra5\n",
      "Sweep URL: https://wandb.ai/masa1357/Tree-Model/sweeps/gszu4ra5\n"
     ]
    },
    {
     "name": "stderr",
     "output_type": "stream",
     "text": [
      "\u001b[34m\u001b[1mwandb\u001b[0m: Agent Starting Run: txv0voqx with config:\n",
      "\u001b[34m\u001b[1mwandb\u001b[0m: \tboosting_type: gbdt\n",
      "\u001b[34m\u001b[1mwandb\u001b[0m: \tclass_weight: balanced\n",
      "\u001b[34m\u001b[1mwandb\u001b[0m: \tlearning_rate: 0.029811249466095105\n",
      "\u001b[34m\u001b[1mwandb\u001b[0m: \tmax_depth: 4\n",
      "\u001b[34m\u001b[1mwandb\u001b[0m: \tmetric: multi_logloss\n",
      "\u001b[34m\u001b[1mwandb\u001b[0m: \tnum_class: 5\n",
      "\u001b[34m\u001b[1mwandb\u001b[0m: \tnum_iterations: 8482\n",
      "\u001b[34m\u001b[1mwandb\u001b[0m: \tnum_leaves: 62\n",
      "\u001b[34m\u001b[1mwandb\u001b[0m: \tobjective: multiclass\n",
      "\u001b[34m\u001b[1mwandb\u001b[0m: \tuse_data: ALL\n",
      "\u001b[34m\u001b[1mwandb\u001b[0m: \tverbosity: -1\n",
      "\u001b[34m\u001b[1mwandb\u001b[0m: \u001b[33mWARNING\u001b[0m Ignored wandb.init() arg project when running a sweep.\n"
     ]
    },
    {
     "data": {
      "text/html": [
       "Tracking run with wandb version 0.17.6"
      ],
      "text/plain": [
       "<IPython.core.display.HTML object>"
      ]
     },
     "metadata": {},
     "output_type": "display_data"
    },
    {
     "data": {
      "text/html": [
       "Run data is saved locally in <code>/home/masa1357/Dockerdata/gitfile/Tree-Model/src/wandb/run-20240815_024202-txv0voqx</code>"
      ],
      "text/plain": [
       "<IPython.core.display.HTML object>"
      ]
     },
     "metadata": {},
     "output_type": "display_data"
    },
    {
     "data": {
      "text/html": [
       "Syncing run <strong><a href='https://wandb.ai/masa1357/Tree-Model/runs/txv0voqx' target=\"_blank\">elated-sweep-1</a></strong> to <a href='https://wandb.ai/masa1357/Tree-Model' target=\"_blank\">Weights & Biases</a> (<a href='https://wandb.me/run' target=\"_blank\">docs</a>)<br/>Sweep page: <a href='https://wandb.ai/masa1357/Tree-Model/sweeps/gszu4ra5' target=\"_blank\">https://wandb.ai/masa1357/Tree-Model/sweeps/gszu4ra5</a>"
      ],
      "text/plain": [
       "<IPython.core.display.HTML object>"
      ]
     },
     "metadata": {},
     "output_type": "display_data"
    },
    {
     "data": {
      "text/html": [
       " View project at <a href='https://wandb.ai/masa1357/Tree-Model' target=\"_blank\">https://wandb.ai/masa1357/Tree-Model</a>"
      ],
      "text/plain": [
       "<IPython.core.display.HTML object>"
      ]
     },
     "metadata": {},
     "output_type": "display_data"
    },
    {
     "data": {
      "text/html": [
       " View sweep at <a href='https://wandb.ai/masa1357/Tree-Model/sweeps/gszu4ra5' target=\"_blank\">https://wandb.ai/masa1357/Tree-Model/sweeps/gszu4ra5</a>"
      ],
      "text/plain": [
       "<IPython.core.display.HTML object>"
      ]
     },
     "metadata": {},
     "output_type": "display_data"
    },
    {
     "data": {
      "text/html": [
       " View run at <a href='https://wandb.ai/masa1357/Tree-Model/runs/txv0voqx' target=\"_blank\">https://wandb.ai/masa1357/Tree-Model/runs/txv0voqx</a>"
      ],
      "text/plain": [
       "<IPython.core.display.HTML object>"
      ]
     },
     "metadata": {},
     "output_type": "display_data"
    },
    {
     "name": "stderr",
     "output_type": "stream",
     "text": [
      "2024-08-15 02:42:03,056 : python.util : INFO : 10 : Fold 1\n",
      "2024-08-15 02:42:03,057 : python.util : INFO : 27 : {'objective': 'multiclass', 'num_class': 5, 'metric': 'multi_logloss', 'verbosity': -1, 'boosting_type': 'gbdt', 'num_iterations': 8482, 'max_depth': 4, 'learning_rate': 0.029811249466095105, 'num_leaves': 62, 'class_weight': 'balanced'}\n",
      "2024-08-15 02:42:03,058 : python.util : INFO : 28 : Train LightGBM Model\n",
      "/usr/local/lib/python3.10/dist-packages/lightgbm/engine.py:172: UserWarning: Found `num_iterations` in params. Will use it instead of argument\n",
      "  _log_warning(f\"Found `{alias}` in params. Will use it instead of argument\")\n",
      "\u001b[34m\u001b[1mwandb\u001b[0m: \u001b[33mWARNING\u001b[0m Config item 'objective' was locked by 'sweep' (ignored update).\n",
      "\u001b[34m\u001b[1mwandb\u001b[0m: \u001b[33mWARNING\u001b[0m Config item 'num_class' was locked by 'sweep' (ignored update).\n",
      "\u001b[34m\u001b[1mwandb\u001b[0m: \u001b[33mWARNING\u001b[0m Config item 'metric' was locked by 'sweep' (ignored update).\n",
      "\u001b[34m\u001b[1mwandb\u001b[0m: \u001b[33mWARNING\u001b[0m Config item 'verbosity' was locked by 'sweep' (ignored update).\n",
      "\u001b[34m\u001b[1mwandb\u001b[0m: \u001b[33mWARNING\u001b[0m Config item 'boosting_type' was locked by 'sweep' (ignored update).\n",
      "\u001b[34m\u001b[1mwandb\u001b[0m: \u001b[33mWARNING\u001b[0m Config item 'max_depth' was locked by 'sweep' (ignored update).\n",
      "\u001b[34m\u001b[1mwandb\u001b[0m: \u001b[33mWARNING\u001b[0m Config item 'learning_rate' was locked by 'sweep' (ignored update).\n",
      "\u001b[34m\u001b[1mwandb\u001b[0m: \u001b[33mWARNING\u001b[0m Config item 'num_leaves' was locked by 'sweep' (ignored update).\n",
      "\u001b[34m\u001b[1mwandb\u001b[0m: \u001b[33mWARNING\u001b[0m Config item 'class_weight' was locked by 'sweep' (ignored update).\n",
      "\u001b[34m\u001b[1mwandb\u001b[0m: \u001b[33mWARNING\u001b[0m Config item 'num_iterations' was locked by 'sweep' (ignored update).\n"
     ]
    },
    {
     "name": "stdout",
     "output_type": "stream",
     "text": [
      "Training until validation scores don't improve for 100 rounds\n"
     ]
    },
    {
     "name": "stderr",
     "output_type": "stream",
     "text": [
      "2024-08-15 02:42:04,366 : python.util : INFO : 36 : Predict Validation Data\n",
      "2024-08-15 02:42:04,369 : python.util : INFO : 43 : Fold 1 Accuracy: 1.0\n",
      "2024-08-15 02:42:04,372 : python.util : INFO : 45 : Fold 1 F1 Score: 1.0\n",
      "2024-08-15 02:42:04,373 : python.util : INFO : 10 : Fold 2\n",
      "2024-08-15 02:42:04,374 : python.util : INFO : 27 : {'objective': 'multiclass', 'num_class': 5, 'metric': 'multi_logloss', 'verbosity': -1, 'boosting_type': 'gbdt', 'num_iterations': 8482, 'max_depth': 4, 'learning_rate': 0.029811249466095105, 'num_leaves': 62, 'class_weight': 'balanced'}\n",
      "2024-08-15 02:42:04,374 : python.util : INFO : 28 : Train LightGBM Model\n",
      "/usr/local/lib/python3.10/dist-packages/lightgbm/engine.py:172: UserWarning: Found `num_iterations` in params. Will use it instead of argument\n",
      "  _log_warning(f\"Found `{alias}` in params. Will use it instead of argument\")\n",
      "\u001b[34m\u001b[1mwandb\u001b[0m: \u001b[33mWARNING\u001b[0m Config item 'objective' was locked by 'sweep' (ignored update).\n",
      "\u001b[34m\u001b[1mwandb\u001b[0m: \u001b[33mWARNING\u001b[0m Config item 'num_class' was locked by 'sweep' (ignored update).\n",
      "\u001b[34m\u001b[1mwandb\u001b[0m: \u001b[33mWARNING\u001b[0m Config item 'metric' was locked by 'sweep' (ignored update).\n",
      "\u001b[34m\u001b[1mwandb\u001b[0m: \u001b[33mWARNING\u001b[0m Config item 'verbosity' was locked by 'sweep' (ignored update).\n",
      "\u001b[34m\u001b[1mwandb\u001b[0m: \u001b[33mWARNING\u001b[0m Config item 'boosting_type' was locked by 'sweep' (ignored update).\n",
      "\u001b[34m\u001b[1mwandb\u001b[0m: \u001b[33mWARNING\u001b[0m Config item 'max_depth' was locked by 'sweep' (ignored update).\n",
      "\u001b[34m\u001b[1mwandb\u001b[0m: \u001b[33mWARNING\u001b[0m Config item 'learning_rate' was locked by 'sweep' (ignored update).\n",
      "\u001b[34m\u001b[1mwandb\u001b[0m: \u001b[33mWARNING\u001b[0m Config item 'num_leaves' was locked by 'sweep' (ignored update).\n",
      "\u001b[34m\u001b[1mwandb\u001b[0m: \u001b[33mWARNING\u001b[0m Config item 'class_weight' was locked by 'sweep' (ignored update).\n",
      "\u001b[34m\u001b[1mwandb\u001b[0m: \u001b[33mWARNING\u001b[0m Config item 'num_iterations' was locked by 'sweep' (ignored update).\n"
     ]
    },
    {
     "name": "stdout",
     "output_type": "stream",
     "text": [
      "Early stopping, best iteration is:\n",
      "[309]\ttrain's multi_logloss: 1.79165e-05\tvalid's multi_logloss: 1.90301e-05\n",
      "Training until validation scores don't improve for 100 rounds\n"
     ]
    },
    {
     "name": "stderr",
     "output_type": "stream",
     "text": [
      "2024-08-15 02:42:08,044 : python.util : INFO : 36 : Predict Validation Data\n",
      "2024-08-15 02:42:08,047 : python.util : INFO : 43 : Fold 2 Accuracy: 1.0\n",
      "2024-08-15 02:42:08,050 : python.util : INFO : 45 : Fold 2 F1 Score: 1.0\n",
      "2024-08-15 02:42:08,051 : python.util : INFO : 10 : Fold 3\n",
      "2024-08-15 02:42:08,052 : python.util : INFO : 27 : {'objective': 'multiclass', 'num_class': 5, 'metric': 'multi_logloss', 'verbosity': -1, 'boosting_type': 'gbdt', 'num_iterations': 8482, 'max_depth': 4, 'learning_rate': 0.029811249466095105, 'num_leaves': 62, 'class_weight': 'balanced'}\n",
      "2024-08-15 02:42:08,052 : python.util : INFO : 28 : Train LightGBM Model\n",
      "/usr/local/lib/python3.10/dist-packages/lightgbm/engine.py:172: UserWarning: Found `num_iterations` in params. Will use it instead of argument\n",
      "  _log_warning(f\"Found `{alias}` in params. Will use it instead of argument\")\n",
      "\u001b[34m\u001b[1mwandb\u001b[0m: \u001b[33mWARNING\u001b[0m Config item 'objective' was locked by 'sweep' (ignored update).\n",
      "\u001b[34m\u001b[1mwandb\u001b[0m: \u001b[33mWARNING\u001b[0m Config item 'num_class' was locked by 'sweep' (ignored update).\n",
      "\u001b[34m\u001b[1mwandb\u001b[0m: \u001b[33mWARNING\u001b[0m Config item 'metric' was locked by 'sweep' (ignored update).\n",
      "\u001b[34m\u001b[1mwandb\u001b[0m: \u001b[33mWARNING\u001b[0m Config item 'verbosity' was locked by 'sweep' (ignored update).\n",
      "\u001b[34m\u001b[1mwandb\u001b[0m: \u001b[33mWARNING\u001b[0m Config item 'boosting_type' was locked by 'sweep' (ignored update).\n",
      "\u001b[34m\u001b[1mwandb\u001b[0m: \u001b[33mWARNING\u001b[0m Config item 'max_depth' was locked by 'sweep' (ignored update).\n",
      "\u001b[34m\u001b[1mwandb\u001b[0m: \u001b[33mWARNING\u001b[0m Config item 'learning_rate' was locked by 'sweep' (ignored update).\n",
      "\u001b[34m\u001b[1mwandb\u001b[0m: \u001b[33mWARNING\u001b[0m Config item 'num_leaves' was locked by 'sweep' (ignored update).\n",
      "\u001b[34m\u001b[1mwandb\u001b[0m: \u001b[33mWARNING\u001b[0m Config item 'class_weight' was locked by 'sweep' (ignored update).\n",
      "\u001b[34m\u001b[1mwandb\u001b[0m: \u001b[33mWARNING\u001b[0m Config item 'num_iterations' was locked by 'sweep' (ignored update).\n"
     ]
    },
    {
     "name": "stdout",
     "output_type": "stream",
     "text": [
      "Early stopping, best iteration is:\n",
      "[745]\ttrain's multi_logloss: 1.61651e-05\tvalid's multi_logloss: 2.62955e-05\n",
      "Training until validation scores don't improve for 100 rounds\n"
     ]
    },
    {
     "name": "stderr",
     "output_type": "stream",
     "text": [
      "2024-08-15 02:42:09,341 : python.util : INFO : 36 : Predict Validation Data\n",
      "2024-08-15 02:42:09,344 : python.util : INFO : 43 : Fold 3 Accuracy: 1.0\n",
      "2024-08-15 02:42:09,347 : python.util : INFO : 45 : Fold 3 F1 Score: 1.0\n",
      "2024-08-15 02:42:09,347 : python.util : INFO : 10 : Fold 4\n",
      "2024-08-15 02:42:09,348 : python.util : INFO : 27 : {'objective': 'multiclass', 'num_class': 5, 'metric': 'multi_logloss', 'verbosity': -1, 'boosting_type': 'gbdt', 'num_iterations': 8482, 'max_depth': 4, 'learning_rate': 0.029811249466095105, 'num_leaves': 62, 'class_weight': 'balanced'}\n",
      "2024-08-15 02:42:09,349 : python.util : INFO : 28 : Train LightGBM Model\n",
      "/usr/local/lib/python3.10/dist-packages/lightgbm/engine.py:172: UserWarning: Found `num_iterations` in params. Will use it instead of argument\n",
      "  _log_warning(f\"Found `{alias}` in params. Will use it instead of argument\")\n",
      "\u001b[34m\u001b[1mwandb\u001b[0m: \u001b[33mWARNING\u001b[0m Config item 'objective' was locked by 'sweep' (ignored update).\n",
      "\u001b[34m\u001b[1mwandb\u001b[0m: \u001b[33mWARNING\u001b[0m Config item 'num_class' was locked by 'sweep' (ignored update).\n",
      "\u001b[34m\u001b[1mwandb\u001b[0m: \u001b[33mWARNING\u001b[0m Config item 'metric' was locked by 'sweep' (ignored update).\n",
      "\u001b[34m\u001b[1mwandb\u001b[0m: \u001b[33mWARNING\u001b[0m Config item 'verbosity' was locked by 'sweep' (ignored update).\n",
      "\u001b[34m\u001b[1mwandb\u001b[0m: \u001b[33mWARNING\u001b[0m Config item 'boosting_type' was locked by 'sweep' (ignored update).\n",
      "\u001b[34m\u001b[1mwandb\u001b[0m: \u001b[33mWARNING\u001b[0m Config item 'max_depth' was locked by 'sweep' (ignored update).\n",
      "\u001b[34m\u001b[1mwandb\u001b[0m: \u001b[33mWARNING\u001b[0m Config item 'learning_rate' was locked by 'sweep' (ignored update).\n",
      "\u001b[34m\u001b[1mwandb\u001b[0m: \u001b[33mWARNING\u001b[0m Config item 'num_leaves' was locked by 'sweep' (ignored update).\n",
      "\u001b[34m\u001b[1mwandb\u001b[0m: \u001b[33mWARNING\u001b[0m Config item 'class_weight' was locked by 'sweep' (ignored update).\n",
      "\u001b[34m\u001b[1mwandb\u001b[0m: \u001b[33mWARNING\u001b[0m Config item 'num_iterations' was locked by 'sweep' (ignored update).\n"
     ]
    },
    {
     "name": "stdout",
     "output_type": "stream",
     "text": [
      "Early stopping, best iteration is:\n",
      "[438]\ttrain's multi_logloss: 1.73668e-05\tvalid's multi_logloss: 3.18718e-05\n",
      "Training until validation scores don't improve for 100 rounds\n"
     ]
    },
    {
     "name": "stderr",
     "output_type": "stream",
     "text": [
      "2024-08-15 02:42:10,386 : python.util : INFO : 36 : Predict Validation Data\n",
      "2024-08-15 02:42:10,389 : python.util : INFO : 43 : Fold 4 Accuracy: 1.0\n",
      "2024-08-15 02:42:10,392 : python.util : INFO : 45 : Fold 4 F1 Score: 1.0\n",
      "2024-08-15 02:42:10,392 : python.util : INFO : 10 : Fold 5\n",
      "2024-08-15 02:42:10,393 : python.util : INFO : 27 : {'objective': 'multiclass', 'num_class': 5, 'metric': 'multi_logloss', 'verbosity': -1, 'boosting_type': 'gbdt', 'num_iterations': 8482, 'max_depth': 4, 'learning_rate': 0.029811249466095105, 'num_leaves': 62, 'class_weight': 'balanced'}\n",
      "2024-08-15 02:42:10,394 : python.util : INFO : 28 : Train LightGBM Model\n",
      "/usr/local/lib/python3.10/dist-packages/lightgbm/engine.py:172: UserWarning: Found `num_iterations` in params. Will use it instead of argument\n",
      "  _log_warning(f\"Found `{alias}` in params. Will use it instead of argument\")\n",
      "\u001b[34m\u001b[1mwandb\u001b[0m: \u001b[33mWARNING\u001b[0m Config item 'objective' was locked by 'sweep' (ignored update).\n",
      "\u001b[34m\u001b[1mwandb\u001b[0m: \u001b[33mWARNING\u001b[0m Config item 'num_class' was locked by 'sweep' (ignored update).\n",
      "\u001b[34m\u001b[1mwandb\u001b[0m: \u001b[33mWARNING\u001b[0m Config item 'metric' was locked by 'sweep' (ignored update).\n",
      "\u001b[34m\u001b[1mwandb\u001b[0m: \u001b[33mWARNING\u001b[0m Config item 'verbosity' was locked by 'sweep' (ignored update).\n",
      "\u001b[34m\u001b[1mwandb\u001b[0m: \u001b[33mWARNING\u001b[0m Config item 'boosting_type' was locked by 'sweep' (ignored update).\n",
      "\u001b[34m\u001b[1mwandb\u001b[0m: \u001b[33mWARNING\u001b[0m Config item 'max_depth' was locked by 'sweep' (ignored update).\n",
      "\u001b[34m\u001b[1mwandb\u001b[0m: \u001b[33mWARNING\u001b[0m Config item 'learning_rate' was locked by 'sweep' (ignored update).\n",
      "\u001b[34m\u001b[1mwandb\u001b[0m: \u001b[33mWARNING\u001b[0m Config item 'num_leaves' was locked by 'sweep' (ignored update).\n",
      "\u001b[34m\u001b[1mwandb\u001b[0m: \u001b[33mWARNING\u001b[0m Config item 'class_weight' was locked by 'sweep' (ignored update).\n",
      "\u001b[34m\u001b[1mwandb\u001b[0m: \u001b[33mWARNING\u001b[0m Config item 'num_iterations' was locked by 'sweep' (ignored update).\n"
     ]
    },
    {
     "name": "stdout",
     "output_type": "stream",
     "text": [
      "Early stopping, best iteration is:\n",
      "[304]\ttrain's multi_logloss: 1.82424e-05\tvalid's multi_logloss: 1.84463e-05\n",
      "Training until validation scores don't improve for 100 rounds\n"
     ]
    },
    {
     "name": "stderr",
     "output_type": "stream",
     "text": [
      "2024-08-15 02:42:11,361 : python.util : INFO : 36 : Predict Validation Data\n",
      "2024-08-15 02:42:11,364 : python.util : INFO : 43 : Fold 5 Accuracy: 1.0\n",
      "2024-08-15 02:42:11,367 : python.util : INFO : 45 : Fold 5 F1 Score: 1.0\n",
      "2024-08-15 02:42:11,367 : python.util : INFO : 72 : Final Accuracy: 1.0\n",
      "2024-08-15 02:42:11,368 : python.util : INFO : 73 : Final F1 Score: 1.0\n",
      "2024-08-15 02:42:11,369 : python.util : INFO : 78 : Predict Validation Data\n",
      "/usr/local/lib/python3.10/dist-packages/lightgbm/engine.py:172: UserWarning: Found `num_iterations` in params. Will use it instead of argument\n",
      "  _log_warning(f\"Found `{alias}` in params. Will use it instead of argument\")\n",
      "\u001b[34m\u001b[1mwandb\u001b[0m: \u001b[33mWARNING\u001b[0m Config item 'objective' was locked by 'sweep' (ignored update).\n",
      "\u001b[34m\u001b[1mwandb\u001b[0m: \u001b[33mWARNING\u001b[0m Config item 'num_class' was locked by 'sweep' (ignored update).\n",
      "\u001b[34m\u001b[1mwandb\u001b[0m: \u001b[33mWARNING\u001b[0m Config item 'metric' was locked by 'sweep' (ignored update).\n",
      "\u001b[34m\u001b[1mwandb\u001b[0m: \u001b[33mWARNING\u001b[0m Config item 'verbosity' was locked by 'sweep' (ignored update).\n",
      "\u001b[34m\u001b[1mwandb\u001b[0m: \u001b[33mWARNING\u001b[0m Config item 'boosting_type' was locked by 'sweep' (ignored update).\n",
      "\u001b[34m\u001b[1mwandb\u001b[0m: \u001b[33mWARNING\u001b[0m Config item 'max_depth' was locked by 'sweep' (ignored update).\n",
      "\u001b[34m\u001b[1mwandb\u001b[0m: \u001b[33mWARNING\u001b[0m Config item 'learning_rate' was locked by 'sweep' (ignored update).\n",
      "\u001b[34m\u001b[1mwandb\u001b[0m: \u001b[33mWARNING\u001b[0m Config item 'num_leaves' was locked by 'sweep' (ignored update).\n",
      "\u001b[34m\u001b[1mwandb\u001b[0m: \u001b[33mWARNING\u001b[0m Config item 'class_weight' was locked by 'sweep' (ignored update).\n",
      "\u001b[34m\u001b[1mwandb\u001b[0m: \u001b[33mWARNING\u001b[0m Config item 'num_iterations' was locked by 'sweep' (ignored update).\n"
     ]
    },
    {
     "name": "stdout",
     "output_type": "stream",
     "text": [
      "Early stopping, best iteration is:\n",
      "[256]\ttrain's multi_logloss: 1.95941e-05\tvalid's multi_logloss: 2.70875e-05\n",
      "Training until validation scores don't improve for 100 rounds\n"
     ]
    },
    {
     "name": "stderr",
     "output_type": "stream",
     "text": [
      "2024-08-15 02:42:13,290 : python.util : INFO : 89 : Validation Accuracy: 1.0\n",
      "2024-08-15 02:42:13,291 : python.util : INFO : 90 : Validation F1 Score: 1.0\n"
     ]
    },
    {
     "name": "stdout",
     "output_type": "stream",
     "text": [
      "Early stopping, best iteration is:\n",
      "[541]\ttrain's multi_logloss: 1.35165e-05\tvalid's multi_logloss: 1.73466e-05\n"
     ]
    },
    {
     "data": {
      "text/html": [
       "<style>\n",
       "    table.wandb td:nth-child(1) { padding: 0 10px; text-align: left ; width: auto;} td:nth-child(2) {text-align: left ; width: 100%}\n",
       "    .wandb-row { display: flex; flex-direction: row; flex-wrap: wrap; justify-content: flex-start; width: 100% }\n",
       "    .wandb-col { display: flex; flex-direction: column; flex-basis: 100%; flex: 1; padding: 10px; }\n",
       "    </style>\n",
       "<div class=\"wandb-row\"><div class=\"wandb-col\"><h3>Run history:</h3><br/><table class=\"wandb\"><tr><td>Accuracy</td><td>▁▁▁▁▁</td></tr><tr><td>F1 Score</td><td>▁▁▁▁▁</td></tr><tr><td>Final Accuracy</td><td>▁</td></tr><tr><td>Final F1 Score</td><td>▁</td></tr><tr><td>Fold</td><td>▁▃▅▆█</td></tr><tr><td>Validation Accuracy</td><td>▁</td></tr><tr><td>Validation F1 Score</td><td>▁</td></tr><tr><td>iteration</td><td>▁▂▃▃▄▁▂▂▃▄▅▅▆▇▇█▁▂▃▃▄▅▆▁▂▃▄▄▂▂▃▄▁▂▃▃▄▅▅▆</td></tr><tr><td>train_multi_logloss</td><td>▃▁▁▁▁█▁▁▁▁▁▁▁▁▁▁▂▁▁▁▁▁▁▁▁▁▁▁▁▁▁▁▂▁▁▁▁▁▁▁</td></tr><tr><td>valid_multi_logloss</td><td>▃▁▁▁▁█▁▁▁▁▁▁▁▁▁▁▂▁▁▁▁▁▁▁▁▁▁▁▁▁▁▁▂▁▁▁▁▁▁▁</td></tr></table><br/></div><div class=\"wandb-col\"><h3>Run summary:</h3><br/><table class=\"wandb\"><tr><td>Accuracy</td><td>1.0</td></tr><tr><td>F1 Score</td><td>1.0</td></tr><tr><td>Final Accuracy</td><td>1.0</td></tr><tr><td>Final F1 Score</td><td>1.0</td></tr><tr><td>Fold</td><td>5</td></tr><tr><td>Validation Accuracy</td><td>1.0</td></tr><tr><td>Validation F1 Score</td><td>1.0</td></tr><tr><td>iteration</td><td>640</td></tr></table><br/></div></div>"
      ],
      "text/plain": [
       "<IPython.core.display.HTML object>"
      ]
     },
     "metadata": {},
     "output_type": "display_data"
    },
    {
     "data": {
      "text/html": [
       " View run <strong style=\"color:#cdcd00\">elated-sweep-1</strong> at: <a href='https://wandb.ai/masa1357/Tree-Model/runs/txv0voqx' target=\"_blank\">https://wandb.ai/masa1357/Tree-Model/runs/txv0voqx</a><br/> View project at: <a href='https://wandb.ai/masa1357/Tree-Model' target=\"_blank\">https://wandb.ai/masa1357/Tree-Model</a><br/>Synced 5 W&B file(s), 0 media file(s), 0 artifact file(s) and 0 other file(s)"
      ],
      "text/plain": [
       "<IPython.core.display.HTML object>"
      ]
     },
     "metadata": {},
     "output_type": "display_data"
    },
    {
     "data": {
      "text/html": [
       "Find logs at: <code>./wandb/run-20240815_024202-txv0voqx/logs</code>"
      ],
      "text/plain": [
       "<IPython.core.display.HTML object>"
      ]
     },
     "metadata": {},
     "output_type": "display_data"
    },
    {
     "data": {
      "text/html": [
       "The new W&B backend becomes opt-out in version 0.18.0; try it out with `wandb.require(\"core\")`! See https://wandb.me/wandb-core for more information."
      ],
      "text/plain": [
       "<IPython.core.display.HTML object>"
      ]
     },
     "metadata": {},
     "output_type": "display_data"
    },
    {
     "name": "stderr",
     "output_type": "stream",
     "text": [
      "\u001b[34m\u001b[1mwandb\u001b[0m: Agent Starting Run: tt79xt8z with config:\n",
      "\u001b[34m\u001b[1mwandb\u001b[0m: \tboosting_type: gbdt\n",
      "\u001b[34m\u001b[1mwandb\u001b[0m: \tclass_weight: balanced\n",
      "\u001b[34m\u001b[1mwandb\u001b[0m: \tlearning_rate: 0.055291970145420845\n",
      "\u001b[34m\u001b[1mwandb\u001b[0m: \tmax_depth: 9\n",
      "\u001b[34m\u001b[1mwandb\u001b[0m: \tmetric: multi_logloss\n",
      "\u001b[34m\u001b[1mwandb\u001b[0m: \tnum_class: 5\n",
      "\u001b[34m\u001b[1mwandb\u001b[0m: \tnum_iterations: 8468\n",
      "\u001b[34m\u001b[1mwandb\u001b[0m: \tnum_leaves: 12\n",
      "\u001b[34m\u001b[1mwandb\u001b[0m: \tobjective: multiclass\n",
      "\u001b[34m\u001b[1mwandb\u001b[0m: \tuse_data: ALL\n",
      "\u001b[34m\u001b[1mwandb\u001b[0m: \tverbosity: -1\n",
      "\u001b[34m\u001b[1mwandb\u001b[0m: \u001b[33mWARNING\u001b[0m Ignored wandb.init() arg project when running a sweep.\n"
     ]
    },
    {
     "data": {
      "text/html": [
       "Tracking run with wandb version 0.17.6"
      ],
      "text/plain": [
       "<IPython.core.display.HTML object>"
      ]
     },
     "metadata": {},
     "output_type": "display_data"
    },
    {
     "data": {
      "text/html": [
       "Run data is saved locally in <code>/home/masa1357/Dockerdata/gitfile/Tree-Model/src/wandb/run-20240815_024224-tt79xt8z</code>"
      ],
      "text/plain": [
       "<IPython.core.display.HTML object>"
      ]
     },
     "metadata": {},
     "output_type": "display_data"
    },
    {
     "data": {
      "text/html": [
       "Syncing run <strong><a href='https://wandb.ai/masa1357/Tree-Model/runs/tt79xt8z' target=\"_blank\">olive-sweep-2</a></strong> to <a href='https://wandb.ai/masa1357/Tree-Model' target=\"_blank\">Weights & Biases</a> (<a href='https://wandb.me/run' target=\"_blank\">docs</a>)<br/>Sweep page: <a href='https://wandb.ai/masa1357/Tree-Model/sweeps/gszu4ra5' target=\"_blank\">https://wandb.ai/masa1357/Tree-Model/sweeps/gszu4ra5</a>"
      ],
      "text/plain": [
       "<IPython.core.display.HTML object>"
      ]
     },
     "metadata": {},
     "output_type": "display_data"
    },
    {
     "data": {
      "text/html": [
       " View project at <a href='https://wandb.ai/masa1357/Tree-Model' target=\"_blank\">https://wandb.ai/masa1357/Tree-Model</a>"
      ],
      "text/plain": [
       "<IPython.core.display.HTML object>"
      ]
     },
     "metadata": {},
     "output_type": "display_data"
    },
    {
     "data": {
      "text/html": [
       " View sweep at <a href='https://wandb.ai/masa1357/Tree-Model/sweeps/gszu4ra5' target=\"_blank\">https://wandb.ai/masa1357/Tree-Model/sweeps/gszu4ra5</a>"
      ],
      "text/plain": [
       "<IPython.core.display.HTML object>"
      ]
     },
     "metadata": {},
     "output_type": "display_data"
    },
    {
     "data": {
      "text/html": [
       " View run at <a href='https://wandb.ai/masa1357/Tree-Model/runs/tt79xt8z' target=\"_blank\">https://wandb.ai/masa1357/Tree-Model/runs/tt79xt8z</a>"
      ],
      "text/plain": [
       "<IPython.core.display.HTML object>"
      ]
     },
     "metadata": {},
     "output_type": "display_data"
    },
    {
     "name": "stderr",
     "output_type": "stream",
     "text": [
      "2024-08-15 02:42:24,965 : python.util : INFO : 10 : Fold 1\n",
      "2024-08-15 02:42:24,966 : python.util : INFO : 27 : {'objective': 'multiclass', 'num_class': 5, 'metric': 'multi_logloss', 'verbosity': -1, 'boosting_type': 'gbdt', 'num_iterations': 8468, 'max_depth': 9, 'learning_rate': 0.055291970145420845, 'num_leaves': 12, 'class_weight': 'balanced'}\n",
      "2024-08-15 02:42:24,967 : python.util : INFO : 28 : Train LightGBM Model\n",
      "/usr/local/lib/python3.10/dist-packages/lightgbm/engine.py:172: UserWarning: Found `num_iterations` in params. Will use it instead of argument\n",
      "  _log_warning(f\"Found `{alias}` in params. Will use it instead of argument\")\n",
      "\u001b[34m\u001b[1mwandb\u001b[0m: \u001b[33mWARNING\u001b[0m Config item 'objective' was locked by 'sweep' (ignored update).\n",
      "\u001b[34m\u001b[1mwandb\u001b[0m: \u001b[33mWARNING\u001b[0m Config item 'num_class' was locked by 'sweep' (ignored update).\n",
      "\u001b[34m\u001b[1mwandb\u001b[0m: \u001b[33mWARNING\u001b[0m Config item 'metric' was locked by 'sweep' (ignored update).\n",
      "\u001b[34m\u001b[1mwandb\u001b[0m: \u001b[33mWARNING\u001b[0m Config item 'verbosity' was locked by 'sweep' (ignored update).\n",
      "\u001b[34m\u001b[1mwandb\u001b[0m: \u001b[33mWARNING\u001b[0m Config item 'boosting_type' was locked by 'sweep' (ignored update).\n",
      "\u001b[34m\u001b[1mwandb\u001b[0m: \u001b[33mWARNING\u001b[0m Config item 'max_depth' was locked by 'sweep' (ignored update).\n",
      "\u001b[34m\u001b[1mwandb\u001b[0m: \u001b[33mWARNING\u001b[0m Config item 'learning_rate' was locked by 'sweep' (ignored update).\n",
      "\u001b[34m\u001b[1mwandb\u001b[0m: \u001b[33mWARNING\u001b[0m Config item 'num_leaves' was locked by 'sweep' (ignored update).\n",
      "\u001b[34m\u001b[1mwandb\u001b[0m: \u001b[33mWARNING\u001b[0m Config item 'class_weight' was locked by 'sweep' (ignored update).\n",
      "\u001b[34m\u001b[1mwandb\u001b[0m: \u001b[33mWARNING\u001b[0m Config item 'num_iterations' was locked by 'sweep' (ignored update).\n"
     ]
    },
    {
     "name": "stdout",
     "output_type": "stream",
     "text": [
      "Training until validation scores don't improve for 100 rounds\n"
     ]
    },
    {
     "name": "stderr",
     "output_type": "stream",
     "text": [
      "2024-08-15 02:42:25,980 : python.util : INFO : 36 : Predict Validation Data\n",
      "2024-08-15 02:42:25,982 : python.util : INFO : 43 : Fold 1 Accuracy: 1.0\n",
      "2024-08-15 02:42:25,985 : python.util : INFO : 45 : Fold 1 F1 Score: 1.0\n",
      "2024-08-15 02:42:25,986 : python.util : INFO : 10 : Fold 2\n",
      "2024-08-15 02:42:25,987 : python.util : INFO : 27 : {'objective': 'multiclass', 'num_class': 5, 'metric': 'multi_logloss', 'verbosity': -1, 'boosting_type': 'gbdt', 'num_iterations': 8468, 'max_depth': 9, 'learning_rate': 0.055291970145420845, 'num_leaves': 12, 'class_weight': 'balanced'}\n",
      "2024-08-15 02:42:25,987 : python.util : INFO : 28 : Train LightGBM Model\n",
      "/usr/local/lib/python3.10/dist-packages/lightgbm/engine.py:172: UserWarning: Found `num_iterations` in params. Will use it instead of argument\n",
      "  _log_warning(f\"Found `{alias}` in params. Will use it instead of argument\")\n",
      "\u001b[34m\u001b[1mwandb\u001b[0m: \u001b[33mWARNING\u001b[0m Config item 'objective' was locked by 'sweep' (ignored update).\n",
      "\u001b[34m\u001b[1mwandb\u001b[0m: \u001b[33mWARNING\u001b[0m Config item 'num_class' was locked by 'sweep' (ignored update).\n",
      "\u001b[34m\u001b[1mwandb\u001b[0m: \u001b[33mWARNING\u001b[0m Config item 'metric' was locked by 'sweep' (ignored update).\n",
      "\u001b[34m\u001b[1mwandb\u001b[0m: \u001b[33mWARNING\u001b[0m Config item 'verbosity' was locked by 'sweep' (ignored update).\n",
      "\u001b[34m\u001b[1mwandb\u001b[0m: \u001b[33mWARNING\u001b[0m Config item 'boosting_type' was locked by 'sweep' (ignored update).\n",
      "\u001b[34m\u001b[1mwandb\u001b[0m: \u001b[33mWARNING\u001b[0m Config item 'max_depth' was locked by 'sweep' (ignored update).\n",
      "\u001b[34m\u001b[1mwandb\u001b[0m: \u001b[33mWARNING\u001b[0m Config item 'learning_rate' was locked by 'sweep' (ignored update).\n",
      "\u001b[34m\u001b[1mwandb\u001b[0m: \u001b[33mWARNING\u001b[0m Config item 'num_leaves' was locked by 'sweep' (ignored update).\n",
      "\u001b[34m\u001b[1mwandb\u001b[0m: \u001b[33mWARNING\u001b[0m Config item 'class_weight' was locked by 'sweep' (ignored update).\n",
      "\u001b[34m\u001b[1mwandb\u001b[0m: \u001b[33mWARNING\u001b[0m Config item 'num_iterations' was locked by 'sweep' (ignored update).\n"
     ]
    },
    {
     "name": "stdout",
     "output_type": "stream",
     "text": [
      "Early stopping, best iteration is:\n",
      "[169]\ttrain's multi_logloss: 1.77723e-05\tvalid's multi_logloss: 1.90495e-05\n",
      "Training until validation scores don't improve for 100 rounds\n"
     ]
    },
    {
     "name": "stderr",
     "output_type": "stream",
     "text": [
      "2024-08-15 02:42:27,835 : python.util : INFO : 36 : Predict Validation Data\n",
      "2024-08-15 02:42:27,839 : python.util : INFO : 43 : Fold 2 Accuracy: 1.0\n",
      "2024-08-15 02:42:27,842 : python.util : INFO : 45 : Fold 2 F1 Score: 1.0\n",
      "2024-08-15 02:42:27,843 : python.util : INFO : 10 : Fold 3\n",
      "2024-08-15 02:42:27,844 : python.util : INFO : 27 : {'objective': 'multiclass', 'num_class': 5, 'metric': 'multi_logloss', 'verbosity': -1, 'boosting_type': 'gbdt', 'num_iterations': 8468, 'max_depth': 9, 'learning_rate': 0.055291970145420845, 'num_leaves': 12, 'class_weight': 'balanced'}\n",
      "2024-08-15 02:42:27,844 : python.util : INFO : 28 : Train LightGBM Model\n",
      "/usr/local/lib/python3.10/dist-packages/lightgbm/engine.py:172: UserWarning: Found `num_iterations` in params. Will use it instead of argument\n",
      "  _log_warning(f\"Found `{alias}` in params. Will use it instead of argument\")\n",
      "\u001b[34m\u001b[1mwandb\u001b[0m: \u001b[33mWARNING\u001b[0m Config item 'objective' was locked by 'sweep' (ignored update).\n",
      "\u001b[34m\u001b[1mwandb\u001b[0m: \u001b[33mWARNING\u001b[0m Config item 'num_class' was locked by 'sweep' (ignored update).\n",
      "\u001b[34m\u001b[1mwandb\u001b[0m: \u001b[33mWARNING\u001b[0m Config item 'metric' was locked by 'sweep' (ignored update).\n",
      "\u001b[34m\u001b[1mwandb\u001b[0m: \u001b[33mWARNING\u001b[0m Config item 'verbosity' was locked by 'sweep' (ignored update).\n",
      "\u001b[34m\u001b[1mwandb\u001b[0m: \u001b[33mWARNING\u001b[0m Config item 'boosting_type' was locked by 'sweep' (ignored update).\n",
      "\u001b[34m\u001b[1mwandb\u001b[0m: \u001b[33mWARNING\u001b[0m Config item 'max_depth' was locked by 'sweep' (ignored update).\n",
      "\u001b[34m\u001b[1mwandb\u001b[0m: \u001b[33mWARNING\u001b[0m Config item 'learning_rate' was locked by 'sweep' (ignored update).\n",
      "\u001b[34m\u001b[1mwandb\u001b[0m: \u001b[33mWARNING\u001b[0m Config item 'num_leaves' was locked by 'sweep' (ignored update).\n",
      "\u001b[34m\u001b[1mwandb\u001b[0m: \u001b[33mWARNING\u001b[0m Config item 'class_weight' was locked by 'sweep' (ignored update).\n",
      "\u001b[34m\u001b[1mwandb\u001b[0m: \u001b[33mWARNING\u001b[0m Config item 'num_iterations' was locked by 'sweep' (ignored update).\n"
     ]
    },
    {
     "name": "stdout",
     "output_type": "stream",
     "text": [
      "Early stopping, best iteration is:\n",
      "[422]\ttrain's multi_logloss: 1.59755e-05\tvalid's multi_logloss: 2.65463e-05\n",
      "Training until validation scores don't improve for 100 rounds\n"
     ]
    },
    {
     "name": "stderr",
     "output_type": "stream",
     "text": [
      "2024-08-15 02:42:28,540 : python.util : INFO : 36 : Predict Validation Data\n",
      "2024-08-15 02:42:28,544 : python.util : INFO : 43 : Fold 3 Accuracy: 1.0\n",
      "2024-08-15 02:42:28,547 : python.util : INFO : 45 : Fold 3 F1 Score: 1.0\n",
      "2024-08-15 02:42:28,547 : python.util : INFO : 10 : Fold 4\n",
      "2024-08-15 02:42:28,548 : python.util : INFO : 27 : {'objective': 'multiclass', 'num_class': 5, 'metric': 'multi_logloss', 'verbosity': -1, 'boosting_type': 'gbdt', 'num_iterations': 8468, 'max_depth': 9, 'learning_rate': 0.055291970145420845, 'num_leaves': 12, 'class_weight': 'balanced'}\n",
      "2024-08-15 02:42:28,549 : python.util : INFO : 28 : Train LightGBM Model\n",
      "/usr/local/lib/python3.10/dist-packages/lightgbm/engine.py:172: UserWarning: Found `num_iterations` in params. Will use it instead of argument\n",
      "  _log_warning(f\"Found `{alias}` in params. Will use it instead of argument\")\n",
      "\u001b[34m\u001b[1mwandb\u001b[0m: \u001b[33mWARNING\u001b[0m Config item 'objective' was locked by 'sweep' (ignored update).\n",
      "\u001b[34m\u001b[1mwandb\u001b[0m: \u001b[33mWARNING\u001b[0m Config item 'num_class' was locked by 'sweep' (ignored update).\n",
      "\u001b[34m\u001b[1mwandb\u001b[0m: \u001b[33mWARNING\u001b[0m Config item 'metric' was locked by 'sweep' (ignored update).\n",
      "\u001b[34m\u001b[1mwandb\u001b[0m: \u001b[33mWARNING\u001b[0m Config item 'verbosity' was locked by 'sweep' (ignored update).\n",
      "\u001b[34m\u001b[1mwandb\u001b[0m: \u001b[33mWARNING\u001b[0m Config item 'boosting_type' was locked by 'sweep' (ignored update).\n",
      "\u001b[34m\u001b[1mwandb\u001b[0m: \u001b[33mWARNING\u001b[0m Config item 'max_depth' was locked by 'sweep' (ignored update).\n",
      "\u001b[34m\u001b[1mwandb\u001b[0m: \u001b[33mWARNING\u001b[0m Config item 'learning_rate' was locked by 'sweep' (ignored update).\n",
      "\u001b[34m\u001b[1mwandb\u001b[0m: \u001b[33mWARNING\u001b[0m Config item 'num_leaves' was locked by 'sweep' (ignored update).\n",
      "\u001b[34m\u001b[1mwandb\u001b[0m: \u001b[33mWARNING\u001b[0m Config item 'class_weight' was locked by 'sweep' (ignored update).\n",
      "\u001b[34m\u001b[1mwandb\u001b[0m: \u001b[33mWARNING\u001b[0m Config item 'num_iterations' was locked by 'sweep' (ignored update).\n"
     ]
    },
    {
     "name": "stdout",
     "output_type": "stream",
     "text": [
      "Early stopping, best iteration is:\n",
      "[141]\ttrain's multi_logloss: 1.93112e-05\tvalid's multi_logloss: 3.24529e-05\n",
      "Training until validation scores don't improve for 100 rounds\n"
     ]
    },
    {
     "name": "stderr",
     "output_type": "stream",
     "text": [
      "2024-08-15 02:42:29,263 : python.util : INFO : 36 : Predict Validation Data\n",
      "2024-08-15 02:42:29,268 : python.util : INFO : 43 : Fold 4 Accuracy: 1.0\n",
      "2024-08-15 02:42:29,270 : python.util : INFO : 45 : Fold 4 F1 Score: 1.0\n",
      "2024-08-15 02:42:29,271 : python.util : INFO : 10 : Fold 5\n",
      "2024-08-15 02:42:29,272 : python.util : INFO : 27 : {'objective': 'multiclass', 'num_class': 5, 'metric': 'multi_logloss', 'verbosity': -1, 'boosting_type': 'gbdt', 'num_iterations': 8468, 'max_depth': 9, 'learning_rate': 0.055291970145420845, 'num_leaves': 12, 'class_weight': 'balanced'}\n",
      "2024-08-15 02:42:29,272 : python.util : INFO : 28 : Train LightGBM Model\n",
      "/usr/local/lib/python3.10/dist-packages/lightgbm/engine.py:172: UserWarning: Found `num_iterations` in params. Will use it instead of argument\n",
      "  _log_warning(f\"Found `{alias}` in params. Will use it instead of argument\")\n",
      "\u001b[34m\u001b[1mwandb\u001b[0m: \u001b[33mWARNING\u001b[0m Config item 'objective' was locked by 'sweep' (ignored update).\n",
      "\u001b[34m\u001b[1mwandb\u001b[0m: \u001b[33mWARNING\u001b[0m Config item 'num_class' was locked by 'sweep' (ignored update).\n",
      "\u001b[34m\u001b[1mwandb\u001b[0m: \u001b[33mWARNING\u001b[0m Config item 'metric' was locked by 'sweep' (ignored update).\n",
      "\u001b[34m\u001b[1mwandb\u001b[0m: \u001b[33mWARNING\u001b[0m Config item 'verbosity' was locked by 'sweep' (ignored update).\n",
      "\u001b[34m\u001b[1mwandb\u001b[0m: \u001b[33mWARNING\u001b[0m Config item 'boosting_type' was locked by 'sweep' (ignored update).\n",
      "\u001b[34m\u001b[1mwandb\u001b[0m: \u001b[33mWARNING\u001b[0m Config item 'max_depth' was locked by 'sweep' (ignored update).\n",
      "\u001b[34m\u001b[1mwandb\u001b[0m: \u001b[33mWARNING\u001b[0m Config item 'learning_rate' was locked by 'sweep' (ignored update).\n",
      "\u001b[34m\u001b[1mwandb\u001b[0m: \u001b[33mWARNING\u001b[0m Config item 'num_leaves' was locked by 'sweep' (ignored update).\n",
      "\u001b[34m\u001b[1mwandb\u001b[0m: \u001b[33mWARNING\u001b[0m Config item 'class_weight' was locked by 'sweep' (ignored update).\n",
      "\u001b[34m\u001b[1mwandb\u001b[0m: \u001b[33mWARNING\u001b[0m Config item 'num_iterations' was locked by 'sweep' (ignored update).\n"
     ]
    },
    {
     "name": "stdout",
     "output_type": "stream",
     "text": [
      "Early stopping, best iteration is:\n",
      "[160]\ttrain's multi_logloss: 1.82097e-05\tvalid's multi_logloss: 1.83955e-05\n",
      "Training until validation scores don't improve for 100 rounds\n"
     ]
    },
    {
     "name": "stderr",
     "output_type": "stream",
     "text": [
      "2024-08-15 02:42:29,986 : python.util : INFO : 36 : Predict Validation Data\n",
      "2024-08-15 02:42:29,989 : python.util : INFO : 43 : Fold 5 Accuracy: 1.0\n",
      "2024-08-15 02:42:29,993 : python.util : INFO : 45 : Fold 5 F1 Score: 1.0\n",
      "2024-08-15 02:42:29,994 : python.util : INFO : 72 : Final Accuracy: 1.0\n",
      "2024-08-15 02:42:29,994 : python.util : INFO : 73 : Final F1 Score: 1.0\n",
      "2024-08-15 02:42:29,995 : python.util : INFO : 78 : Predict Validation Data\n",
      "/usr/local/lib/python3.10/dist-packages/lightgbm/engine.py:172: UserWarning: Found `num_iterations` in params. Will use it instead of argument\n",
      "  _log_warning(f\"Found `{alias}` in params. Will use it instead of argument\")\n",
      "\u001b[34m\u001b[1mwandb\u001b[0m: \u001b[33mWARNING\u001b[0m Config item 'objective' was locked by 'sweep' (ignored update).\n",
      "\u001b[34m\u001b[1mwandb\u001b[0m: \u001b[33mWARNING\u001b[0m Config item 'num_class' was locked by 'sweep' (ignored update).\n",
      "\u001b[34m\u001b[1mwandb\u001b[0m: \u001b[33mWARNING\u001b[0m Config item 'metric' was locked by 'sweep' (ignored update).\n",
      "\u001b[34m\u001b[1mwandb\u001b[0m: \u001b[33mWARNING\u001b[0m Config item 'verbosity' was locked by 'sweep' (ignored update).\n",
      "\u001b[34m\u001b[1mwandb\u001b[0m: \u001b[33mWARNING\u001b[0m Config item 'boosting_type' was locked by 'sweep' (ignored update).\n",
      "\u001b[34m\u001b[1mwandb\u001b[0m: \u001b[33mWARNING\u001b[0m Config item 'max_depth' was locked by 'sweep' (ignored update).\n",
      "\u001b[34m\u001b[1mwandb\u001b[0m: \u001b[33mWARNING\u001b[0m Config item 'learning_rate' was locked by 'sweep' (ignored update).\n",
      "\u001b[34m\u001b[1mwandb\u001b[0m: \u001b[33mWARNING\u001b[0m Config item 'num_leaves' was locked by 'sweep' (ignored update).\n",
      "\u001b[34m\u001b[1mwandb\u001b[0m: \u001b[33mWARNING\u001b[0m Config item 'class_weight' was locked by 'sweep' (ignored update).\n",
      "\u001b[34m\u001b[1mwandb\u001b[0m: \u001b[33mWARNING\u001b[0m Config item 'num_iterations' was locked by 'sweep' (ignored update).\n"
     ]
    },
    {
     "name": "stdout",
     "output_type": "stream",
     "text": [
      "Early stopping, best iteration is:\n",
      "[141]\ttrain's multi_logloss: 1.90531e-05\tvalid's multi_logloss: 2.63432e-05\n",
      "Training until validation scores don't improve for 100 rounds\n"
     ]
    },
    {
     "name": "stderr",
     "output_type": "stream",
     "text": [
      "2024-08-15 02:42:32,011 : python.util : INFO : 89 : Validation Accuracy: 1.0\n",
      "2024-08-15 02:42:32,012 : python.util : INFO : 90 : Validation F1 Score: 1.0\n"
     ]
    },
    {
     "name": "stdout",
     "output_type": "stream",
     "text": [
      "Early stopping, best iteration is:\n",
      "[289]\ttrain's multi_logloss: 1.34209e-05\tvalid's multi_logloss: 1.75345e-05\n"
     ]
    },
    {
     "data": {
      "text/html": [
       "<style>\n",
       "    table.wandb td:nth-child(1) { padding: 0 10px; text-align: left ; width: auto;} td:nth-child(2) {text-align: left ; width: 100%}\n",
       "    .wandb-row { display: flex; flex-direction: row; flex-wrap: wrap; justify-content: flex-start; width: 100% }\n",
       "    .wandb-col { display: flex; flex-direction: column; flex-basis: 100%; flex: 1; padding: 10px; }\n",
       "    </style>\n",
       "<div class=\"wandb-row\"><div class=\"wandb-col\"><h3>Run history:</h3><br/><table class=\"wandb\"><tr><td>Accuracy</td><td>▁▁▁▁▁</td></tr><tr><td>F1 Score</td><td>▁▁▁▁▁</td></tr><tr><td>Final Accuracy</td><td>▁</td></tr><tr><td>Final F1 Score</td><td>▁</td></tr><tr><td>Fold</td><td>▁▃▅▆█</td></tr><tr><td>Validation Accuracy</td><td>▁</td></tr><tr><td>Validation F1 Score</td><td>▁</td></tr><tr><td>iteration</td><td>▁▂▂▃▄▄▁▂▃▃▄▅▅▆▇▇█▁▂▃▄▁▂▂▃▄▄▁▂▃▃▄▁▂▃▃▄▅▅▆</td></tr><tr><td>train_multi_logloss</td><td>▄▁▁▁▁▁▂▁▁▁▁▁▁▁▁▁▁▁▁▁▁█▁▁▁▁▁▂▁▁▁▁▂▁▁▁▁▁▁▁</td></tr><tr><td>valid_multi_logloss</td><td>▅▁▁▁▁▁▂▁▁▁▁▁▁▁▁▁▁▂▁▁▁█▁▁▁▁▁▂▁▁▁▁▂▁▁▁▁▁▁▁</td></tr></table><br/></div><div class=\"wandb-col\"><h3>Run summary:</h3><br/><table class=\"wandb\"><tr><td>Accuracy</td><td>1.0</td></tr><tr><td>F1 Score</td><td>1.0</td></tr><tr><td>Final Accuracy</td><td>1.0</td></tr><tr><td>Final F1 Score</td><td>1.0</td></tr><tr><td>Fold</td><td>5</td></tr><tr><td>Validation Accuracy</td><td>1.0</td></tr><tr><td>Validation F1 Score</td><td>1.0</td></tr><tr><td>iteration</td><td>388</td></tr></table><br/></div></div>"
      ],
      "text/plain": [
       "<IPython.core.display.HTML object>"
      ]
     },
     "metadata": {},
     "output_type": "display_data"
    },
    {
     "data": {
      "text/html": [
       " View run <strong style=\"color:#cdcd00\">olive-sweep-2</strong> at: <a href='https://wandb.ai/masa1357/Tree-Model/runs/tt79xt8z' target=\"_blank\">https://wandb.ai/masa1357/Tree-Model/runs/tt79xt8z</a><br/> View project at: <a href='https://wandb.ai/masa1357/Tree-Model' target=\"_blank\">https://wandb.ai/masa1357/Tree-Model</a><br/>Synced 5 W&B file(s), 0 media file(s), 0 artifact file(s) and 0 other file(s)"
      ],
      "text/plain": [
       "<IPython.core.display.HTML object>"
      ]
     },
     "metadata": {},
     "output_type": "display_data"
    },
    {
     "data": {
      "text/html": [
       "Find logs at: <code>./wandb/run-20240815_024224-tt79xt8z/logs</code>"
      ],
      "text/plain": [
       "<IPython.core.display.HTML object>"
      ]
     },
     "metadata": {},
     "output_type": "display_data"
    },
    {
     "data": {
      "text/html": [
       "The new W&B backend becomes opt-out in version 0.18.0; try it out with `wandb.require(\"core\")`! See https://wandb.me/wandb-core for more information."
      ],
      "text/plain": [
       "<IPython.core.display.HTML object>"
      ]
     },
     "metadata": {},
     "output_type": "display_data"
    },
    {
     "name": "stderr",
     "output_type": "stream",
     "text": [
      "\u001b[34m\u001b[1mwandb\u001b[0m: Agent Starting Run: u84xws3b with config:\n",
      "\u001b[34m\u001b[1mwandb\u001b[0m: \tboosting_type: dart\n",
      "\u001b[34m\u001b[1mwandb\u001b[0m: \tclass_weight: None\n",
      "\u001b[34m\u001b[1mwandb\u001b[0m: \tlearning_rate: 0.05008589597969481\n",
      "\u001b[34m\u001b[1mwandb\u001b[0m: \tmax_depth: 10\n",
      "\u001b[34m\u001b[1mwandb\u001b[0m: \tmetric: multi_logloss\n",
      "\u001b[34m\u001b[1mwandb\u001b[0m: \tnum_class: 5\n",
      "\u001b[34m\u001b[1mwandb\u001b[0m: \tnum_iterations: 5588\n",
      "\u001b[34m\u001b[1mwandb\u001b[0m: \tnum_leaves: 32\n",
      "\u001b[34m\u001b[1mwandb\u001b[0m: \tobjective: multiclass\n",
      "\u001b[34m\u001b[1mwandb\u001b[0m: \tuse_data: NONE\n",
      "\u001b[34m\u001b[1mwandb\u001b[0m: \tverbosity: -1\n",
      "\u001b[34m\u001b[1mwandb\u001b[0m: \u001b[33mWARNING\u001b[0m Ignored wandb.init() arg project when running a sweep.\n"
     ]
    },
    {
     "data": {
      "text/html": [
       "Tracking run with wandb version 0.17.6"
      ],
      "text/plain": [
       "<IPython.core.display.HTML object>"
      ]
     },
     "metadata": {},
     "output_type": "display_data"
    },
    {
     "data": {
      "text/html": [
       "Run data is saved locally in <code>/home/masa1357/Dockerdata/gitfile/Tree-Model/src/wandb/run-20240815_024240-u84xws3b</code>"
      ],
      "text/plain": [
       "<IPython.core.display.HTML object>"
      ]
     },
     "metadata": {},
     "output_type": "display_data"
    },
    {
     "data": {
      "text/html": [
       "Syncing run <strong><a href='https://wandb.ai/masa1357/Tree-Model/runs/u84xws3b' target=\"_blank\">firm-sweep-3</a></strong> to <a href='https://wandb.ai/masa1357/Tree-Model' target=\"_blank\">Weights & Biases</a> (<a href='https://wandb.me/run' target=\"_blank\">docs</a>)<br/>Sweep page: <a href='https://wandb.ai/masa1357/Tree-Model/sweeps/gszu4ra5' target=\"_blank\">https://wandb.ai/masa1357/Tree-Model/sweeps/gszu4ra5</a>"
      ],
      "text/plain": [
       "<IPython.core.display.HTML object>"
      ]
     },
     "metadata": {},
     "output_type": "display_data"
    },
    {
     "data": {
      "text/html": [
       " View project at <a href='https://wandb.ai/masa1357/Tree-Model' target=\"_blank\">https://wandb.ai/masa1357/Tree-Model</a>"
      ],
      "text/plain": [
       "<IPython.core.display.HTML object>"
      ]
     },
     "metadata": {},
     "output_type": "display_data"
    },
    {
     "data": {
      "text/html": [
       " View sweep at <a href='https://wandb.ai/masa1357/Tree-Model/sweeps/gszu4ra5' target=\"_blank\">https://wandb.ai/masa1357/Tree-Model/sweeps/gszu4ra5</a>"
      ],
      "text/plain": [
       "<IPython.core.display.HTML object>"
      ]
     },
     "metadata": {},
     "output_type": "display_data"
    },
    {
     "data": {
      "text/html": [
       " View run at <a href='https://wandb.ai/masa1357/Tree-Model/runs/u84xws3b' target=\"_blank\">https://wandb.ai/masa1357/Tree-Model/runs/u84xws3b</a>"
      ],
      "text/plain": [
       "<IPython.core.display.HTML object>"
      ]
     },
     "metadata": {},
     "output_type": "display_data"
    },
    {
     "name": "stderr",
     "output_type": "stream",
     "text": [
      "2024-08-15 02:42:41,939 : python.util : INFO : 10 : Fold 1\n",
      "2024-08-15 02:42:41,941 : python.util : INFO : 27 : {'objective': 'multiclass', 'num_class': 5, 'metric': 'multi_logloss', 'verbosity': -1, 'boosting_type': 'dart', 'num_iterations': 5588, 'max_depth': 10, 'learning_rate': 0.05008589597969481, 'num_leaves': 32, 'class_weight': 'None'}\n",
      "2024-08-15 02:42:41,942 : python.util : INFO : 28 : Train LightGBM Model\n",
      "/usr/local/lib/python3.10/dist-packages/lightgbm/engine.py:172: UserWarning: Found `num_iterations` in params. Will use it instead of argument\n",
      "  _log_warning(f\"Found `{alias}` in params. Will use it instead of argument\")\n",
      "\u001b[34m\u001b[1mwandb\u001b[0m: \u001b[33mWARNING\u001b[0m Config item 'objective' was locked by 'sweep' (ignored update).\n",
      "\u001b[34m\u001b[1mwandb\u001b[0m: \u001b[33mWARNING\u001b[0m Config item 'num_class' was locked by 'sweep' (ignored update).\n",
      "\u001b[34m\u001b[1mwandb\u001b[0m: \u001b[33mWARNING\u001b[0m Config item 'metric' was locked by 'sweep' (ignored update).\n",
      "\u001b[34m\u001b[1mwandb\u001b[0m: \u001b[33mWARNING\u001b[0m Config item 'verbosity' was locked by 'sweep' (ignored update).\n",
      "\u001b[34m\u001b[1mwandb\u001b[0m: \u001b[33mWARNING\u001b[0m Config item 'boosting_type' was locked by 'sweep' (ignored update).\n",
      "\u001b[34m\u001b[1mwandb\u001b[0m: \u001b[33mWARNING\u001b[0m Config item 'max_depth' was locked by 'sweep' (ignored update).\n",
      "\u001b[34m\u001b[1mwandb\u001b[0m: \u001b[33mWARNING\u001b[0m Config item 'learning_rate' was locked by 'sweep' (ignored update).\n",
      "\u001b[34m\u001b[1mwandb\u001b[0m: \u001b[33mWARNING\u001b[0m Config item 'num_leaves' was locked by 'sweep' (ignored update).\n",
      "\u001b[34m\u001b[1mwandb\u001b[0m: \u001b[33mWARNING\u001b[0m Config item 'class_weight' was locked by 'sweep' (ignored update).\n",
      "\u001b[34m\u001b[1mwandb\u001b[0m: \u001b[33mWARNING\u001b[0m Config item 'num_iterations' was locked by 'sweep' (ignored update).\n",
      "/usr/local/lib/python3.10/dist-packages/lightgbm/callback.py:325: UserWarning: Early stopping is not available in dart mode\n",
      "  _log_warning('Early stopping is not available in dart mode')\n",
      "2024-08-15 02:43:39,954 : python.util : INFO : 36 : Predict Validation Data\n",
      "2024-08-15 02:43:39,968 : python.util : INFO : 43 : Fold 1 Accuracy: 0.5166666666666667\n",
      "2024-08-15 02:43:39,971 : python.util : INFO : 45 : Fold 1 F1 Score: 0.43011904761904757\n",
      "2024-08-15 02:43:39,972 : python.util : INFO : 10 : Fold 2\n",
      "2024-08-15 02:43:39,973 : python.util : INFO : 27 : {'objective': 'multiclass', 'num_class': 5, 'metric': 'multi_logloss', 'verbosity': -1, 'boosting_type': 'dart', 'num_iterations': 5588, 'max_depth': 10, 'learning_rate': 0.05008589597969481, 'num_leaves': 32, 'class_weight': 'None'}\n",
      "2024-08-15 02:43:39,974 : python.util : INFO : 28 : Train LightGBM Model\n",
      "/usr/local/lib/python3.10/dist-packages/lightgbm/engine.py:172: UserWarning: Found `num_iterations` in params. Will use it instead of argument\n",
      "  _log_warning(f\"Found `{alias}` in params. Will use it instead of argument\")\n",
      "\u001b[34m\u001b[1mwandb\u001b[0m: \u001b[33mWARNING\u001b[0m Config item 'objective' was locked by 'sweep' (ignored update).\n",
      "\u001b[34m\u001b[1mwandb\u001b[0m: \u001b[33mWARNING\u001b[0m Config item 'num_class' was locked by 'sweep' (ignored update).\n",
      "\u001b[34m\u001b[1mwandb\u001b[0m: \u001b[33mWARNING\u001b[0m Config item 'metric' was locked by 'sweep' (ignored update).\n",
      "\u001b[34m\u001b[1mwandb\u001b[0m: \u001b[33mWARNING\u001b[0m Config item 'verbosity' was locked by 'sweep' (ignored update).\n",
      "\u001b[34m\u001b[1mwandb\u001b[0m: \u001b[33mWARNING\u001b[0m Config item 'boosting_type' was locked by 'sweep' (ignored update).\n",
      "\u001b[34m\u001b[1mwandb\u001b[0m: \u001b[33mWARNING\u001b[0m Config item 'max_depth' was locked by 'sweep' (ignored update).\n",
      "\u001b[34m\u001b[1mwandb\u001b[0m: \u001b[33mWARNING\u001b[0m Config item 'learning_rate' was locked by 'sweep' (ignored update).\n",
      "\u001b[34m\u001b[1mwandb\u001b[0m: \u001b[33mWARNING\u001b[0m Config item 'num_leaves' was locked by 'sweep' (ignored update).\n",
      "\u001b[34m\u001b[1mwandb\u001b[0m: \u001b[33mWARNING\u001b[0m Config item 'class_weight' was locked by 'sweep' (ignored update).\n",
      "\u001b[34m\u001b[1mwandb\u001b[0m: \u001b[33mWARNING\u001b[0m Config item 'num_iterations' was locked by 'sweep' (ignored update).\n",
      "/usr/local/lib/python3.10/dist-packages/lightgbm/callback.py:325: UserWarning: Early stopping is not available in dart mode\n",
      "  _log_warning('Early stopping is not available in dart mode')\n"
     ]
    }
   ],
   "source": [
    "sweep_id = wandb.sweep(sweep=config, project=\"Tree-Model\")\n",
    "\n",
    "wandb.agent(sweep_id, function=sweep, count=50)"
   ]
  },
  {
   "cell_type": "code",
   "execution_count": null,
   "metadata": {},
   "outputs": [],
   "source": [
    "wandb.finish()"
   ]
  },
  {
   "cell_type": "code",
   "execution_count": null,
   "metadata": {},
   "outputs": [],
   "source": []
  }
 ],
 "metadata": {
  "kernelspec": {
   "display_name": "Python 3",
   "language": "python",
   "name": "python3"
  },
  "language_info": {
   "codemirror_mode": {
    "name": "ipython",
    "version": 3
   },
   "file_extension": ".py",
   "mimetype": "text/x-python",
   "name": "python",
   "nbconvert_exporter": "python",
   "pygments_lexer": "ipython3",
   "version": "3.10.12"
  }
 },
 "nbformat": 4,
 "nbformat_minor": 2
}
